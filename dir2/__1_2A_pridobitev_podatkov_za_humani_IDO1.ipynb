{
 "cells": [
  {
   "cell_type": "markdown",
   "id": "8eb8ad2b-b27e-4765-b9cd-e92cec039132",
   "metadata": {},
   "source": [
    "# 1.2A Pridobitev, podatkov za humani IDO1"
   ]
  },
  {
   "cell_type": "markdown",
   "id": "1f0a7986-073f-44f1-a235-821e7f9d4b87",
   "metadata": {},
   "source": [
    "V koraku Pridobitev, obdelava in analiza podatkov:\n",
    "- pridobimo in združimo podatke z binding db in chembl podatkovnih baz\n",
    "- pregledamo PAINS in BRENK strukture in jih po potrebi izločimo\n",
    "- pregledamo fizikalno kemijske in ADME lastnosti aktivnih in neaktivnih molekul po izključitvah"
   ]
  },
  {
   "cell_type": "markdown",
   "id": "bfaa7c13-548f-48e3-9ce2-6059dcd008af",
   "metadata": {},
   "source": [
    "# Uvoz knjižnic in splošnih funkcij"
   ]
  },
  {
   "cell_type": "code",
   "execution_count": 1,
   "id": "29586ad7-e240-42b2-b678-e55b4c462bcf",
   "metadata": {},
   "outputs": [
    {
     "name": "stdout",
     "output_type": "stream",
     "text": [
      "/Users/samonose/PycharmProjects/IDO_inhibitors_ML_predictions/dir1\n",
      "/Users/samonose/PycharmProjects/IDO_inhibitors_ML_predictions/dir1\n"
     ]
    }
   ],
   "source": [
    "%run __A_knjiznice.py\n",
    "from __A_knjiznice import *\n",
    "from __C_konstante import *\n",
    "\n",
    "%matplotlib inline"
   ]
  },
  {
   "cell_type": "markdown",
   "id": "a4fc5667",
   "metadata": {},
   "source": [
    "# Pridobitev podatkov"
   ]
  },
  {
   "cell_type": "markdown",
   "id": "383e0fb6-126c-4eec-a36d-cc33d7907f94",
   "metadata": {},
   "source": [
    "# Pridobitev podatkov z BindingDb"
   ]
  },
  {
   "cell_type": "code",
   "execution_count": 2,
   "id": "9c8166ba-fef4-4aed-b42b-97001c2df805",
   "metadata": {},
   "outputs": [
    {
     "name": "stdout",
     "output_type": "stream",
     "text": [
      "Request https://bindingdb.org/axis2/services/BDBService/getLigandsByUniprot?uniprot=P14902;1000000 ok: 200\n"
     ]
    },
    {
     "data": {
      "text/html": [
       "<div>\n",
       "<style scoped>\n",
       "    .dataframe tbody tr th:only-of-type {\n",
       "        vertical-align: middle;\n",
       "    }\n",
       "\n",
       "    .dataframe tbody tr th {\n",
       "        vertical-align: top;\n",
       "    }\n",
       "\n",
       "    .dataframe thead th {\n",
       "        text-align: right;\n",
       "    }\n",
       "</style>\n",
       "<table border=\"1\" class=\"dataframe\">\n",
       "  <thead>\n",
       "    <tr style=\"text-align: right;\">\n",
       "      <th></th>\n",
       "      <th>monomer_id</th>\n",
       "      <th>smiles</th>\n",
       "      <th>affinity_type</th>\n",
       "      <th>affinity</th>\n",
       "      <th>target_organism</th>\n",
       "    </tr>\n",
       "  </thead>\n",
       "  <tbody>\n",
       "    <tr>\n",
       "      <th>0</th>\n",
       "      <td>17448</td>\n",
       "      <td>c1[nH]nnc1-c1ccccc1</td>\n",
       "      <td>IC50</td>\n",
       "      <td>8900</td>\n",
       "      <td>Homo sapiens</td>\n",
       "    </tr>\n",
       "    <tr>\n",
       "      <th>1</th>\n",
       "      <td>17448</td>\n",
       "      <td>c1[nH]nnc1-c1ccccc1</td>\n",
       "      <td>Ki</td>\n",
       "      <td>22500</td>\n",
       "      <td>Homo sapiens</td>\n",
       "    </tr>\n",
       "    <tr>\n",
       "      <th>2</th>\n",
       "      <td>17452</td>\n",
       "      <td>Cc1ccccc1-c1c[nH]nn1</td>\n",
       "      <td>IC50</td>\n",
       "      <td>39000</td>\n",
       "      <td>Homo sapiens</td>\n",
       "    </tr>\n",
       "    <tr>\n",
       "      <th>3</th>\n",
       "      <td>17453</td>\n",
       "      <td>COc1ccccc1-c1c[nH]nn1</td>\n",
       "      <td>IC50</td>\n",
       "      <td>&gt;100000</td>\n",
       "      <td>Homo sapiens</td>\n",
       "    </tr>\n",
       "    <tr>\n",
       "      <th>4</th>\n",
       "      <td>17459</td>\n",
       "      <td>Clc1ccc(cc1)-c1c[nH]nn1</td>\n",
       "      <td>IC50</td>\n",
       "      <td>530000</td>\n",
       "      <td>Homo sapiens</td>\n",
       "    </tr>\n",
       "    <tr>\n",
       "      <th>...</th>\n",
       "      <td>...</td>\n",
       "      <td>...</td>\n",
       "      <td>...</td>\n",
       "      <td>...</td>\n",
       "      <td>...</td>\n",
       "    </tr>\n",
       "    <tr>\n",
       "      <th>4678</th>\n",
       "      <td>50614706</td>\n",
       "      <td>C[C@H]1C\\C=C/[C@@H](c2ccccc2)c2cc(cc(NC(=O)Nc3...</td>\n",
       "      <td>IC50</td>\n",
       "      <td>12</td>\n",
       "      <td>Homo sapiens</td>\n",
       "    </tr>\n",
       "    <tr>\n",
       "      <th>4679</th>\n",
       "      <td>50614707</td>\n",
       "      <td>C[C@H]1CCC[C@@H](c2ccccc2)c2cc(cc(NC(=O)Nc3ccc...</td>\n",
       "      <td>IC50</td>\n",
       "      <td>25</td>\n",
       "      <td>Homo sapiens</td>\n",
       "    </tr>\n",
       "    <tr>\n",
       "      <th>4680</th>\n",
       "      <td>50614708</td>\n",
       "      <td>Cc1ccc(NC(=O)Nc2cc(cc3C(C=CCOc23)c2ccccc2)-c2c...</td>\n",
       "      <td>IC50</td>\n",
       "      <td>11</td>\n",
       "      <td>Homo sapiens</td>\n",
       "    </tr>\n",
       "    <tr>\n",
       "      <th>4681</th>\n",
       "      <td>50614709</td>\n",
       "      <td>Cc1ccc(NC(=O)Nc2cc(cc3C(CCCOc23)c2ccccc2)-c2cc...</td>\n",
       "      <td>IC50</td>\n",
       "      <td>1.5</td>\n",
       "      <td>Homo sapiens</td>\n",
       "    </tr>\n",
       "    <tr>\n",
       "      <th>4682</th>\n",
       "      <td>50614710</td>\n",
       "      <td>Cc1ccc(NC(=O)Nc2cc(cc3C(CCCOc23)c2ccccc2)-c2cc...</td>\n",
       "      <td>IC50</td>\n",
       "      <td>3.6</td>\n",
       "      <td>Homo sapiens</td>\n",
       "    </tr>\n",
       "  </tbody>\n",
       "</table>\n",
       "<p>4683 rows × 5 columns</p>\n",
       "</div>"
      ],
      "text/plain": [
       "     monomer_id                                             smiles  \\\n",
       "0         17448                                c1[nH]nnc1-c1ccccc1   \n",
       "1         17448                                c1[nH]nnc1-c1ccccc1   \n",
       "2         17452                               Cc1ccccc1-c1c[nH]nn1   \n",
       "3         17453                              COc1ccccc1-c1c[nH]nn1   \n",
       "4         17459                            Clc1ccc(cc1)-c1c[nH]nn1   \n",
       "...         ...                                                ...   \n",
       "4678   50614706  C[C@H]1C\\C=C/[C@@H](c2ccccc2)c2cc(cc(NC(=O)Nc3...   \n",
       "4679   50614707  C[C@H]1CCC[C@@H](c2ccccc2)c2cc(cc(NC(=O)Nc3ccc...   \n",
       "4680   50614708  Cc1ccc(NC(=O)Nc2cc(cc3C(C=CCOc23)c2ccccc2)-c2c...   \n",
       "4681   50614709  Cc1ccc(NC(=O)Nc2cc(cc3C(CCCOc23)c2ccccc2)-c2cc...   \n",
       "4682   50614710  Cc1ccc(NC(=O)Nc2cc(cc3C(CCCOc23)c2ccccc2)-c2cc...   \n",
       "\n",
       "     affinity_type affinity target_organism  \n",
       "0             IC50     8900    Homo sapiens  \n",
       "1               Ki    22500    Homo sapiens  \n",
       "2             IC50    39000    Homo sapiens  \n",
       "3             IC50  >100000    Homo sapiens  \n",
       "4             IC50   530000    Homo sapiens  \n",
       "...            ...      ...             ...  \n",
       "4678          IC50       12    Homo sapiens  \n",
       "4679          IC50       25    Homo sapiens  \n",
       "4680          IC50       11    Homo sapiens  \n",
       "4681          IC50      1.5    Homo sapiens  \n",
       "4682          IC50      3.6    Homo sapiens  \n",
       "\n",
       "[4683 rows x 5 columns]"
      ]
     },
     "execution_count": 2,
     "metadata": {},
     "output_type": "execute_result"
    }
   ],
   "source": [
    "import requests\n",
    "import xml.etree.ElementTree as ET\n",
    "import pandas as pd\n",
    "import warnings\n",
    "\n",
    "warnings.filterwarnings(\"ignore\")\n",
    "\n",
    "# Mapping of Uniprot IDs to organisms\n",
    "uniprot_organism_map = {\n",
    "    'P14902': 'Homo sapiens',\n",
    "    # 'Q6ZQW0': 'Homo sapiens',\n",
    "    # 'P48775': 'Homo sapiens',\n",
    "    # 'P28776': 'Mus musculus',\n",
    "    # 'Q8R0V5': 'Mus musculus',\n",
    "    # 'P48776': 'Mus musculus' \n",
    "}\n",
    "\n",
    "URL = [\n",
    "    'https://bindingdb.org/axis2/services/BDBService/getLigandsByUniprot?uniprot=P14902;1000000',\n",
    "    # 'https://bindingdb.org/axis2/services/BDBService/getLigandsByUniprot?uniprot=Q6ZQW0;1000000',\n",
    "    # 'https://bindingdb.org/axis2/services/BDBService/getLigandsByUniprot?uniprot=P48775;1000000',\n",
    "    # 'https://bindingdb.org/axis2/services/BDBService/getLigandsByUniprot?uniprot=P28776;1000000',\n",
    "    # 'https://bindingdb.org/axis2/services/BDBService/getLigandsByUniprot?uniprot=Q8R0V5;1000000',\n",
    "    # 'https://bindingdb.org/axis2/services/BDBService/getLigandsByUniprot?uniprot=P48776;1000000',\n",
    "]\n",
    "\n",
    "data = []\n",
    "\n",
    "for url in URL:\n",
    "    uniprot_id = url.split('?uniprot=')[1].split(';')[0]  # Extract Uniprot ID from the URL\n",
    "    target_organism = uniprot_organism_map.get(uniprot_id, 'Unknown')  # Look up organism\n",
    "    \n",
    "    response = requests.get(url)\n",
    "    if response.status_code == 200:\n",
    "        print(f\"Request {url} ok: {response.status_code}\")\n",
    "        xml_string = response.content\n",
    "        root = ET.fromstring(xml_string)\n",
    "        \n",
    "        for aff in root.iter('{http://ws.bindingdb.org/xsd}affinities'):\n",
    "            monomer_id = aff.find('{http://ws.bindingdb.org/xsd}monomerid').text\n",
    "            smiles = aff.find('{http://ws.bindingdb.org/xsd}smiles').text\n",
    "            affinity_type = aff.find('{http://ws.bindingdb.org/xsd}affinity_type').text\n",
    "            affinity = aff.find('{http://ws.bindingdb.org/xsd}affinity').text\n",
    "            \n",
    "            # Add target_organism to the data list\n",
    "            data.append([monomer_id, smiles, affinity_type, affinity, target_organism])\n",
    "    else:\n",
    "        print(f\"Request to {url} failed with status code: {response.status_code}\")\n",
    "\n",
    "# Create DataFrame with target_organism column\n",
    "df = pd.DataFrame(data, columns=['monomer_id', 'smiles', 'affinity_type', 'affinity', 'target_organism'])\n",
    "binding_db_molecules = df\n",
    "\n",
    "binding_db_molecules"
   ]
  },
  {
   "cell_type": "code",
   "execution_count": 3,
   "id": "4147cf65-1880-4146-adce-30f6d4eff96e",
   "metadata": {},
   "outputs": [],
   "source": [
    "filename = 'binding_db_molecules.csv'\n",
    "dir_path = os.path.join(PATH, filename)\n",
    "binding_db_molecules.to_csv(dir_path,index=False)"
   ]
  },
  {
   "cell_type": "code",
   "execution_count": 4,
   "id": "1f52b1c5-2cee-4d07-b86a-89878e0f2fbb",
   "metadata": {},
   "outputs": [
    {
     "name": "stdout",
     "output_type": "stream",
     "text": [
      "DataFrame shape: (4683, 5)\n"
     ]
    }
   ],
   "source": [
    "# odstranim NA vrednosti\n",
    "\n",
    "binding_db_molecules.dropna(axis=0, how=\"any\", inplace=True)\n",
    "print(f\"DataFrame shape: {binding_db_molecules.shape}\")"
   ]
  },
  {
   "cell_type": "code",
   "execution_count": 5,
   "id": "92104cf9-8be4-499b-a7e2-c90976f55a87",
   "metadata": {},
   "outputs": [
    {
     "data": {
      "text/plain": [
       "(4186, 5)"
      ]
     },
     "execution_count": 5,
     "metadata": {},
     "output_type": "execute_result"
    }
   ],
   "source": [
    "# podatkovni okvir filtriram tako da spremljamo le IC50 vrednosti\n",
    "\n",
    "binding_db_molecules = binding_db_molecules[binding_db_molecules['affinity_type'] == 'IC50']\n",
    "binding_db_molecules.shape"
   ]
  },
  {
   "cell_type": "code",
   "execution_count": 6,
   "id": "bad1f1d9-6c9e-45cd-b2cb-9078eaed827d",
   "metadata": {},
   "outputs": [],
   "source": [
    "# afiniteto preimenujem v IC50, odstranim tudi ne-enacaje\n",
    "\n",
    "warnings.filterwarnings(\"ignore\")\n",
    "\n",
    "binding_db_molecules['affinity'] = binding_db_molecules['affinity'].str.replace('[><]', '', regex=True)\n",
    "\n",
    "binding_db_molecules = binding_db_molecules.astype({\"affinity\": \"float64\"})\n",
    "\n",
    "binding_db_molecules.drop(columns=['affinity_type'],  inplace=True)\n",
    "\n",
    "binding_db_molecules.rename(\n",
    "    columns={\"affinity\": \"IC50\"}, inplace=True\n",
    ")\n",
    "#binding_db_molecules.head()"
   ]
  },
  {
   "cell_type": "code",
   "execution_count": 7,
   "id": "a088ff73-8237-4da5-a277-23a4b6f2384f",
   "metadata": {},
   "outputs": [],
   "source": [
    "def convert_ic50_to_pic50(IC50_value):\n",
    "    pIC50_value = 9 - math.log10(IC50_value)\n",
    "    return pIC50_value"
   ]
  },
  {
   "cell_type": "code",
   "execution_count": 8,
   "id": "6e93df9a-0c42-4039-b0a3-36e02fe277a1",
   "metadata": {},
   "outputs": [
    {
     "data": {
      "text/html": [
       "<div>\n",
       "<style scoped>\n",
       "    .dataframe tbody tr th:only-of-type {\n",
       "        vertical-align: middle;\n",
       "    }\n",
       "\n",
       "    .dataframe tbody tr th {\n",
       "        vertical-align: top;\n",
       "    }\n",
       "\n",
       "    .dataframe thead th {\n",
       "        text-align: right;\n",
       "    }\n",
       "</style>\n",
       "<table border=\"1\" class=\"dataframe\">\n",
       "  <thead>\n",
       "    <tr style=\"text-align: right;\">\n",
       "      <th></th>\n",
       "      <th>monomer_id</th>\n",
       "      <th>smiles</th>\n",
       "      <th>IC50</th>\n",
       "      <th>target_organism</th>\n",
       "      <th>pIC50</th>\n",
       "    </tr>\n",
       "  </thead>\n",
       "  <tbody>\n",
       "    <tr>\n",
       "      <th>0</th>\n",
       "      <td>17448</td>\n",
       "      <td>c1[nH]nnc1-c1ccccc1</td>\n",
       "      <td>8900.0</td>\n",
       "      <td>Homo sapiens</td>\n",
       "      <td>5.050610</td>\n",
       "    </tr>\n",
       "    <tr>\n",
       "      <th>2</th>\n",
       "      <td>17452</td>\n",
       "      <td>Cc1ccccc1-c1c[nH]nn1</td>\n",
       "      <td>39000.0</td>\n",
       "      <td>Homo sapiens</td>\n",
       "      <td>4.408935</td>\n",
       "    </tr>\n",
       "    <tr>\n",
       "      <th>3</th>\n",
       "      <td>17453</td>\n",
       "      <td>COc1ccccc1-c1c[nH]nn1</td>\n",
       "      <td>100000.0</td>\n",
       "      <td>Homo sapiens</td>\n",
       "      <td>4.000000</td>\n",
       "    </tr>\n",
       "    <tr>\n",
       "      <th>4</th>\n",
       "      <td>17459</td>\n",
       "      <td>Clc1ccc(cc1)-c1c[nH]nn1</td>\n",
       "      <td>530000.0</td>\n",
       "      <td>Homo sapiens</td>\n",
       "      <td>3.275724</td>\n",
       "    </tr>\n",
       "    <tr>\n",
       "      <th>5</th>\n",
       "      <td>17462</td>\n",
       "      <td>Cc1cccc(c1)-c1c[nH]nn1</td>\n",
       "      <td>7000.0</td>\n",
       "      <td>Homo sapiens</td>\n",
       "      <td>5.154902</td>\n",
       "    </tr>\n",
       "    <tr>\n",
       "      <th>...</th>\n",
       "      <td>...</td>\n",
       "      <td>...</td>\n",
       "      <td>...</td>\n",
       "      <td>...</td>\n",
       "      <td>...</td>\n",
       "    </tr>\n",
       "    <tr>\n",
       "      <th>4678</th>\n",
       "      <td>50614706</td>\n",
       "      <td>C[C@H]1C\\C=C/[C@@H](c2ccccc2)c2cc(cc(NC(=O)Nc3...</td>\n",
       "      <td>12.0</td>\n",
       "      <td>Homo sapiens</td>\n",
       "      <td>7.920819</td>\n",
       "    </tr>\n",
       "    <tr>\n",
       "      <th>4679</th>\n",
       "      <td>50614707</td>\n",
       "      <td>C[C@H]1CCC[C@@H](c2ccccc2)c2cc(cc(NC(=O)Nc3ccc...</td>\n",
       "      <td>25.0</td>\n",
       "      <td>Homo sapiens</td>\n",
       "      <td>7.602060</td>\n",
       "    </tr>\n",
       "    <tr>\n",
       "      <th>4680</th>\n",
       "      <td>50614708</td>\n",
       "      <td>Cc1ccc(NC(=O)Nc2cc(cc3C(C=CCOc23)c2ccccc2)-c2c...</td>\n",
       "      <td>11.0</td>\n",
       "      <td>Homo sapiens</td>\n",
       "      <td>7.958607</td>\n",
       "    </tr>\n",
       "    <tr>\n",
       "      <th>4681</th>\n",
       "      <td>50614709</td>\n",
       "      <td>Cc1ccc(NC(=O)Nc2cc(cc3C(CCCOc23)c2ccccc2)-c2cc...</td>\n",
       "      <td>1.5</td>\n",
       "      <td>Homo sapiens</td>\n",
       "      <td>8.823909</td>\n",
       "    </tr>\n",
       "    <tr>\n",
       "      <th>4682</th>\n",
       "      <td>50614710</td>\n",
       "      <td>Cc1ccc(NC(=O)Nc2cc(cc3C(CCCOc23)c2ccccc2)-c2cc...</td>\n",
       "      <td>3.6</td>\n",
       "      <td>Homo sapiens</td>\n",
       "      <td>8.443697</td>\n",
       "    </tr>\n",
       "  </tbody>\n",
       "</table>\n",
       "<p>4186 rows × 5 columns</p>\n",
       "</div>"
      ],
      "text/plain": [
       "     monomer_id                                             smiles      IC50  \\\n",
       "0         17448                                c1[nH]nnc1-c1ccccc1    8900.0   \n",
       "2         17452                               Cc1ccccc1-c1c[nH]nn1   39000.0   \n",
       "3         17453                              COc1ccccc1-c1c[nH]nn1  100000.0   \n",
       "4         17459                            Clc1ccc(cc1)-c1c[nH]nn1  530000.0   \n",
       "5         17462                             Cc1cccc(c1)-c1c[nH]nn1    7000.0   \n",
       "...         ...                                                ...       ...   \n",
       "4678   50614706  C[C@H]1C\\C=C/[C@@H](c2ccccc2)c2cc(cc(NC(=O)Nc3...      12.0   \n",
       "4679   50614707  C[C@H]1CCC[C@@H](c2ccccc2)c2cc(cc(NC(=O)Nc3ccc...      25.0   \n",
       "4680   50614708  Cc1ccc(NC(=O)Nc2cc(cc3C(C=CCOc23)c2ccccc2)-c2c...      11.0   \n",
       "4681   50614709  Cc1ccc(NC(=O)Nc2cc(cc3C(CCCOc23)c2ccccc2)-c2cc...       1.5   \n",
       "4682   50614710  Cc1ccc(NC(=O)Nc2cc(cc3C(CCCOc23)c2ccccc2)-c2cc...       3.6   \n",
       "\n",
       "     target_organism     pIC50  \n",
       "0       Homo sapiens  5.050610  \n",
       "2       Homo sapiens  4.408935  \n",
       "3       Homo sapiens  4.000000  \n",
       "4       Homo sapiens  3.275724  \n",
       "5       Homo sapiens  5.154902  \n",
       "...              ...       ...  \n",
       "4678    Homo sapiens  7.920819  \n",
       "4679    Homo sapiens  7.602060  \n",
       "4680    Homo sapiens  7.958607  \n",
       "4681    Homo sapiens  8.823909  \n",
       "4682    Homo sapiens  8.443697  \n",
       "\n",
       "[4186 rows x 5 columns]"
      ]
     },
     "execution_count": 8,
     "metadata": {},
     "output_type": "execute_result"
    }
   ],
   "source": [
    "# Apply conversion to each row of the compounds DataFrame\n",
    "binding_db_molecules[\"pIC50\"] = binding_db_molecules.apply(lambda x: convert_ic50_to_pic50(x.IC50), axis=1)\n",
    "binding_db_molecules"
   ]
  },
  {
   "cell_type": "code",
   "execution_count": 9,
   "id": "3d164674-fb37-4555-be76-d2890e04fe81",
   "metadata": {},
   "outputs": [
    {
     "data": {
      "text/plain": [
       "4186"
      ]
     },
     "execution_count": 9,
     "metadata": {},
     "output_type": "execute_result"
    }
   ],
   "source": [
    "# unikatnih smilesov je manj kot vseh vrstic, torej imamo prisotne duplikate\n",
    "n_unique_smiles_w_ic_50 = binding_db_molecules['smiles'].nunique()\n",
    "n_unique_smiles_w_ic_50"
   ]
  },
  {
   "cell_type": "markdown",
   "id": "8c71e760-ec0e-434a-8827-6bd9132bc7e5",
   "metadata": {},
   "source": [
    "Pristop za duplikate je tak da kadar imam rezulata na cloveku in misi vzamem le rezultat cloveka. Ko imam duplikate znotraj tarcnega organizma pa vzamem nizji IC50"
   ]
  },
  {
   "cell_type": "code",
   "execution_count": 10,
   "id": "fa307eeb-6772-4216-990f-40fabc312395",
   "metadata": {},
   "outputs": [
    {
     "data": {
      "text/html": [
       "<div>\n",
       "<style scoped>\n",
       "    .dataframe tbody tr th:only-of-type {\n",
       "        vertical-align: middle;\n",
       "    }\n",
       "\n",
       "    .dataframe tbody tr th {\n",
       "        vertical-align: top;\n",
       "    }\n",
       "\n",
       "    .dataframe thead th {\n",
       "        text-align: right;\n",
       "    }\n",
       "</style>\n",
       "<table border=\"1\" class=\"dataframe\">\n",
       "  <thead>\n",
       "    <tr style=\"text-align: right;\">\n",
       "      <th></th>\n",
       "      <th>monomer_id</th>\n",
       "      <th>smiles</th>\n",
       "      <th>IC50</th>\n",
       "      <th>target_organism</th>\n",
       "      <th>pIC50</th>\n",
       "    </tr>\n",
       "  </thead>\n",
       "  <tbody>\n",
       "    <tr>\n",
       "      <th>0</th>\n",
       "      <td>168435</td>\n",
       "      <td>CC(C)CN(C1CCCCC1)c1ccc(cc1NC(=O)Nc1cc(C)no1)[C...</td>\n",
       "      <td>0.5</td>\n",
       "      <td>Homo sapiens</td>\n",
       "      <td>9.301030</td>\n",
       "    </tr>\n",
       "    <tr>\n",
       "      <th>1</th>\n",
       "      <td>17448</td>\n",
       "      <td>c1[nH]nnc1-c1ccccc1</td>\n",
       "      <td>8900.0</td>\n",
       "      <td>Homo sapiens</td>\n",
       "      <td>5.050610</td>\n",
       "    </tr>\n",
       "    <tr>\n",
       "      <th>2</th>\n",
       "      <td>17452</td>\n",
       "      <td>Cc1ccccc1-c1c[nH]nn1</td>\n",
       "      <td>39000.0</td>\n",
       "      <td>Homo sapiens</td>\n",
       "      <td>4.408935</td>\n",
       "    </tr>\n",
       "    <tr>\n",
       "      <th>3</th>\n",
       "      <td>17453</td>\n",
       "      <td>COc1ccccc1-c1c[nH]nn1</td>\n",
       "      <td>100000.0</td>\n",
       "      <td>Homo sapiens</td>\n",
       "      <td>4.000000</td>\n",
       "    </tr>\n",
       "    <tr>\n",
       "      <th>4</th>\n",
       "      <td>17459</td>\n",
       "      <td>Clc1ccc(cc1)-c1c[nH]nn1</td>\n",
       "      <td>530000.0</td>\n",
       "      <td>Homo sapiens</td>\n",
       "      <td>3.275724</td>\n",
       "    </tr>\n",
       "    <tr>\n",
       "      <th>...</th>\n",
       "      <td>...</td>\n",
       "      <td>...</td>\n",
       "      <td>...</td>\n",
       "      <td>...</td>\n",
       "      <td>...</td>\n",
       "    </tr>\n",
       "    <tr>\n",
       "      <th>4181</th>\n",
       "      <td>83922</td>\n",
       "      <td>Cc1coc-2c1C(=O)C(=O)c1c3CCCC(C)(C)c3ccc-21</td>\n",
       "      <td>10000.0</td>\n",
       "      <td>Homo sapiens</td>\n",
       "      <td>5.000000</td>\n",
       "    </tr>\n",
       "    <tr>\n",
       "      <th>4182</th>\n",
       "      <td>87319</td>\n",
       "      <td>N1c2ccccc2Sc2cnccc12</td>\n",
       "      <td>421600.0</td>\n",
       "      <td>Homo sapiens</td>\n",
       "      <td>3.375099</td>\n",
       "    </tr>\n",
       "    <tr>\n",
       "      <th>4183</th>\n",
       "      <td>91466</td>\n",
       "      <td>COCCn1c2ccccc2nc2c1nc(=O)n(-c1ccccc1)c2=O</td>\n",
       "      <td>23770.0</td>\n",
       "      <td>Homo sapiens</td>\n",
       "      <td>4.623971</td>\n",
       "    </tr>\n",
       "    <tr>\n",
       "      <th>4184</th>\n",
       "      <td>92508</td>\n",
       "      <td>FC(F)(F)c1cccc(NC(=O)C(C#N)C(=S)Nc2ccccc2Cl)c1</td>\n",
       "      <td>6300.0</td>\n",
       "      <td>Homo sapiens</td>\n",
       "      <td>5.200659</td>\n",
       "    </tr>\n",
       "    <tr>\n",
       "      <th>4185</th>\n",
       "      <td>93887</td>\n",
       "      <td>[O-][N+](=O)c1ccc(Nc2ccccc2)c2nonc12</td>\n",
       "      <td>76000.0</td>\n",
       "      <td>Homo sapiens</td>\n",
       "      <td>4.119186</td>\n",
       "    </tr>\n",
       "  </tbody>\n",
       "</table>\n",
       "<p>4186 rows × 5 columns</p>\n",
       "</div>"
      ],
      "text/plain": [
       "     monomer_id                                             smiles      IC50  \\\n",
       "0        168435  CC(C)CN(C1CCCCC1)c1ccc(cc1NC(=O)Nc1cc(C)no1)[C...       0.5   \n",
       "1         17448                                c1[nH]nnc1-c1ccccc1    8900.0   \n",
       "2         17452                               Cc1ccccc1-c1c[nH]nn1   39000.0   \n",
       "3         17453                              COc1ccccc1-c1c[nH]nn1  100000.0   \n",
       "4         17459                            Clc1ccc(cc1)-c1c[nH]nn1  530000.0   \n",
       "...         ...                                                ...       ...   \n",
       "4181      83922         Cc1coc-2c1C(=O)C(=O)c1c3CCCC(C)(C)c3ccc-21   10000.0   \n",
       "4182      87319                               N1c2ccccc2Sc2cnccc12  421600.0   \n",
       "4183      91466          COCCn1c2ccccc2nc2c1nc(=O)n(-c1ccccc1)c2=O   23770.0   \n",
       "4184      92508     FC(F)(F)c1cccc(NC(=O)C(C#N)C(=S)Nc2ccccc2Cl)c1    6300.0   \n",
       "4185      93887               [O-][N+](=O)c1ccc(Nc2ccccc2)c2nonc12   76000.0   \n",
       "\n",
       "     target_organism     pIC50  \n",
       "0       Homo sapiens  9.301030  \n",
       "1       Homo sapiens  5.050610  \n",
       "2       Homo sapiens  4.408935  \n",
       "3       Homo sapiens  4.000000  \n",
       "4       Homo sapiens  3.275724  \n",
       "...              ...       ...  \n",
       "4181    Homo sapiens  5.000000  \n",
       "4182    Homo sapiens  3.375099  \n",
       "4183    Homo sapiens  4.623971  \n",
       "4184    Homo sapiens  5.200659  \n",
       "4185    Homo sapiens  4.119186  \n",
       "\n",
       "[4186 rows x 5 columns]"
      ]
     },
     "execution_count": 10,
     "metadata": {},
     "output_type": "execute_result"
    }
   ],
   "source": [
    "binding_db_mol = binding_db_molecules.sort_values(by=['monomer_id','target_organism', 'IC50'], ascending=[True, True, True])\n",
    "binding_db_mol_2 = binding_db_mol.drop_duplicates(subset='monomer_id', keep='first').reset_index(drop=True)\n",
    "binding_db_mol_2"
   ]
  },
  {
   "cell_type": "code",
   "execution_count": 11,
   "id": "ea651a6b-306c-431a-9697-e83909abbf97",
   "metadata": {},
   "outputs": [],
   "source": [
    "#binding_db_molecules.hist(column=\"pIC50\")"
   ]
  },
  {
   "cell_type": "code",
   "execution_count": 12,
   "id": "67422755-2187-4fbe-8026-14f19df00496",
   "metadata": {},
   "outputs": [],
   "source": [
    "# binding_db_molecules = binding_db_molecules.to_csv('binding_db_molecules.csv')\n",
    "# binding_db_molecules = pd.read_csv('binding_db_molecules.csv')\n",
    "# #binding_db_molecules"
   ]
  },
  {
   "cell_type": "code",
   "execution_count": 13,
   "id": "a813ec1e-0a0c-43f9-b60b-9ebc0880c02b",
   "metadata": {},
   "outputs": [
    {
     "name": "stderr",
     "output_type": "stream",
     "text": [
      "[21:38:50] Can't kekulize mol.  Unkekulized atoms: 7 8 9 10 12 13 14\n",
      "[21:38:50] Can't kekulize mol.  Unkekulized atoms: 8 9 10 12 14 15 16\n",
      "[21:38:50] SMILES Parse Error: syntax error while parsing: [K;v0+].[#8-]-[#6](=O)-c1cccc(-[#7]-[#6](=O)-c2c-3c(-[#6](=O)-c4cccnc4-[#6]-3=O)n3ccccc23)c1\n",
      "[21:38:50] SMILES Parse Error: Failed parsing SMILES '[K;v0+].[#8-]-[#6](=O)-c1cccc(-[#7]-[#6](=O)-c2c-3c(-[#6](=O)-c4cccnc4-[#6]-3=O)n3ccccc23)c1' for input: '[K;v0+].[#8-]-[#6](=O)-c1cccc(-[#7]-[#6](=O)-c2c-3c(-[#6](=O)-c4cccnc4-[#6]-3=O)n3ccccc23)c1'\n",
      "[21:38:50] SMILES Parse Error: syntax error while parsing: [K;v0+].[#8-]-[#6](=O)-c1cccc(-[#7]-[#6](=O)-c2c-3c(-[#6](=O)-c4ncccc4-[#6]-3=O)n3ccccc23)c1\n",
      "[21:38:50] SMILES Parse Error: Failed parsing SMILES '[K;v0+].[#8-]-[#6](=O)-c1cccc(-[#7]-[#6](=O)-c2c-3c(-[#6](=O)-c4ncccc4-[#6]-3=O)n3ccccc23)c1' for input: '[K;v0+].[#8-]-[#6](=O)-c1cccc(-[#7]-[#6](=O)-c2c-3c(-[#6](=O)-c4ncccc4-[#6]-3=O)n3ccccc23)c1'\n",
      "[21:38:50] SMILES Parse Error: syntax error while parsing: [#8]\\[#7]=[#6](/[#7]-c1ccc(F)c(Br)c1)-c1nonc1-[#7]-[#6]-[#6]-n1[se;v2]c2ccccc2c1=O\n",
      "[21:38:50] SMILES Parse Error: Failed parsing SMILES '[#8]\\[#7]=[#6](/[#7]-c1ccc(F)c(Br)c1)-c1nonc1-[#7]-[#6]-[#6]-n1[se;v2]c2ccccc2c1=O' for input: '[#8]\\[#7]=[#6](/[#7]-c1ccc(F)c(Br)c1)-c1nonc1-[#7]-[#6]-[#6]-n1[se;v2]c2ccccc2c1=O'\n",
      "[21:38:50] SMILES Parse Error: syntax error while parsing: [#6]-[#6][Se;v2]c1ccc(-[#7]\\[#6](=[#7]/[#8])-c2nonc2-[#7]-[#6]-[#6]-[#7]2-[#6]-[#6]-[#7]S2(=O)=O)cc1Br\n",
      "[21:38:50] SMILES Parse Error: Failed parsing SMILES '[#6]-[#6][Se;v2]c1ccc(-[#7]\\[#6](=[#7]/[#8])-c2nonc2-[#7]-[#6]-[#6]-[#7]2-[#6]-[#6]-[#7]S2(=O)=O)cc1Br' for input: '[#6]-[#6][Se;v2]c1ccc(-[#7]\\[#6](=[#7]/[#8])-c2nonc2-[#7]-[#6]-[#6]-[#7]2-[#6]-[#6]-[#7]S2(=O)=O)cc1Br'\n",
      "[21:38:50] Explicit valence for atom # 27 H, 2, is greater than permitted\n",
      "[21:38:50] Explicit valence for atom # 28 H, 2, is greater than permitted\n"
     ]
    },
    {
     "data": {
      "text/html": [
       "<div>\n",
       "<style scoped>\n",
       "    .dataframe tbody tr th:only-of-type {\n",
       "        vertical-align: middle;\n",
       "    }\n",
       "\n",
       "    .dataframe tbody tr th {\n",
       "        vertical-align: top;\n",
       "    }\n",
       "\n",
       "    .dataframe thead th {\n",
       "        text-align: right;\n",
       "    }\n",
       "</style>\n",
       "<table border=\"1\" class=\"dataframe\">\n",
       "  <thead>\n",
       "    <tr style=\"text-align: right;\">\n",
       "      <th></th>\n",
       "      <th>monomer_id</th>\n",
       "      <th>smiles</th>\n",
       "      <th>IC50</th>\n",
       "      <th>target_organism</th>\n",
       "      <th>pIC50</th>\n",
       "    </tr>\n",
       "  </thead>\n",
       "  <tbody>\n",
       "    <tr>\n",
       "      <th>0</th>\n",
       "      <td>168435</td>\n",
       "      <td>Cc1cc(NC(=O)Nc2cc([C@H]3C[C@H]3C(=O)O)ccc2N(CC...</td>\n",
       "      <td>0.5</td>\n",
       "      <td>Homo sapiens</td>\n",
       "      <td>9.301030</td>\n",
       "    </tr>\n",
       "    <tr>\n",
       "      <th>1</th>\n",
       "      <td>17448</td>\n",
       "      <td>c1ccc(-c2c[nH]nn2)cc1</td>\n",
       "      <td>8900.0</td>\n",
       "      <td>Homo sapiens</td>\n",
       "      <td>5.050610</td>\n",
       "    </tr>\n",
       "    <tr>\n",
       "      <th>2</th>\n",
       "      <td>17452</td>\n",
       "      <td>Cc1ccccc1-c1c[nH]nn1</td>\n",
       "      <td>39000.0</td>\n",
       "      <td>Homo sapiens</td>\n",
       "      <td>4.408935</td>\n",
       "    </tr>\n",
       "    <tr>\n",
       "      <th>3</th>\n",
       "      <td>17453</td>\n",
       "      <td>COc1ccccc1-c1c[nH]nn1</td>\n",
       "      <td>100000.0</td>\n",
       "      <td>Homo sapiens</td>\n",
       "      <td>4.000000</td>\n",
       "    </tr>\n",
       "    <tr>\n",
       "      <th>4</th>\n",
       "      <td>17459</td>\n",
       "      <td>Clc1ccc(-c2c[nH]nn2)cc1</td>\n",
       "      <td>530000.0</td>\n",
       "      <td>Homo sapiens</td>\n",
       "      <td>3.275724</td>\n",
       "    </tr>\n",
       "  </tbody>\n",
       "</table>\n",
       "</div>"
      ],
      "text/plain": [
       "  monomer_id                                             smiles      IC50  \\\n",
       "0     168435  Cc1cc(NC(=O)Nc2cc([C@H]3C[C@H]3C(=O)O)ccc2N(CC...       0.5   \n",
       "1      17448                              c1ccc(-c2c[nH]nn2)cc1    8900.0   \n",
       "2      17452                               Cc1ccccc1-c1c[nH]nn1   39000.0   \n",
       "3      17453                              COc1ccccc1-c1c[nH]nn1  100000.0   \n",
       "4      17459                            Clc1ccc(-c2c[nH]nn2)cc1  530000.0   \n",
       "\n",
       "  target_organism     pIC50  \n",
       "0    Homo sapiens  9.301030  \n",
       "1    Homo sapiens  5.050610  \n",
       "2    Homo sapiens  4.408935  \n",
       "3    Homo sapiens  4.000000  \n",
       "4    Homo sapiens  3.275724  "
      ]
     },
     "execution_count": 13,
     "metadata": {},
     "output_type": "execute_result"
    }
   ],
   "source": [
    "binding_db_molecules = binding_db_mol_2\n",
    "\n",
    "def smiles_to_canonical(smiles):\n",
    "    mol = Chem.MolFromSmiles(smiles)\n",
    "    if mol:\n",
    "        canonical_smiles = Chem.MolToSmiles(mol, isomericSmiles=True, canonical=True)\n",
    "        return canonical_smiles\n",
    "    else:\n",
    "        return None  # Handle invalid SMILES\n",
    "\n",
    "# Apply the function to the 'smiles' column and store the results in a new 'canonical_smiles' column\n",
    "binding_db_molecules['smiles'] = binding_db_molecules['smiles'].apply(smiles_to_canonical)\n",
    "binding_db_molecules.dropna(subset=['smiles'], inplace=True)\n",
    "binding_db_molecules.head()"
   ]
  },
  {
   "cell_type": "code",
   "execution_count": 14,
   "id": "f4fecc2e-c013-4c5e-b763-1a048d16f68a",
   "metadata": {},
   "outputs": [
    {
     "data": {
      "text/html": [
       "<div>\n",
       "<style scoped>\n",
       "    .dataframe tbody tr th:only-of-type {\n",
       "        vertical-align: middle;\n",
       "    }\n",
       "\n",
       "    .dataframe tbody tr th {\n",
       "        vertical-align: top;\n",
       "    }\n",
       "\n",
       "    .dataframe thead th {\n",
       "        text-align: right;\n",
       "    }\n",
       "</style>\n",
       "<table border=\"1\" class=\"dataframe\">\n",
       "  <thead>\n",
       "    <tr style=\"text-align: right;\">\n",
       "      <th></th>\n",
       "      <th>monomer_id</th>\n",
       "      <th>smiles</th>\n",
       "      <th>IC50</th>\n",
       "      <th>target_organism</th>\n",
       "      <th>pIC50</th>\n",
       "      <th>ROMol</th>\n",
       "    </tr>\n",
       "  </thead>\n",
       "  <tbody>\n",
       "    <tr>\n",
       "      <th>0</th>\n",
       "      <td>50442991</td>\n",
       "      <td>O=C1c2cc([N+](=O)[O-])ccc2-n2c1nc1ccccc1c2=O</td>\n",
       "      <td>0.018</td>\n",
       "      <td>Homo sapiens</td>\n",
       "      <td>10.744727</td>\n",
       "      <td style=\"text-align: center;\"><div style=\"width: 200px; height: 200px\" data-content=\"rdkit/molecule\"><img src=\"data:image/png;base64,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\" alt=\"Mol\"/></div></td>\n",
       "    </tr>\n",
       "    <tr>\n",
       "      <th>1</th>\n",
       "      <td>50604021</td>\n",
       "      <td>Cc1cc(C2CC2)ncc1-c1ccc(C2(C(=O)Nc3ccc(F)cc3)CO...</td>\n",
       "      <td>0.080</td>\n",
       "      <td>Homo sapiens</td>\n",
       "      <td>10.096910</td>\n",
       "      <td style=\"text-align: center;\"><div style=\"width: 200px; height: 200px\" data-content=\"rdkit/molecule\"><img src=\"data:image/png;base64,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\" alt=\"Mol\"/></div></td>\n",
       "    </tr>\n",
       "    <tr>\n",
       "      <th>2</th>\n",
       "      <td>50538503</td>\n",
       "      <td>O=C(Nc1ccc(C2(C(=O)Nc3ccc(F)cc3)COC2)cc1)c1ccc...</td>\n",
       "      <td>0.090</td>\n",
       "      <td>Homo sapiens</td>\n",
       "      <td>10.045757</td>\n",
       "      <td style=\"text-align: center;\"><div style=\"width: 200px; height: 200px\" data-content=\"rdkit/molecule\"><img src=\"data:image/png;base64,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\" alt=\"Mol\"/></div></td>\n",
       "    </tr>\n",
       "    <tr>\n",
       "      <th>3</th>\n",
       "      <td>50567132</td>\n",
       "      <td>O=C(Nc1ccc(F)cc1)C1(C2CCC3C(CCCN3c3ccnc(C(F)(F...</td>\n",
       "      <td>0.100</td>\n",
       "      <td>Homo sapiens</td>\n",
       "      <td>10.000000</td>\n",
       "      <td style=\"text-align: center;\"><div style=\"width: 200px; height: 200px\" data-content=\"rdkit/molecule\"><img src=\"data:image/png;base64,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\" alt=\"Mol\"/></div></td>\n",
       "    </tr>\n",
       "    <tr>\n",
       "      <th>4</th>\n",
       "      <td>309529</td>\n",
       "      <td>O=C1CC(c2c[nH]c3ccc(F)cc23)C(=O)N1</td>\n",
       "      <td>0.120</td>\n",
       "      <td>Homo sapiens</td>\n",
       "      <td>9.920819</td>\n",
       "      <td style=\"text-align: center;\"><div style=\"width: 200px; height: 200px\" data-content=\"rdkit/molecule\"><img src=\"data:image/png;base64,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\" alt=\"Mol\"/></div></td>\n",
       "    </tr>\n",
       "    <tr>\n",
       "      <th>...</th>\n",
       "      <td>...</td>\n",
       "      <td>...</td>\n",
       "      <td>...</td>\n",
       "      <td>...</td>\n",
       "      <td>...</td>\n",
       "      <td>...</td>\n",
       "    </tr>\n",
       "    <tr>\n",
       "      <th>4122</th>\n",
       "      <td>32203</td>\n",
       "      <td>Oc1cccc2cccnc12</td>\n",
       "      <td>750000.000</td>\n",
       "      <td>Homo sapiens</td>\n",
       "      <td>3.124939</td>\n",
       "      <td style=\"text-align: center;\"><div style=\"width: 200px; height: 200px\" data-content=\"rdkit/molecule\"><img src=\"data:image/png;base64,iVBORw0KGgoAAAANSUhEUgAAAMgAAADICAIAAAAiOjnJAAAABmJLR0QA/wD/AP+gvaeTAAAcNElEQVR4nO2de1yUVRrHfzNcBURARNESEa9AtKKpSCgJWa6ga17W1dA0IzOlzEzdLnTzs5BWk6TmapuoaZmijqaZd0EShUVXvGSCmjfCARQEZmCYs38ce5tmBpjb+77DzPl+/KPOnDnnAX++73Oe85znSAghYDCsjVRsAxj2CRMWgxeYsBi8wITF4AUmLAYvMGExeIEJi8ELTFgMXmDCYvACExaDF5iwGLzAhMXgBSYsBi8wYTF4gQmLwQtMWAxeYMJi8AITFoMXmLAYvMCExeAFJiwGLzBhMXjBmfcZrl9HVhYKC1FdDS8vhIdj7Fj06PGnPqtWobgYCxagY0fdr2dlITcX06bhkUd4N5VhRQivfPghcXMjAHF1JR06PPhvZ2fy+uuksfGPbsOGEYAUFRkYYdYsApDvvuPXToa14fNV+MEHeOstdOiArVtRVYWyMlRXQy7Hww9j2TK8+iqPUzPEhjdhFRfj/ffRti2OHMG4cXBzAwAXFyQmIjsb7dvj88+Rn8/X7Ayx4U1Ya9dCrcbs2QgJ0f2oSxe8/joIwerVfM3OEBvehHXsGACMGmX408TEP/ow7BHeVoVXrwLQXf1x9Or1Rx8OmQz+/ro98/KsbBhDEHgTVk0NAHh6Gv7UxQVublCpoFI9cL8ArF3LlzEMweHtVUglReWlT0PDA0lxqgKQm4vyct0/06fzZSGDT3h7YgUF4dYtFBcjMNDAp7/8AgDBwX9q9PaGn59uT23lMVoPvD2xHn8cAPbtM/zp3r1/9GHYI7wJa8YMSKVYuRK3b+t+VFmJTz4BgBde4Gt2htjwJqw+fTBvHioqEBeHEyf+aD99GvHxuHULzz+PgQP5mp0hNnxuQqenQ6XCihWIisJDD6FjR5SXPwgxPPccVq7kcWqG2PApLCcnZGRgxgxs2oSCAlRVISgIY8Zg0iQMHvynnqNGISQEvr4GBomORn29rpvPsHkkhFVNZvAA//lY2vz6K9atg6cn5s8XdF6G4Aj7xCosRGQkQkJw+bJwkzLEQFhhNTbC1xfV1bh9G506CTcvQ3CEzXl3cnoQYvjpJ0HnZQiO4IcphgwBgNxcoedlCAsTFoMXBA83VFXBzw/Ozrh7F+7ugk7NEBDBn1je3ggNhUqFggKhp2YIiBgHVtnb0AFgwmLwAhMWgxfEEFaPHujUCWVlLP5ux4hUFCQqCgCOHxdndgb/iCosB46/19WhpAQlJdCP9lRVoaQEd++KYZb1EElY0dGAQz+xcnIQEoKQEGzcqPvRpk0ICcGqVWKYZT1EElb//nB3x7lzqKwUxwCb4bXXoFCIbQQPiCQsNzdERoIQBz/oHBQEhQJvvim2HTwgXkU/+jZ07KDD6NEYOBBr19rhr0E8YdFolgO7WQAkEshkIAQvvoiGBrGtsSpiCysvD2q1aDbYAFFRmDIFRUWQycQ2xaqIJ6yAgIxx4+J69Tpz9qxoNtgGS5fCxwfvvosrV8Q2xXqIWTU539PzUGFhtmO/DQF06oR330VtLV57TWxTrIeYwhoyZAiAXPtzXE1nzhz064cdO3SLXSxYgHfeQUGBgTiqjcOEZRM4OWHFCkileP11NDY+aKyrw6pV+OADDBiATp0wdSp27YJKJaqhRiOmsMLCwnx9fa9du3bjxg0RzbARoqIwfTqKipCZ+aDFxQVZWXjpJTz0EMrKsGEDRo9GQAAmTcLmzba+5yOmsKRS6aBBg8AeWr/z0Ufw98epUw/+19kZI0Zg5Upcv46iIqSmon9/VFfj228xeTL8/fH440hPf1BrzNYQ+cqTqKgoAD850m50eXmTH/n5YckSwx+FheHdd5GfjytXsHo1EhIgleL4cSxahF69EBaGRYuQk2NDrpjIwoqOjgZw3GEWhitWoEcPFBY22WHmzAeZH00RFITkZOzahd9+w5YtSEqCtzfOn0d6OmJi0K0bXnwRu3ahvt7qtpuIuBdj3L9/39nZ2cXFpaamRlxLBODttwlAJBKyerU1h62rI99/T5KTSWAgAR788fUlc+fe2bJlS1VVlTUnMxqRhUUI6devH4AjR46IbQiPaDRk3jwCECcn8uWXPE5UVERSU0n//gQgsbE/AHB2do6OjpbJZNevX+dxYj3EF9acOXMALFmyRGxD+KKhgTz3HAGImxvZulWgSS9dIhkZW2JiYpycnOirSSKRPPbYYx9++OHZs2cFMEB8YX399dcAEhISxDaEF5RKMnYsAYiXF/nxRxEMUCgUW7ZsSUpKatu2Lef/dOvWLTk5WS6X19fX8zSv+MK6evUqAF9f30bti+bsgrt3SUwMAYifH/npJwMdqqrI4sVEqRTCmLq6uv3796ekpHTu3JlTmJ+f34QJEzIzM+/du2fd6cQXFiHkoYceAnD+/HmxDbEmpaWkXz8CkMBAYvDlc+cOGTCAAGTWLEENa2xszM/PT01NDQ0N5RTm7u4eHx8vk8lu3LhhlVlsQlgTJkwAsHbtWrENsRpXr5JevQhAuncnxcUGOty6RR55hAAkOJj88ovg9v3OhQsX0tPThwwZIpU+CDxJpdLBgwePHj362rVrloxsE8L69NNPAcyYMUNsQ6zD+fPk4YcJQCIjyW+/GehQXExCQghAwsKIlR4QlnLnzp3MzMwJEyZ4eXlxfpglA9qEsPLy8gD06dNHbEOswKlTpEMHApChQ8nduwY6FBSQgAACkIEDiUIhuH0tUVNT89lnn1FtnT592uxxbEJY9fX1Hh4eEonkzp07YttiEYcPE29vApCEBFJba6DD0aOkXTsCkLg4Ul0tuH1G4+fnB2Dx4sVmjyDylg7FxcVlwIABhJAT2ndYtDbkcowciaoqTJmCrCy0aaPb4fvv8fTTuHcPY8fi++/x+zvHFvn73/8OoN6SjSHrqdwikpOTAURGRu7bt0+lUoltjsmsX0+cnQlAXn6ZGAybfP01cXF5sAa0/bjKDz/8ACAqKsrsEWxCWCdPnvT19fXx8aFa9/DwSEhIyMzMrKysFNs0o/jii31SqQYg771nuMOKFUQqJQBZuFBYy8zl3r17Tk5Orq6utQbf6EYgvrAOHz7s7e0NIDY2dtGiRREREdzT1MXFJT4+PiMjw8KlL68sXrwYQGzsoowMwx3S0h7sPX/0kbCWGcfNmzdXrVr17bff6rTTv4js7GzzhhVZWHK53N3dHcDkyZO57YWrV6+uXr06ISHB1dWVE1loaOjChQuzs7M1Go24NnNoNJpXXnkFgJOT03/+8x9DHchrrz3Ye16zRngDjWLPnj0AoqOjddpnzZoFID093bxhxRTWhg0bnJ2dAbz88ssG93MqKiroPhd9pFG6du1K97nEdcVUKhX1cN3c3LKysvQ7qNVk+nQCEFdX8t13whtoLJWVlVKp1M3NTfnnraX169cDGDNmjHnDiias5cuX02jvQiP8DqVSSfe5unTpwinM09OTumJ3DcaL+KSmpmbkyJEAvLy8Dhw4oN+htrb2xRd/AkjbtuTgQYGtM5mwsDAAubm52o2XL18G4O/vb94rQhxhpaWlAZBIJB9//LGp3y0qKkpNTe3fvz+nMCcnJyFTjiorK2nia0BAwH//+1/9Dnfv3h06dKiHh0dMTPbJkwJYZCkvvPACgGXLlum0BwYGArh06ZIZYwotLI1G8+qrrzbjlxhPSUmJTCaLj493cXHRdsVSU1Pz8/N5csVKS0v/8pe/AAgKCvr555/1O5SXl9MTIoGBgf/73//4sMHqfPXVVwCeeeYZnfZnnnkGwFdffWXGmIIKS6VSTZo0ifol27Zt0+9gXuZMeXm5fspRUFCQ1VOOrly50rNnTwB9+vT59ddf9Ttcu3atd+/eALp373758mVrzcs3P//8M4COHTvqtC9duhRAcnKyGWMKJyxtv2T//v36HZRK5bhx45YuXWr2FAZTjnx9fa2ScnTu3Dma3tO/f/+ysjL9DhcuXHj44YcBhIeH37x505K5BEaj0QQEBAAo/nMmBj2WFxYWZsaYAgmrsrLy8ccfB+Dn53fixAn9Dvfu3YuNjaXeYnl5uYXTcSlH2q6YJSlHJ0+e9Pf3p8E2gwLNz8/v0KEDgJiYGOEXE5YzZswYAOvXr9duVCqV7u7uEonEjL8RIYTF+SVdu3a9ePGifofy8vLBgwdTv+TMmTPWnb24uJi6YjS0oeOKGTPCoUOH6Es2MTHRYCT6yJEjNCAyatQos0PV4pKeng5gll7OIV2m7Nmzx9QBeRdWi37JzZs3w8PDAQQHB/PqlygUCp2UIzppSkrK/v37m3LFduzYQUO4zz77bENDg34HuVzepk0bnRhvqyM7OxtARESETvuCBQsAvPXWW6YOyK+wzp8/37xfcvHixa5du9IXuWB+SW1trVwuT05O7qR1y2v79u2pK6Z9EC8zM5M+5+bOnWtwYbFhwwa6Jp09e3arztlXKpVubm5SqVTnPb59+3YAw4cPN3VAHoXF+SXDhg0z6JcUFBRQn3HQoEEKMXLeOFesb9+++q7Ye++9J5FImgnhZmRkGB/jtX2oN7Jv3z7txjt37kgkEk9PT4NP62bgS1gt+iVHjx5t164dgLi4uGobyHmjrlh0dDSX/d22bVupVLpy5UqD/bkYr35csZUyf/58AKmpqTrt1JMx0h/l4EVYLfolu3bton7JP/7xD1vzS27duvXFF1+Eh4dLJJIRI0bod9CO8X7J67lmYdm6dSuAJ598Uqd92rRpAJYvX27SaNYXFueXzJkzx6DbsXHjRuqXvPTSSzbrlzTlzBJCpk+fTt+YO3fuFN4w/igtLaXPabVard2+evVqAJMmTTJpNCsLSyaTNe+XfP75563CL2nKmSWEyOVyHx8fgzHe1k737t0BFBYWajeePXuWhopMGspqwtJoNKmpqdTt+PTTTw324fwSS8LrgkFrd/3www/6H7XGEKgxPPvsswBWrFih3ajRaOjZCoPRoqawjrDUajVNWnd2dl63bp1+B41GM2/ePOqXtJaDqdSZfeedd8Q2RDhWrlwJYMqUKTrtdC/um2++MX4oKwhLpVJNnDgRgIeHh8EQrVqtpn6Jm5vbVsHqrVjMtm3bAMTHx4ttiHCcPn2aBo112t9//30Ar7zyivFDWSqs+/fvP/300wB8fHwM5kcrlcqxY8fSvecfRam3Yi7UmfXy8jI1hNN6aWxspDEgne3UgwcPAqBH9IzEImFVVFTQktodO3bU8fgo1dXVcXFxdO/5J4P1Vmwbg86sfTNixAgA3/05mZoWXnR2djY+4mj+gdXS0tInnngiNzc3KCgoOzubbjNrU1ZWNnTo0IMHDwYGBh45coQGdlsXjlYiFU2UG/b09IyIiFCr1fn5+UaOY6awrly5EhMTc+bMmb59++bk5NDgrDbXrl2LiYkpLCzs3r17Tk7OI488Yt5E4uKAVxw09W/J5F+FGU/LoqIieqhhwIABBqstcClvkZGRvxmst9JKOHPmDCyuu9K6qKqqcnJy0i83vGnTJgCjRo0ychyThZWXl9e+fXsATzzxhMGKvFzK29ChQ1t7vKcpZ9a+efTRRwEcO3ZMu/HatWswpfCiacI6ePAg3VoeM2ZMXV2dfgfuWHNCQkIrTXnTwaAza9/Mnj0bwL/+9S+ddpoBde7cOWMGMcHH2rFjx1//+tfq6uqpU6du3bqVbjNrs2vXrpEjR1ZVVU2ePDkrK6uNfr2VVogDullNXRdi2q/CSBWvWrWK7vGlpKQYPFnV4rHmVsqPP/4IYNCgQWIbIhwlJSUwdFRVJpMBmD59ujGDGCWstLS05reWTTrW3Lpoypm1b+jiTOeAwsmTJwH07t3bmBFaEFZjYyNX92J1Ezd1WHKsuVVAQ3RHjx4V2xDhGDduHACdE8Vc4UWDWeY6NCcslUpFj1+6urrql7khVj3WbMs05czaMR9//DGAmTNn6rQPGzYMgFwub3GE5oQV9fs9VDKZTP/TFo812w0bN24EkJiYKLYhwkE999DQUJ32f/7znwAWLVrU4gjNCYuu+/SToIkRx5rtCerMtm/f3nZKc/EN99bTOaq6e/duADExMS2O0Fy4wcPDA0Btba1O+927d5966qm9e/f6+fkdOHAgPj7eqPVnqyU4OLhLly7l5eWXLl0S2xaBcHFx6d+/P/n90cVBrxo4depUi3VvmxPWwIEDAVy/fl2nvb6+vqysrGvXrrm5ubSyit1DvQKH2o2mUSsdYfn6+vbu3VupVBY2c5kngOaFRR1zGsvXJiAgYO/evTk5OdS1dwQc8IphKiyzd6ObE1ZUVJSTk1NBQUFdXZ3OR927d6fbzA6CA+bPDBkyRCKR5OXlNTQ06LTDQmF5e3uHhYXV19cXFBRYbmirJjIy0sPD4+LFiwqFQmxbBMLf379nz551dXU0xYODCisnJ6f5r7ewV+iAO2UG4ZxZeu2Pg2Dwb793794dOnQoLS2lF002BROWsdC3oUP9KoYMGdKuXTudsIBEIuGqPDT35eajERaWzrUndu7cCSA2NlZsQ4RDpVIZzCeg90uGh4c3890WnlghISGBgYEKhYIqzJHhnFmLri5qVbi6unIlUrSJiYkBUFxc3Mx3W87HcsAQjkH8/f179eql78w6ILR8SPP5dsYKy6FCOE3BPM7GxsbExMRjx44BoIeQm6JlYTlgCKcpHFxY9fX1U6ZM2b17t7Oz85tvvrls2bLmerfowVlSOtfOOHfuHIDOnTuLbYgI1NTU0CPv7dq10zlnYRCjMkjNLp1rZ3B1V2z5mjs+4G556dixo8FbXvQx6jCFA4ZwDCKRSBxwKVNaWhobG3v8+PGgoKBjx47169fPmG8ZJSz622TCguMtZa5evTp06FB65D07O7tXr17GftOYx5rZpXPtj8OHDwOIjIwU2xAhOHfuHHfk3Zg8d22MPf5lXulc+6O2ttbFxcXJyckWKj3zSou3vDSPsQdWHXylzdGmTZtHH320sbGRnoWyVw4dOhQXF6dQKEaPHr13717tG26NhAnLZOw+sLdjx45Ro0ZVV1cnJSVt27ZN/8i7MTBhmYx9++/0uiGlUjl37tx169Zp32xlGka+Ms0rnWuX3LhxA4CPj4/Bnf9WXQqlxWrqxmNCtRkzSufaK/RiqbNnz+q019bWent7R0dHp6WlGbxAz2bRaDRvvPEGAIlEYvAYqamYICwzSufaK/Skrn7NgZycHO0LqiMiIt5++23+Lqi2Fmq1mt437urqunnzZquMaYKwzCida68sX74cwLRp0/Q/un//vlwuT0pKohXbKAEBAUlJSXK5XKlUCm5sC6hUKpq411Q1dfMwQVhmlM61V2iN1549ezbTR61WZ2dnp6SkaB9n8vDwSEhIyMzMrKysFMzaZrh///5TTz2Fpqupm41pFf0iIyMBHD582IoWtEYaGhroNa23b982pn9RURG9oJq6xgCcnJyoK3bp0iW+rW2KFqupW4JpwpozZw6AJUuWWNeI1sjw4cMBbNiwwaRvXb16dfXq1QkJCdquWGho6MKFC7Ozs4V0xW7fvh0REQGgW7dufIjbNGGZWjrXXlGpVBEREV26dJFKpeatASsqKrZs2ZKUlKQd1O7atWtycrJcLlepVDxZTikpKenRoweAvn37Xr9+nY8pTBOWqaVz7ZL79+/TirceHh46a8C33nrr1KlTJj146urq9u/fn5KSQrd7Kb6+vvSCaj7KThcVFXXu3BnAY489ZrCaulUwuRy3SaVz7Q8dv8S6a0DOFeOGoq6YTCaz1nOlxWrq1sJkYdGLvtasWcOHNTbO7du3aQ30oKAgHb/EumvAkpISmUwWHx+v44qlpqZaEhU7cOAAXXM0VU3dipgsLJNK59oTxvslRUVFaWlp0dHRlq8BFQoFdcVoeX1Kt27dqCtm0nXamzdvpjKdOnWqAHl1JgvLpNK5dkOLt7wYxIprQM4Vo+4Rxc/Pj7piLeZLtVhN3eqYLCyTSufaB5b7JVZcAzY2Nubk5LzxxhvaWcIpKSnNfIUra22w6idPmHNJk/Glc+2AFm95MQmDa0BPT0/qipm6Brxw4UJaWlpUVNShQ4cMdtBoNAsWLECz1dR5whxhGV86t7Wzfft2Nzc3nvwSvteAarV65syZaLqaOq+YIyzjS+e2agTzS/hYA6pUqvHjx9PH4d69e61uc4uYI6yKigqpVOru7s53gFhEWrzlhQ/Ky8utsgbkQri+vr7Hjx/n1eamMPNO6L59+wI4ceKEda2xBUT0SzgsWQNWVFTQ5OlOnTqdPn1aMJt1MFNYzz//PIBPPvnEutaIjrh+iT6NjY35+fmpqamhoaGcwtzd3ePj42Uymf71nLdu3aK3JAcHB//yyy+i2EwxU1hffvklgPHjx+t/tG3btokTJ27atMlGUo6Mh/NLPDw8RPFLmqe4uJi6YtoHHKgrRq09ePAgrVkVGhoq+pWwZgrrwoUL9GGr/xFNR7Qk3CwKnF/i4+OTk5MjtjnNUVpaumbNmsTERO3SZy4uLtQp7NixY0VFhdg2missjUZDL36+cuWKzkdcuNnV1dXCcLNg2IhfYiq1tbVyuXz8+PFcQcf27dvbyO3uZgqLEJKYmAhg48aNTXUQN+XIeDi/pFu3buL6JWajUqmWL1/+zTff2E7WuPnCWrhwIYyrIqxUKq0YbrYuJSUlISEhNuKX2BPmC4ueVGnTpo1J3xIg5ch4zp49y6W8KRQKgWe3b8wXVnl5OVVGYGDgvHnzbCTlyHhOnDhBz3YPHz6c15Q3x8R8YRFCaMiHW5XEx8dnZGSYWkbRYLg5KCjIjJQj49m9eze9jfFvf/sb3ylvjolFwiKEZGdnT5w4MSYmxvI1oIUpR8azadMm+picNm0aKyXHE5YKi4NbA2pnf5udcmRSuNkkVq5cSRfnCxcutM3Yh31gNWFxNDQ00OxveuzCwjVgM+FmM8oLcilv6enppn6XYRLWF5Y2zawBTS2HpFAoaOkmehyAEhwcnJKSsn///hZdMY1GM3/+fGrAv//9bwt+JoZR8CssjitXrhhcA5rhitXU1GRlZT333HO0QialQ4cO+nsAHGq1esaMGQBcXV23bNlihZ+H0RICCYuDWwNqh+PNWwNyrljfvn07d+7clDqVSuW4cePo63jfvn1W+jkYLSC0sDgMrgG5E8CmrgGb2iCrrq5+8skn6ci5ubnWMJxhFKIJi4N78Gi7YlZZA5aXl9O7QAMDA8+cOWNFmxktIr6wtLHiGvDmzZvh4eHUwb98+TJPBjOawraExcGtAbXD8cavAS9evEjLhIaFhd28eVMYmxna2KiwOGpra6krFhgYqB+ON7jHV1BQEBAQAGDQoEFsa1ksbF1YHNprQH1XjHssffbZZ56engDi4uJsJznJAZEQQtDauHDhws6dO3fu3Hny5EmNRgNAIpF4eXkFBQUVFRUBGDVq1Pbt27VjZgyBaZXC4lAoFHv27Nm9e/f27dvVajVtDA8PLywsNP9KBYY1aN3C4igrK1u6dGleXt6wYcM++OADsc1h2IuwGLaGsZc0MRgmwYTF4AUmLAYvMGExeIEJi8ELTFgMXmDCYvACExaDF5iwGLzAhMXgBSYsBi8wYTF4gQmLwQtMWAxeYMJi8AITFoMXmLAYvMCExeAFJiwGLzBhMXiBCYvBC/8HApdZ2gZK/pgAAAECelRYdHJka2l0UEtMIHJka2l0IDIwMjQuMDMuNgAAeJx7v2/tPQYgEABiRgYI4AZiHiBuYORgyADSzIyMbA4aIAYLmwNYgJkRG4OgEnaIEmaYUm4GRgVGpgwmJuYEZpYMJhbWBFa2DCY29gR2jgwmDs4ETq4MJi7GBC7WBCcmoAY2Ri5WFmYmNjZ2Dk4uVvE+JCczcG/792C/bLykA4gj5bdtv4Zkvj2IPbVT8YCh94a9ILaHIc+BKLNj+0Hs4zcd9++69g/M3pyw3u5ZVwWYfcP3sf3lp1vA7BJOCwf9oJP7QGz1jUoO0nc7wGYuetNrX117EMxefkLY5sKG33YgthgA/Vs9vNWGJPkAAAFQelRYdE1PTCByZGtpdCAyMDI0LjAzLjYAAHicfZJLbgMhDIb3cwpfoCM/AS/zUlVVmZHatHfovvdX7YkSEgkVxgjMB9j+Z4JsH8f3n1+4Nz5OEwD+87k7fAsiTmfICexPr28LHC67/c1zWL+WyycQAXGcif7M7i7r+eYhWOGF5mq1VgGexYuGG2fcWj/KcEhQWdk89l3EaxuAkiDPxorM8BJAK9hoQOqVJEfDlpebNhMdkJYkZpTMnqQ7Oo9eL0HiLBGkWB7xGs/7AKwBRt7VGsmWGAmX0dstQJ5btShR3igujDYAfQNNGQvH1VicdRQiISyxT9hq05gYUVEegbQlg+jIKYk6WZMBeFqOT6JeZd6vy7HLnJ27mBomXTJN67pkt178WEDpFdaw2uuoYa1XS8O810TD6DF3zYHoIUnN4R4b8dVRHrN7zCXXt9895tMfDMmdE/wlR58AAACqelRYdFNNSUxFUyByZGtpdCAyMDI0LjAzLjYAAHicHY7LDcNQCARbyTGRntHye4BcRIrwPRW4+ICRuIwYdr8XXz3S+7tYXvf7YAqPiCWktU3X2cTEZC9QqVZkIyEXg6wDhNxI1AO54LxacEsfFfNMpIZVoZqB1MTVx61ou9XODM/HNNaOOoUy3HOOtFTgg9wEezFhl/hYjOw6Hce8bV4DBQG4u1qxp67P/QcG2S9kIpK2awAAAABJRU5ErkJggg==\" alt=\"Mol\"/></div></td>\n",
       "    </tr>\n",
       "    <tr>\n",
       "      <th>4123</th>\n",
       "      <td>50051819</td>\n",
       "      <td>Clc1ccc(CCn2ccnc2)c(Cl)c1</td>\n",
       "      <td>820000.000</td>\n",
       "      <td>Homo sapiens</td>\n",
       "      <td>3.086186</td>\n",
       "      <td style=\"text-align: center;\"><div style=\"width: 200px; height: 200px\" data-content=\"rdkit/molecule\"><img src=\"data:image/png;base64,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\" alt=\"Mol\"/></div></td>\n",
       "    </tr>\n",
       "    <tr>\n",
       "      <th>4124</th>\n",
       "      <td>24676</td>\n",
       "      <td>O=Cc1cccc(-c2c[nH]cn2)c1</td>\n",
       "      <td>825000.000</td>\n",
       "      <td>Homo sapiens</td>\n",
       "      <td>3.083546</td>\n",
       "      <td style=\"text-align: center;\"><div style=\"width: 200px; height: 200px\" data-content=\"rdkit/molecule\"><img src=\"data:image/png;base64,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\" alt=\"Mol\"/></div></td>\n",
       "    </tr>\n",
       "    <tr>\n",
       "      <th>4125</th>\n",
       "      <td>50051840</td>\n",
       "      <td>OC(Cn1ccnc1)c1ccc(Cl)c(Cl)c1</td>\n",
       "      <td>830000.000</td>\n",
       "      <td>Homo sapiens</td>\n",
       "      <td>3.080922</td>\n",
       "      <td style=\"text-align: center;\"><div style=\"width: 200px; height: 200px\" data-content=\"rdkit/molecule\"><img src=\"data:image/png;base64,iVBORw0KGgoAAAANSUhEUgAAAMgAAADICAIAAAAiOjnJAAAABmJLR0QA/wD/AP+gvaeTAAAWDklEQVR4nO3deVRTZ94H8G8IIJsIgmAIIkKrFouVqtVpXHos44KculQq2iJ1RlCrpGJHGTvTwU5tR6tVVI7WZY6l1rpO5zVj1VOxLmmrKMWCSEUBrRAWFQPKEpbwvH9cxIgsEe6TUPh9jsdD4OZ5ngvf3HvzLDcSxhgIEZuFuRtAOicKFuGCgkW4oGARLihYhAsKFuGCgkW4oGARLihYhAsKFuGCgkW4oGARLihYhAsKFuGCgkW4oGARLihYhAsKFuGCgkW4oGARLihYhAsKFuGCgkW4oGARLihYhAsKFuGCgkW4oGARLihYhAsKFuGCgkW4oGARLihYhAsKFuGCgkW4oGARLihYhAsKFuGCgkW4oGARLihYhAsKFuGCgkW4oGARLihYhAsKFuGCgkW4oGARLihYhAsKFuGCgkW4oGARLihYhAsKFuGCgkW4oGARLihYhAsKFuGCgkW4oGB1chm6jEsVl0xfr6XpqyRcpVamRudFl+pLLSWW7/d+X1Ot0eq1AXYBJm4GBatTqairmJI9JcE7YazDWK1em1SeZK6W0KmwU/mx7McBNgPGOowF4Cx1nug40VwtoWB1KgW1BZ5WnuZuBUDB6mR6W/bOr8k3dysAClYno3BQXNFduVB+QXj4QP/AXC2hi/dOxd7C/mC/g+/mvSuBpIbVhDqHOkodrSXWpm+JhDFm+loJJ1/f+3qi48Selj3rUGdh1tMRBavzSK9MH/zrYDcrt1vP3zLLUcoQXWN1Hutvr2dgM51nmj1VoCNWp3G79nbf9L7VddXXBl3z7eZr7ubQEauziL8Tr6vTTXWa2hFSBTpidQ5VrKpvet+imiJ1f/Uoh1Hmbg5AR6zOIaE4oaimaJjdsA6SKlCwOgEGtvH2RgDvub9n7rY8QsH63TtWeixDlyG3kr/u9Lq52/KIKYJVUVFx5MiR+/fvm6CuLujQzkNDa4YqeymtJFbmbosBxlNJSUlcXJynp6etra1MJrt16xbX6rqgtLQ0iUTi4OCg1WrN3ZbH8ApWZmbmwoUL7ezshPhaW1sDGDx4cEfb/9+7uXPnAnj33XfN3ZDGxA+WWq0OCQmRSqVCpBQKhUql0mq1gwcPBjBmzJjKykrRK+2aioqKbGxsLCwssrKyzN2WxkQLVnU1++qrr1588UUhTzY2NhERERkZGQ0b5OXl9e3bF8Brr71WW1srVr1d2QcffABg+vTp5m5IE0QIVmkpi4tjXl7shRfGAnBzc4uJidFoNIyx27dvr1y5MjY2VtjyypUrPXv2BDB//vz219vF6XQ6d3d3AGq12txtaUK7gpWVxaKimIMDAxjApk79fufOnTqdjjF25cqViIgIGxsbAPb29g2XVufPn7e3twfwz3/+U4Tmd2Hbtm0DMGzYMHM3pGltDFZyMgsLY5aW9ZFSKJhKxerqGGNMrVYHBwdLJBIAFhYWgYGBKpXK8LkqlcrS0hLA5s2b278DXVNdXZ2fnx+AvXv3mrstTWslWM7ObM+e+q9DQ1lyMlOp2Msv1+fJ2pqFhbG0NMYY0+nYV1/9n3CFDsDOzu6dd965du1ak8Vu375dKrV65ZXUw4fF3JnOTavVpqenHz9+fNeuXW+99RYADw+P6upqc7eraa1MTZZI8MknmDQJzs4oK0NGBubMAQBXVyxciEWL4O6O0lJs3Ih16+Djk5eWlubu7r5gwYKoqCgXF5fmio2IiCgvD4qOlicl4cQJKBRP2fnWeWm12pycnPz8/IKCAsP/s7KySktLDbf09PTs2bOncOzvgFpplp0dFi3CihX4/HMAGDgQc+dixAjMmQNbW2RmYuVKfPklKioAwNPz7YQEx9DQmUKvVcuWLJHn5GDzZkyejLNn8fBI1/kVFhbm5ubev39fo9Hk5eUVFBTcunWroKBAo9EUFhbW1dU190R7e3svLy+ZTCaXyx0dHXfv3p2Xl7d169Z33nnHlO03VssHNE9PVlvLhg1j586x4GB24UL999VqFhLCpFIGMImEBQY+usYynl7PZsxgAJPL2W+/temA+3sTFRXV8p/D2dnZz88vMDAwMjIyNjZ227ZtKpUqOTlZeJdt6NChQwBsbGx++eUXs+xLy1qZj9WnD3JzceEClEq4uGDlSgwfjpAQHDoEALa2CAtDdDQGDmxjrKurERSEkyfh5we1Gj17trGc34WioiKZTMYY69mzp7+/f58+fWQymaenp1wul8lkXl5e7u7uVlaPjfcxxoqKivLz8zUajUajyc/Pz83NfeGFF5YsWQIgMjJyx44dfn5+Fy9ebBjk6Chazp2nZ/0XkZHM3r7+iBUfz9zcWEwMy88XIdqlpWzIEAawESNYWZkIBXZYH330EYDhw4c3+r5Op9NoNMnJyQcOHIiLi4uJiQkLCwsMDPTz8xO6ZhqZOHGi8MTKykp/f390yH7BVoI1aFD9F8XFrF8/lpLCGGOVlUynE7MRGg3r25cBLDiY1dSIWXLHUV1dLZfLASQmJjLGLl68GBQU5O/v38JbHIGrq6u/v//kyZPnzZsXGxu7Y8cOwx7Ry5cv29raouP1Oxg1NfnCBeTlYfJkdOvWhmOiUX79FaNHw80Np0/DzY1XLWaUkJDw9ttv+/v7p6amSiSSc+fOvfzyy8KPrK2tXVxcPDw8ZDJZw/8+Pj7C+bF79+4tlxwfHx8VFeXk5HTp0iVvb2/ue2Ico4LVrx9u3kRWFnx5ztNPSYG3NzZtglaLjRsB4MQJXLqE5ctbf25VVZVwCdLofVZGRsagQYMOHjwojH6YUUBAwC+//PLFF1+Eh4cDePDgwenTpz09PWUyWe/evdtZ+NSpUw8fPqxQKE6fPt1ROiCMOawpFAxgp0/zPXgKwsOZXM6++44xxvbvZ4sXP/rRnTssLY19+y3bsYOtXMkiItjkySwkJKtXr14t7+PYsWNN0fTmJSYmAnBzc+M0s+PevXteXl4A/vGPf/Aovw2MSrdcDgAaTXtDbKQPPkB0NJKT6x/GxOA//4FGA52uiY0HD3a9c+eOlZVV7969+/Tp4+HhIZfL5XK5h4dHnz59rl69qlQqz5w5s2fPnjfffNNEO/CEDRs2AIiKihIGT0Xn7Oy8e/fucePGrVq1auzYsePGjeNRy1PpiMF65hlMmYJ//QuDBgFASQmyswGgRw94ekIuh0wGLy/IZMJDOw+PAnd3d2F0spExY8ZIJJLIyMgFCxYMHz68f//+JtoHA9euXTt27Jitre2CBQv41TJmzJgVK1asWrVqzpw5qamprb4n4M6Yw9q6dQxgppmlGB7OEhNZeTkbOJCtWcMWL2Y3b7KrV1l5edvLnDVrFoBhw4ZVVVWJ11JjCXlasGAB74pqamoUCgWAyZMn1z1tb7XYjArW3r0MYDNm8G4MYw+DxRg7fJi5uDx2jdVmWq1WeLsUExMjQnFPo7i42N7eXiKRGM555OfWrVvCjLf4+HgTVNcCo1bpmPhUKHjtNTx8P95eTk5O+/fvt7KyWrt27YkTJ8Qp1DhbtmwpLy8PCgp67rnnTFBdnz59tm/fDuC9995LTU3lV9HlysutbGFM+rKzGcC8vHinnKlULCnpUR9pVVW7zoCNCB3fbm5uBQUFohXaoqqqKplMhoedoiYTEREBwM/Pr1y8X9/R0qMzc2ZOuD7hs6LP9EwvT5O3vL1RwaqsZBIJs7Jier0YbWxGcTFzcWFSKeM0qKrX61999VUAEydONM0lyK5duwD4+/ub+IqnsrJSmBgn1lDPkZIjz2c8n1qRerfm7scFH+dU5YgTLMbY2LG3R426XlhY2u5GNmvxYgawceP41cDy8vJcXV0BfPbZZxyreWjIkCEAvvjiCxPU1Uh6erooQz13au7o6nSTrk9SlTw2DVi0YAmvgJ9//rmNDWxNRgazsmJSaf18VH6+/fZbiURiZWV1/vx5rhUJnaLu7u7mWu62efNmAE5OTjdu3Ghhs6qaqptVN3948MP+e/s3FG1Ymrt0Vs6s0ZmjfdJ9bC7Z4GccLz0+8MrALN1jK8xaDZax3f9yuTwtLU2j0TQs8BJXdDRqarBoEfz9eRT/SFBQ0KJFi+Lj4996662UlJRWR+LajHenaKsWL16cmJh4+PDhmTNnnjhx4u7du8Jk1EYzVO9V3ys5XNJcIU5Spwd1D5ykTiX6ZrdpmpHxF64Ht27dauT2T+XwYQYwZ2d25w6P4hvT6XTCSSo8PJxTFZmZmRYWFra2tndMs0vNuHv3rkwmazTHqxFLS8tnLz878urIadnTlLnK1YWrvyz+8tT9U1crr5br66/9/6r5a3RutGHJYh6xAGg4dDlUV2PZMgBYuRKurqIX34Ru3bodOHDgxRdfTEhICAwMFBYmiGv9+vV1dXXh4eGuptmlx0VHR9va2i5dulSYcnPq1ClbW1tvb29hpEsY+W4Y/nJ3d29Ytt6cGPeY13Nen5Q1qb9N/5SKlP399rfeCCOzv2PHDgBz585tw+umZZ9+ygD23HPMxOtNhP4eBweHzMxMcUs2cadoI/n5+dbW1lKpNDs7Oy8vz8rKytLS8jcxpn7fqLpxsfyitlbLGLuuu97yxsYG6+jRowDGjx9fX8eNG+fOnWv/ZWlRUamraxXAjh1rZ0ltwWmoR+gwCw4OFrFM4/3tb38DEBISwhhbtmwZgNmzZ5u+GcYGS+jGHfRwRunKlSsBWFpa+vn5hYWFxcXFJScn65++m2vevHne3s/On3/uaZ8oipKSkn79+gFYvny5WGU2dIqePHlSrDKNV15eLpx8f/rpp7KyMmF4JykpyfQtMTZYd+/eBdCjRw/h4aZNmwYPHtzo3NyjR49XX311xYoV//3vf59cVfKklJQUqVRqbW0t+snIeElJSVZWVhKJ5MiRI0/73PLy8szMzFOnTu3evXvNmjVKpXL69Ol+fn4SiWTAgAHCNmfPnv3Tn/5ksg7SLVu24OG0+o0bNwIYPXq0aapuxNhg1dXVCW+bDV+IZWVlarU6Li4uLCxM+IUa5kwmkwUHB8fGxqpUquLi4ifLHDNmDIC//OUv4uxKW61atQrND/Xcu3cvPT39xIkTCQkJq1evjoyMDA4OHjp0qEwma3KijvACc3NzKy4urqioEGaHrlu3zgQ7UldXJ4xI7t+/X6/X+/r6Avjmm29MUPWTnuLeDT4+Pg2/OIVCERMTo1KpioqKGjYoKChQqVR///vfx48f7+TkZPi7trCwGDRo0Ny5cxv+ePv27RP+nCUlJSLv01NqGOoZNmzY2rVrlyxZEhISolAovLy8Wl55a2Nj4+PjM2rUqFmzZi1dunTDhg379u07c+bM8OHDAUybNo0xdvToUdP0xzLG/ve//wHo27dvTU3NN998A6Bfv37mumPUUwTr0qVLMpnsyXnAPj4+oaGh69ev/+GHHyoqKhq212g0Bw4cUCqVCoVCGF6wsLC4f/8+Y6yiokKYx7J9+3bx9+np5eXl2dvbC10qTaYnMDAwLCwsJiYmLi7uwIEDwgrS5q4pG+aubNmyhTGmVCoB+Pr6lpZyHBBjjAkTR4XRqtGjRwPYtGkT1xpb0Ja7zWg0GpVKFRsbGxwc7OzsbPhnaHQ53/ByqaqqSkpK2r17t/Dwww8/BDBkyJAOcge27OxsqVRqaWkZERGxbt26PXv2nD17Nisrq81vew8ePIiHy5R1Ol1AQACAOXPmiNtsQ8LNSLt3715SUpKcnAzAycnpwYMH/GpsWXtvvFZbW5uenp6QkCAcmbo9vkDMwcFBoVAolcqEhIT09HThKcLhAcBp0yzPMIJwUBG3l+7Pf/4zHs5duXbtmjB21PDSEp2w+Cc6Opo97EYR8a1uG4h8D9Ly8nK1Wr1+/frQ0FDhnbwhmUw2YcIE4Xr2jTfeELfqNistLXV0dAQg7k0QysvLhUtpYVLyzp07hVfa1atXRaxFUFhYaGNjw6NTtM24345brVavXr06ODjY8OKse/fuLQ+5m9Knn34K4I9//KPoJTcsU963bx9jbPbs2QCGDh0q+tR7oVN0xowZjLHly5fDTJ2ihvgGq5Hr169/9NFHkyZN+umnn0xZbwtqamqEFXlHjx7lUb7QmeTk5HTz5s2G/thly5aJWEVFRYXQKfrjjz+at1PUkEmD1QF9/fXXAAYMGNCGYQNj1NXVTZkyBcCoUaNqa2svXLjQ5v7Y5mzduhUdo1PUUFcP1ogRIwBs27aNXxUNy5SFu0d//PHHEG/qfYfqFDXUpYOlVqsB9OrVy7D7jYczZ85IpVILC4uTJ0/q9frAwEAAEyZMaP9h8siRIx2nU9RQlw5W+sKFM0aOjDXJ/Q6E62tPT8+7d+8WFhYKNylZu3ZtO4sVxgyEISOzd4oa6sLByslhUinr1o2ZZDVYo2XKogz1dLROUUNdOFhKJQMYh6mLzRF9qOf7778fMGCA8AlNHaFT1FBXDVZpKXN0ZACvRYzNMLwjrShDPXq9vqysrIN0ihrqqsFas4YBjEOnaKvmzZvXMNTz66+/2tvbDx06VBibbzNhqYvZO0UNdclPsa+tha8vbt3C0aOYNMnElet0updeeuny5cvz58///PPPk5KSAgICjLkzvuDBgwe5ubn5+fnCHZQLCgrOnz+fkpLCGDt58mRHuDOWoEsGa+9ezJ6NAQOQkQELM3wqdnp6+ksvvVRZWbl3797Q0NAnN9BqtU2uAczJydFqtU2WGRAQkJKSwrnhT6FLBmvkSCQlYft2RESYqwmbN29WKpXW1tZvvvlm//79Gw4/eXl5hYWFer2+uSfa2dk1Wr8lzJsIDw+3MMeLpDldL1hqNcaMQa9e+O032NqaqxWMMV9f3xs3bjT5U2dn5yfvoCw8bGFKdIfSMe6wa0pyOSIi4O1txlQBkEgkiYmJK1asuHjx4vTp04XDj3Df1N69ext/ydVhdboj1pkz0OkwYUL9w/ffxyefAMC9e9i+HTk58PVFZCQen/hKRNeBzsriuHQJSUmPHgqfWnb/PhQKuLhAqYSjI15+GWVl5mpgF9E1ToX//jeCguov1Z9/HhkZ2LULrX0QF2mPzhisQ4dw9epj38nIwCuvPHo4fDjOnTNtm7qczhiswEAolfVfHz8OAHZ2j336QEUFmvpULSKiTneNBcDJCd7e9f8Ef/hDfcIEx46JdkNm0ozOGKwnvfEGamowezbi4zFzJqytMW2audvUyXW67oYbN1Bbi2efrX/43XcYPx4AGMP588jOxjPPYORIMzawi+h0wSIdQ9c4FRKTo2ARLihYhAsKFuGCgkW4oGARLihYhAsKFuGCgkW4oGARLihYhAsKFuGCgkW4oGARLihYhAsKFuGCgkW4oGARLihYhAsKFuGCgkW4oGARLihYhAsKFuGCgkW4oGARLihYhAsKFuGCgkW4oGARLihYhAsKFuGCgkW4oGARLihYhAsKFuGCgkW4oGARLihYhAsKFuGCgkW4oGARLihYhAsKFuGCgkW4oGARLihYhAsKFuGCgkW4oGARLihYhAsKFuGCgkW4oGARLihYhAsKFuGCgkW4oGARLihYhIv/B4KjoOIgE9ImAAABSnpUWHRyZGtpdFBLTCByZGtpdCAyMDI0LjAzLjYAAHice79v7T0GIBAAYkYGCACxBYG4gZGDIQEkzsgGppmhNBMTu4MGiM/M5pABphnhDCwyYAEWTKUwGUEGBZAlGFyoMm6guxiZGJiYgXIJLKwZTKxsCWzsGUxAx3FwZjBxciVwcWcwcfMwcPMm8PIx8PJnMLEzJ/BzJDgxAQ1gZWFmZ2Nl4+Ti5uXnED+F5EsGgW8PJ+x3X/N/P4jjfJp1/7UiBTD7wY3N+52ExexBbKsUywOu6bftQGy18MwD/j/iwGrmLVh84GoMP5g9ac2KA4FNeWD1/1dXHlhZchTMfixcYZ+j9mEfiG3w9439cp/rYPVJ30IdrsscBrN7vtQ43PCXBavRNlvn8O5KqzWI/bbKxUFwZjvYHPHKbIfvrdIOILYb2yn7pktpYHExAEAkVOzWU73XAAABsnpUWHRNT0wgcmRraXQgMjAyNC4wMy42AAB4nH1U22ojMQx9n6/QD8TobvuxScpSlk5gN7v/sNDH/j+VXLKegqkdG1k5lmSdw2yQ49f15793+D/4um0A+M2v9w5/BRG3V0gDzs8/Xna43J/OD8/l9me//wZyoBp3Yn7FPt1vrw8PwQ1OVEiodU+r96pqgAXHmHcZLnDCYswukpazV+MFUhJJRdHQPP635iy0ACrscOISmatmIOUW4RdAy4hSXK2rZu5WsVdfID2RVohErI56HZFwgayZ3ApXQs9IXciXIdtn8o5ELEDFlOM9C2APYMTxjjYapGHpChj1XCJQM9Jas1XeGLmukBRIKaJRnCTSOMy2QvJA9gCwZ3YycV4RScHPG1hR1XjRACg2XSF1xMQa3nw5WhfrK6BlyCCodo5mctFQqK0oJx9Pt9riRdktJLcVPc/79YtQP6V7vu3XKd2cPPUZB5ApQoqlU2o5bQoqDuBTNRqrTmlorDYFkJH7pFlj0ZFNzY3owJrmRnxgh8YmBxZ0ePTQbRqbHdqqw+OH9mnUM+9kqeHsx7Ydm5Tnx7ch7O0DDTTUdUApimgAAADgelRYdFNNSUxFUyByZGtpdCAyMDI0LjAzLjYAAHicJY7LjQQxCERT2WO35EEUX6M+dgAThK+riWCCX9x7MfhBFfW+j/uDtT4L5+q6jvv3/H/w8z1eIChqdK1Ks3G9mFwkVEd3IZEuDUHGzjF6OEMUjYRmRVojk9mSRkphXraVM7kymjkBqrGZBzMeJAnOVpYini2lYkAGyE2ivXoWxf6ksO5MxwWaDps7bEzhJkpqbbGJi6lsUrvbMriG+LiczAzoc8zG0+RZ6/sg9upo/YssySFkyuz7kudsO96xwsf5/QP7YkOZStyO2AAAAABJRU5ErkJggg==\" alt=\"Mol\"/></div></td>\n",
       "    </tr>\n",
       "    <tr>\n",
       "      <th>4126</th>\n",
       "      <td>50442995</td>\n",
       "      <td>O=C1c2ccccc2-n2c1nc1ccc(F)cc1c2=O</td>\n",
       "      <td>864400.000</td>\n",
       "      <td>Homo sapiens</td>\n",
       "      <td>3.063285</td>\n",
       "      <td style=\"text-align: center;\"><div style=\"width: 200px; height: 200px\" data-content=\"rdkit/molecule\"><img src=\"data:image/png;base64,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\" alt=\"Mol\"/></div></td>\n",
       "    </tr>\n",
       "  </tbody>\n",
       "</table>\n",
       "<p>4127 rows × 6 columns</p>\n",
       "</div>"
      ],
      "text/plain": [
       "     monomer_id                                             smiles  \\\n",
       "0      50442991       O=C1c2cc([N+](=O)[O-])ccc2-n2c1nc1ccccc1c2=O   \n",
       "1      50604021  Cc1cc(C2CC2)ncc1-c1ccc(C2(C(=O)Nc3ccc(F)cc3)CO...   \n",
       "2      50538503  O=C(Nc1ccc(C2(C(=O)Nc3ccc(F)cc3)COC2)cc1)c1ccc...   \n",
       "3      50567132  O=C(Nc1ccc(F)cc1)C1(C2CCC3C(CCCN3c3ccnc(C(F)(F...   \n",
       "4        309529                 O=C1CC(c2c[nH]c3ccc(F)cc23)C(=O)N1   \n",
       "...         ...                                                ...   \n",
       "4122      32203                                    Oc1cccc2cccnc12   \n",
       "4123   50051819                          Clc1ccc(CCn2ccnc2)c(Cl)c1   \n",
       "4124      24676                           O=Cc1cccc(-c2c[nH]cn2)c1   \n",
       "4125   50051840                       OC(Cn1ccnc1)c1ccc(Cl)c(Cl)c1   \n",
       "4126   50442995                  O=C1c2ccccc2-n2c1nc1ccc(F)cc1c2=O   \n",
       "\n",
       "            IC50 target_organism      pIC50  \\\n",
       "0          0.018    Homo sapiens  10.744727   \n",
       "1          0.080    Homo sapiens  10.096910   \n",
       "2          0.090    Homo sapiens  10.045757   \n",
       "3          0.100    Homo sapiens  10.000000   \n",
       "4          0.120    Homo sapiens   9.920819   \n",
       "...          ...             ...        ...   \n",
       "4122  750000.000    Homo sapiens   3.124939   \n",
       "4123  820000.000    Homo sapiens   3.086186   \n",
       "4124  825000.000    Homo sapiens   3.083546   \n",
       "4125  830000.000    Homo sapiens   3.080922   \n",
       "4126  864400.000    Homo sapiens   3.063285   \n",
       "\n",
       "                                              ROMol  \n",
       "0     <rdkit.Chem.rdchem.Mol object at 0x34fb6c7b0>  \n",
       "1     <rdkit.Chem.rdchem.Mol object at 0x34fb93610>  \n",
       "2     <rdkit.Chem.rdchem.Mol object at 0x34fb7c5f0>  \n",
       "3     <rdkit.Chem.rdchem.Mol object at 0x34fb88cf0>  \n",
       "4     <rdkit.Chem.rdchem.Mol object at 0x34fb397e0>  \n",
       "...                                             ...  \n",
       "4122  <rdkit.Chem.rdchem.Mol object at 0x34fb3af10>  \n",
       "4123  <rdkit.Chem.rdchem.Mol object at 0x34fb5c9e0>  \n",
       "4124  <rdkit.Chem.rdchem.Mol object at 0x34fb38430>  \n",
       "4125  <rdkit.Chem.rdchem.Mol object at 0x34fb5cc10>  \n",
       "4126  <rdkit.Chem.rdchem.Mol object at 0x34fb6c970>  \n",
       "\n",
       "[4127 rows x 6 columns]"
      ]
     },
     "execution_count": 14,
     "metadata": {},
     "output_type": "execute_result"
    }
   ],
   "source": [
    "# Add molecule column\n",
    "PandasTools.AddMoleculeColumnToFrame(binding_db_molecules, smilesCol=\"smiles\")\n",
    "# Sort molecules by pIC50\n",
    "binding_db_molecules.sort_values(by=\"pIC50\", ascending=False, inplace=True)\n",
    "\n",
    "# Reset index\n",
    "binding_db_molecules.reset_index(drop=True, inplace=True)\n",
    "binding_db_molecules"
   ]
  },
  {
   "cell_type": "code",
   "execution_count": 15,
   "id": "5265023a-b32e-4581-b709-ae436ebda972",
   "metadata": {},
   "outputs": [],
   "source": [
    "filename = 'binding_db_molecules_filtered.csv'\n",
    "dir_path = os.path.join(PATH, filename)\n",
    "binding_db_molecules.to_csv(dir_path,index=False)"
   ]
  },
  {
   "cell_type": "markdown",
   "id": "072c2f58-8168-4075-a0d4-09561959ed9d",
   "metadata": {},
   "source": [
    "# Pridobitev podatkov z chEMBL"
   ]
  },
  {
   "cell_type": "code",
   "execution_count": 16,
   "id": "d1be308f-6935-4e27-9fce-b2ee74d6c2df",
   "metadata": {},
   "outputs": [
    {
     "name": "stdout",
     "output_type": "stream",
     "text": [
      "The type of the targets is \"<class 'chembl_webresource_client.query_set.QuerySet'>\"\n"
     ]
    },
    {
     "data": {
      "text/html": [
       "<div>\n",
       "<style scoped>\n",
       "    .dataframe tbody tr th:only-of-type {\n",
       "        vertical-align: middle;\n",
       "    }\n",
       "\n",
       "    .dataframe tbody tr th {\n",
       "        vertical-align: top;\n",
       "    }\n",
       "\n",
       "    .dataframe thead th {\n",
       "        text-align: right;\n",
       "    }\n",
       "</style>\n",
       "<table border=\"1\" class=\"dataframe\">\n",
       "  <thead>\n",
       "    <tr style=\"text-align: right;\">\n",
       "      <th></th>\n",
       "      <th>organism</th>\n",
       "      <th>pref_name</th>\n",
       "      <th>target_chembl_id</th>\n",
       "      <th>target_type</th>\n",
       "    </tr>\n",
       "  </thead>\n",
       "  <tbody>\n",
       "    <tr>\n",
       "      <th>0</th>\n",
       "      <td>Homo sapiens</td>\n",
       "      <td>Indoleamine 2,3-dioxygenase</td>\n",
       "      <td>CHEMBL4685</td>\n",
       "      <td>SINGLE PROTEIN</td>\n",
       "    </tr>\n",
       "    <tr>\n",
       "      <th>2</th>\n",
       "      <td>Homo sapiens</td>\n",
       "      <td>Cereblon/Indoleamine 2,3-dioxygenase 1</td>\n",
       "      <td>CHEMBL4742272</td>\n",
       "      <td>PROTEIN-PROTEIN INTERACTION</td>\n",
       "    </tr>\n",
       "    <tr>\n",
       "      <th>3</th>\n",
       "      <td>Homo sapiens</td>\n",
       "      <td>IDO1/VHL</td>\n",
       "      <td>CHEMBL5169061</td>\n",
       "      <td>PROTEIN-PROTEIN INTERACTION</td>\n",
       "    </tr>\n",
       "  </tbody>\n",
       "</table>\n",
       "</div>"
      ],
      "text/plain": [
       "       organism                               pref_name target_chembl_id  \\\n",
       "0  Homo sapiens             Indoleamine 2,3-dioxygenase       CHEMBL4685   \n",
       "2  Homo sapiens  Cereblon/Indoleamine 2,3-dioxygenase 1    CHEMBL4742272   \n",
       "3  Homo sapiens                                IDO1/VHL    CHEMBL5169061   \n",
       "\n",
       "                   target_type  \n",
       "0               SINGLE PROTEIN  \n",
       "2  PROTEIN-PROTEIN INTERACTION  \n",
       "3  PROTEIN-PROTEIN INTERACTION  "
      ]
     },
     "execution_count": 16,
     "metadata": {},
     "output_type": "execute_result"
    }
   ],
   "source": [
    "HERE = Path(_dh[-1])\n",
    "DATA = HERE / \"data\"\n",
    "\n",
    "targets_api = new_client.target\n",
    "compounds_api = new_client.molecule\n",
    "bioactivities_api = new_client.activity\n",
    "\n",
    "type(targets_api)\n",
    "\n",
    "\n",
    "uniprot_id = [\"P14902\"] # \"Q6ZQW0\",\"P48775\", \"P28776\", \"Q8R0V5\", \"P48776\"\n",
    "\n",
    "\n",
    "# Get target information from ChEMBL but restrict it to specified values only\n",
    "targets = targets_api.get(target_components__accession=uniprot_id).only(\n",
    "    \"target_chembl_id\", \"organism\", \"pref_name\", \"target_type\"\n",
    ")\n",
    "print(f'The type of the targets is \"{type(targets)}\"')\n",
    "\n",
    "targets = pd.DataFrame.from_records(targets)\n",
    "targets.drop_duplicates(inplace=True)\n",
    "targets"
   ]
  },
  {
   "cell_type": "code",
   "execution_count": 17,
   "id": "702ebfab-ff82-4f2b-b0ab-8cfaf6cf97a2",
   "metadata": {},
   "outputs": [
    {
     "data": {
      "text/html": [
       "<div>\n",
       "<style scoped>\n",
       "    .dataframe tbody tr th:only-of-type {\n",
       "        vertical-align: middle;\n",
       "    }\n",
       "\n",
       "    .dataframe tbody tr th {\n",
       "        vertical-align: top;\n",
       "    }\n",
       "\n",
       "    .dataframe thead th {\n",
       "        text-align: right;\n",
       "    }\n",
       "</style>\n",
       "<table border=\"1\" class=\"dataframe\">\n",
       "  <thead>\n",
       "    <tr style=\"text-align: right;\">\n",
       "      <th></th>\n",
       "      <th>organism</th>\n",
       "      <th>pref_name</th>\n",
       "      <th>target_chembl_id</th>\n",
       "      <th>target_type</th>\n",
       "    </tr>\n",
       "  </thead>\n",
       "  <tbody>\n",
       "    <tr>\n",
       "      <th>0</th>\n",
       "      <td>Homo sapiens</td>\n",
       "      <td>Indoleamine 2,3-dioxygenase</td>\n",
       "      <td>CHEMBL4685</td>\n",
       "      <td>SINGLE PROTEIN</td>\n",
       "    </tr>\n",
       "  </tbody>\n",
       "</table>\n",
       "</div>"
      ],
      "text/plain": [
       "       organism                    pref_name target_chembl_id     target_type\n",
       "0  Homo sapiens  Indoleamine 2,3-dioxygenase       CHEMBL4685  SINGLE PROTEIN"
      ]
     },
     "execution_count": 17,
     "metadata": {},
     "output_type": "execute_result"
    }
   ],
   "source": [
    "targets_df = targets[targets['target_type'] == 'SINGLE PROTEIN']\n",
    "targets_df"
   ]
  },
  {
   "cell_type": "code",
   "execution_count": 18,
   "id": "983414b9-d3dd-4b04-8634-0078283e55e8",
   "metadata": {},
   "outputs": [
    {
     "data": {
      "text/plain": [
       "['CHEMBL4685']"
      ]
     },
     "execution_count": 18,
     "metadata": {},
     "output_type": "execute_result"
    }
   ],
   "source": [
    "target = targets_df\n",
    "chembl_id = target['target_chembl_id']\n",
    "chembl_id_list = chembl_id.to_list()\n",
    "chembl_id_list"
   ]
  },
  {
   "cell_type": "code",
   "execution_count": 19,
   "id": "82bf0e3f-4144-4d2c-abec-53e42e388724",
   "metadata": {},
   "outputs": [
    {
     "name": "stdout",
     "output_type": "stream",
     "text": [
      "Length and type of bioactivities object: 3238, <class 'chembl_webresource_client.query_set.QuerySet'>\n"
     ]
    }
   ],
   "source": [
    "bioactivities = bioactivities_api.filter(\n",
    "    target_chembl_id__in = chembl_id_list, type=\"IC50\", relation=\"=\", assay_type=\"B\"\n",
    ").only(\n",
    "        \"activity_id\",\n",
    "        \"assay_chembl_id\",\n",
    "        \"assay_description\",\n",
    "        \"assay_type\",\n",
    "        \"molecule_chembl_id\",\n",
    "        \"type\",\n",
    "        \"standard_units\",\n",
    "        \"relation\",\n",
    "        \"standard_value\",\n",
    "        \"target_chembl_id\",\n",
    "        \"target_organism\",\n",
    "    )\n",
    "\n",
    "print(f\"Length and type of bioactivities object: {len(bioactivities)}, {type(bioactivities)}\")"
   ]
  },
  {
   "cell_type": "code",
   "execution_count": 20,
   "id": "77ed3101-e230-45f7-bb0d-e08c49634b57",
   "metadata": {},
   "outputs": [
    {
     "name": "stdout",
     "output_type": "stream",
     "text": [
      "Length and type of first element: 13, <class 'dict'>\n"
     ]
    }
   ],
   "source": [
    "print(f\"Length and type of first element: {len(bioactivities[0])}, {type(bioactivities[0])}\")\n",
    "#bioactivities[0]"
   ]
  },
  {
   "cell_type": "code",
   "execution_count": 21,
   "id": "9008b5dd-0ba2-47c1-b7cf-61b0b84eae02",
   "metadata": {},
   "outputs": [
    {
     "name": "stdout",
     "output_type": "stream",
     "text": [
      "DataFrame shape: (3238, 13)\n"
     ]
    }
   ],
   "source": [
    "bioactivities_df = pd.DataFrame.from_dict(bioactivities)\n",
    "print(f\"DataFrame shape: {bioactivities_df.shape}\")\n",
    "#bioactivities_df.head()"
   ]
  },
  {
   "cell_type": "code",
   "execution_count": 22,
   "id": "0b188ba5-f6c5-49d4-a3c7-3ded2229fa26",
   "metadata": {},
   "outputs": [],
   "source": [
    "filename = 'chembl_molecules.csv'\n",
    "dir_path = os.path.join(PATH, filename)\n",
    "bioactivities_df.to_csv(dir_path,index=False)"
   ]
  },
  {
   "cell_type": "code",
   "execution_count": 23,
   "id": "cb0b3c40-fc4c-4988-83b8-a9a718f65156",
   "metadata": {},
   "outputs": [
    {
     "data": {
      "text/plain": [
       "array(['uM', 'nM', 'mM', \"10'-2M\", \"10'-5M\", 'ug ml-1'], dtype=object)"
      ]
     },
     "execution_count": 23,
     "metadata": {},
     "output_type": "execute_result"
    }
   ],
   "source": [
    "bioactivities_df[\"units\"].unique()"
   ]
  },
  {
   "cell_type": "code",
   "execution_count": 24,
   "id": "953bf6ea-0ff8-4ea4-8168-fc436ee1e1d2",
   "metadata": {},
   "outputs": [
    {
     "data": {
      "text/html": [
       "<div>\n",
       "<style scoped>\n",
       "    .dataframe tbody tr th:only-of-type {\n",
       "        vertical-align: middle;\n",
       "    }\n",
       "\n",
       "    .dataframe tbody tr th {\n",
       "        vertical-align: top;\n",
       "    }\n",
       "\n",
       "    .dataframe thead th {\n",
       "        text-align: right;\n",
       "    }\n",
       "</style>\n",
       "<table border=\"1\" class=\"dataframe\">\n",
       "  <thead>\n",
       "    <tr style=\"text-align: right;\">\n",
       "      <th></th>\n",
       "      <th>activity_id</th>\n",
       "      <th>assay_chembl_id</th>\n",
       "      <th>assay_description</th>\n",
       "      <th>assay_type</th>\n",
       "      <th>molecule_chembl_id</th>\n",
       "      <th>relation</th>\n",
       "      <th>standard_units</th>\n",
       "      <th>standard_value</th>\n",
       "      <th>target_chembl_id</th>\n",
       "      <th>target_organism</th>\n",
       "      <th>type</th>\n",
       "    </tr>\n",
       "  </thead>\n",
       "  <tbody>\n",
       "    <tr>\n",
       "      <th>0</th>\n",
       "      <td>2120165</td>\n",
       "      <td>CHEMBL935410</td>\n",
       "      <td>Inhibition of purified human recombinant IDO</td>\n",
       "      <td>B</td>\n",
       "      <td>CHEMBL318782</td>\n",
       "      <td>=</td>\n",
       "      <td>nM</td>\n",
       "      <td>280.0</td>\n",
       "      <td>CHEMBL4685</td>\n",
       "      <td>Homo sapiens</td>\n",
       "      <td>IC50</td>\n",
       "    </tr>\n",
       "    <tr>\n",
       "      <th>1</th>\n",
       "      <td>2120166</td>\n",
       "      <td>CHEMBL935410</td>\n",
       "      <td>Inhibition of purified human recombinant IDO</td>\n",
       "      <td>B</td>\n",
       "      <td>CHEMBL271826</td>\n",
       "      <td>=</td>\n",
       "      <td>nM</td>\n",
       "      <td>1500.0</td>\n",
       "      <td>CHEMBL4685</td>\n",
       "      <td>Homo sapiens</td>\n",
       "      <td>IC50</td>\n",
       "    </tr>\n",
       "    <tr>\n",
       "      <th>2</th>\n",
       "      <td>2120167</td>\n",
       "      <td>CHEMBL935410</td>\n",
       "      <td>Inhibition of purified human recombinant IDO</td>\n",
       "      <td>B</td>\n",
       "      <td>CHEMBL272225</td>\n",
       "      <td>=</td>\n",
       "      <td>nM</td>\n",
       "      <td>512.0</td>\n",
       "      <td>CHEMBL4685</td>\n",
       "      <td>Homo sapiens</td>\n",
       "      <td>IC50</td>\n",
       "    </tr>\n",
       "    <tr>\n",
       "      <th>3</th>\n",
       "      <td>2120168</td>\n",
       "      <td>CHEMBL935410</td>\n",
       "      <td>Inhibition of purified human recombinant IDO</td>\n",
       "      <td>B</td>\n",
       "      <td>CHEMBL441441</td>\n",
       "      <td>=</td>\n",
       "      <td>nM</td>\n",
       "      <td>4340.0</td>\n",
       "      <td>CHEMBL4685</td>\n",
       "      <td>Homo sapiens</td>\n",
       "      <td>IC50</td>\n",
       "    </tr>\n",
       "    <tr>\n",
       "      <th>4</th>\n",
       "      <td>2120169</td>\n",
       "      <td>CHEMBL935410</td>\n",
       "      <td>Inhibition of purified human recombinant IDO</td>\n",
       "      <td>B</td>\n",
       "      <td>CHEMBL258816</td>\n",
       "      <td>=</td>\n",
       "      <td>nM</td>\n",
       "      <td>2120.0</td>\n",
       "      <td>CHEMBL4685</td>\n",
       "      <td>Homo sapiens</td>\n",
       "      <td>IC50</td>\n",
       "    </tr>\n",
       "  </tbody>\n",
       "</table>\n",
       "</div>"
      ],
      "text/plain": [
       "   activity_id assay_chembl_id                             assay_description  \\\n",
       "0      2120165    CHEMBL935410  Inhibition of purified human recombinant IDO   \n",
       "1      2120166    CHEMBL935410  Inhibition of purified human recombinant IDO   \n",
       "2      2120167    CHEMBL935410  Inhibition of purified human recombinant IDO   \n",
       "3      2120168    CHEMBL935410  Inhibition of purified human recombinant IDO   \n",
       "4      2120169    CHEMBL935410  Inhibition of purified human recombinant IDO   \n",
       "\n",
       "  assay_type molecule_chembl_id relation standard_units standard_value  \\\n",
       "0          B       CHEMBL318782        =             nM          280.0   \n",
       "1          B       CHEMBL271826        =             nM         1500.0   \n",
       "2          B       CHEMBL272225        =             nM          512.0   \n",
       "3          B       CHEMBL441441        =             nM         4340.0   \n",
       "4          B       CHEMBL258816        =             nM         2120.0   \n",
       "\n",
       "  target_chembl_id target_organism  type  \n",
       "0       CHEMBL4685    Homo sapiens  IC50  \n",
       "1       CHEMBL4685    Homo sapiens  IC50  \n",
       "2       CHEMBL4685    Homo sapiens  IC50  \n",
       "3       CHEMBL4685    Homo sapiens  IC50  \n",
       "4       CHEMBL4685    Homo sapiens  IC50  "
      ]
     },
     "execution_count": 24,
     "metadata": {},
     "output_type": "execute_result"
    }
   ],
   "source": [
    "bioactivities_df.drop([\"units\", \"value\"], axis=1, inplace=True)\n",
    "bioactivities_df.head()"
   ]
  },
  {
   "cell_type": "code",
   "execution_count": 25,
   "id": "3a7e19a2-2c56-41fe-82d7-b76784a6dfbc",
   "metadata": {},
   "outputs": [],
   "source": [
    "bioactivities_df = bioactivities_df.astype({\"standard_value\": \"float64\"})\n",
    "# bioactivities_df.dtypes"
   ]
  },
  {
   "cell_type": "code",
   "execution_count": 26,
   "id": "d4e4f3e3-5076-4f24-bf49-d0cee145e8d8",
   "metadata": {},
   "outputs": [
    {
     "name": "stdout",
     "output_type": "stream",
     "text": [
      "DataFrame shape: (3238, 11)\n"
     ]
    }
   ],
   "source": [
    "bioactivities_df.dropna(axis=0, how=\"any\", inplace=True)\n",
    "print(f\"DataFrame shape: {bioactivities_df.shape}\")"
   ]
  },
  {
   "cell_type": "code",
   "execution_count": 27,
   "id": "236982a6-651b-438c-b781-cfa0d1423ec6",
   "metadata": {},
   "outputs": [
    {
     "name": "stdout",
     "output_type": "stream",
     "text": [
      "DataFrame shape: (3238, 11)\n"
     ]
    }
   ],
   "source": [
    "print(f\"DataFrame shape: {bioactivities_df.shape}\")"
   ]
  },
  {
   "cell_type": "code",
   "execution_count": 28,
   "id": "b205f6ae-527d-43c9-a4b1-8a74f67adc41",
   "metadata": {},
   "outputs": [
    {
     "data": {
      "text/html": [
       "<div>\n",
       "<style scoped>\n",
       "    .dataframe tbody tr th:only-of-type {\n",
       "        vertical-align: middle;\n",
       "    }\n",
       "\n",
       "    .dataframe tbody tr th {\n",
       "        vertical-align: top;\n",
       "    }\n",
       "\n",
       "    .dataframe thead th {\n",
       "        text-align: right;\n",
       "    }\n",
       "</style>\n",
       "<table border=\"1\" class=\"dataframe\">\n",
       "  <thead>\n",
       "    <tr style=\"text-align: right;\">\n",
       "      <th></th>\n",
       "      <th>activity_id</th>\n",
       "      <th>assay_chembl_id</th>\n",
       "      <th>assay_description</th>\n",
       "      <th>assay_type</th>\n",
       "      <th>molecule_chembl_id</th>\n",
       "      <th>relation</th>\n",
       "      <th>standard_units</th>\n",
       "      <th>standard_value</th>\n",
       "      <th>target_chembl_id</th>\n",
       "      <th>target_organism</th>\n",
       "      <th>type</th>\n",
       "    </tr>\n",
       "  </thead>\n",
       "  <tbody>\n",
       "    <tr>\n",
       "      <th>0</th>\n",
       "      <td>2120165</td>\n",
       "      <td>CHEMBL935410</td>\n",
       "      <td>Inhibition of purified human recombinant IDO</td>\n",
       "      <td>B</td>\n",
       "      <td>CHEMBL318782</td>\n",
       "      <td>=</td>\n",
       "      <td>nM</td>\n",
       "      <td>280.0</td>\n",
       "      <td>CHEMBL4685</td>\n",
       "      <td>Homo sapiens</td>\n",
       "      <td>IC50</td>\n",
       "    </tr>\n",
       "    <tr>\n",
       "      <th>1</th>\n",
       "      <td>2120166</td>\n",
       "      <td>CHEMBL935410</td>\n",
       "      <td>Inhibition of purified human recombinant IDO</td>\n",
       "      <td>B</td>\n",
       "      <td>CHEMBL271826</td>\n",
       "      <td>=</td>\n",
       "      <td>nM</td>\n",
       "      <td>1500.0</td>\n",
       "      <td>CHEMBL4685</td>\n",
       "      <td>Homo sapiens</td>\n",
       "      <td>IC50</td>\n",
       "    </tr>\n",
       "    <tr>\n",
       "      <th>2</th>\n",
       "      <td>2120167</td>\n",
       "      <td>CHEMBL935410</td>\n",
       "      <td>Inhibition of purified human recombinant IDO</td>\n",
       "      <td>B</td>\n",
       "      <td>CHEMBL272225</td>\n",
       "      <td>=</td>\n",
       "      <td>nM</td>\n",
       "      <td>512.0</td>\n",
       "      <td>CHEMBL4685</td>\n",
       "      <td>Homo sapiens</td>\n",
       "      <td>IC50</td>\n",
       "    </tr>\n",
       "    <tr>\n",
       "      <th>3</th>\n",
       "      <td>2120168</td>\n",
       "      <td>CHEMBL935410</td>\n",
       "      <td>Inhibition of purified human recombinant IDO</td>\n",
       "      <td>B</td>\n",
       "      <td>CHEMBL441441</td>\n",
       "      <td>=</td>\n",
       "      <td>nM</td>\n",
       "      <td>4340.0</td>\n",
       "      <td>CHEMBL4685</td>\n",
       "      <td>Homo sapiens</td>\n",
       "      <td>IC50</td>\n",
       "    </tr>\n",
       "    <tr>\n",
       "      <th>4</th>\n",
       "      <td>2120169</td>\n",
       "      <td>CHEMBL935410</td>\n",
       "      <td>Inhibition of purified human recombinant IDO</td>\n",
       "      <td>B</td>\n",
       "      <td>CHEMBL258816</td>\n",
       "      <td>=</td>\n",
       "      <td>nM</td>\n",
       "      <td>2120.0</td>\n",
       "      <td>CHEMBL4685</td>\n",
       "      <td>Homo sapiens</td>\n",
       "      <td>IC50</td>\n",
       "    </tr>\n",
       "    <tr>\n",
       "      <th>...</th>\n",
       "      <td>...</td>\n",
       "      <td>...</td>\n",
       "      <td>...</td>\n",
       "      <td>...</td>\n",
       "      <td>...</td>\n",
       "      <td>...</td>\n",
       "      <td>...</td>\n",
       "      <td>...</td>\n",
       "      <td>...</td>\n",
       "      <td>...</td>\n",
       "      <td>...</td>\n",
       "    </tr>\n",
       "    <tr>\n",
       "      <th>3233</th>\n",
       "      <td>25093858</td>\n",
       "      <td>CHEMBL5259436</td>\n",
       "      <td>Inhibition of IDO1 (unknown origin) expressed ...</td>\n",
       "      <td>B</td>\n",
       "      <td>CHEMBL5273615</td>\n",
       "      <td>=</td>\n",
       "      <td>nM</td>\n",
       "      <td>1.5</td>\n",
       "      <td>CHEMBL4685</td>\n",
       "      <td>Homo sapiens</td>\n",
       "      <td>IC50</td>\n",
       "    </tr>\n",
       "    <tr>\n",
       "      <th>3234</th>\n",
       "      <td>25093859</td>\n",
       "      <td>CHEMBL5259436</td>\n",
       "      <td>Inhibition of IDO1 (unknown origin) expressed ...</td>\n",
       "      <td>B</td>\n",
       "      <td>CHEMBL5273615</td>\n",
       "      <td>=</td>\n",
       "      <td>nM</td>\n",
       "      <td>4.6</td>\n",
       "      <td>CHEMBL4685</td>\n",
       "      <td>Homo sapiens</td>\n",
       "      <td>IC50</td>\n",
       "    </tr>\n",
       "    <tr>\n",
       "      <th>3235</th>\n",
       "      <td>25093860</td>\n",
       "      <td>CHEMBL5259436</td>\n",
       "      <td>Inhibition of IDO1 (unknown origin) expressed ...</td>\n",
       "      <td>B</td>\n",
       "      <td>CHEMBL5267407</td>\n",
       "      <td>=</td>\n",
       "      <td>nM</td>\n",
       "      <td>3.6</td>\n",
       "      <td>CHEMBL4685</td>\n",
       "      <td>Homo sapiens</td>\n",
       "      <td>IC50</td>\n",
       "    </tr>\n",
       "    <tr>\n",
       "      <th>3236</th>\n",
       "      <td>25093861</td>\n",
       "      <td>CHEMBL5259436</td>\n",
       "      <td>Inhibition of IDO1 (unknown origin) expressed ...</td>\n",
       "      <td>B</td>\n",
       "      <td>CHEMBL5267407</td>\n",
       "      <td>=</td>\n",
       "      <td>nM</td>\n",
       "      <td>15.0</td>\n",
       "      <td>CHEMBL4685</td>\n",
       "      <td>Homo sapiens</td>\n",
       "      <td>IC50</td>\n",
       "    </tr>\n",
       "    <tr>\n",
       "      <th>3237</th>\n",
       "      <td>25108492</td>\n",
       "      <td>CHEMBL5264180</td>\n",
       "      <td>Inhibition of human IDO1</td>\n",
       "      <td>B</td>\n",
       "      <td>CHEMBL4459180</td>\n",
       "      <td>=</td>\n",
       "      <td>nM</td>\n",
       "      <td>110.0</td>\n",
       "      <td>CHEMBL4685</td>\n",
       "      <td>Homo sapiens</td>\n",
       "      <td>IC50</td>\n",
       "    </tr>\n",
       "  </tbody>\n",
       "</table>\n",
       "<p>3238 rows × 11 columns</p>\n",
       "</div>"
      ],
      "text/plain": [
       "      activity_id assay_chembl_id  \\\n",
       "0         2120165    CHEMBL935410   \n",
       "1         2120166    CHEMBL935410   \n",
       "2         2120167    CHEMBL935410   \n",
       "3         2120168    CHEMBL935410   \n",
       "4         2120169    CHEMBL935410   \n",
       "...           ...             ...   \n",
       "3233     25093858   CHEMBL5259436   \n",
       "3234     25093859   CHEMBL5259436   \n",
       "3235     25093860   CHEMBL5259436   \n",
       "3236     25093861   CHEMBL5259436   \n",
       "3237     25108492   CHEMBL5264180   \n",
       "\n",
       "                                      assay_description assay_type  \\\n",
       "0          Inhibition of purified human recombinant IDO          B   \n",
       "1          Inhibition of purified human recombinant IDO          B   \n",
       "2          Inhibition of purified human recombinant IDO          B   \n",
       "3          Inhibition of purified human recombinant IDO          B   \n",
       "4          Inhibition of purified human recombinant IDO          B   \n",
       "...                                                 ...        ...   \n",
       "3233  Inhibition of IDO1 (unknown origin) expressed ...          B   \n",
       "3234  Inhibition of IDO1 (unknown origin) expressed ...          B   \n",
       "3235  Inhibition of IDO1 (unknown origin) expressed ...          B   \n",
       "3236  Inhibition of IDO1 (unknown origin) expressed ...          B   \n",
       "3237                           Inhibition of human IDO1          B   \n",
       "\n",
       "     molecule_chembl_id relation standard_units  standard_value  \\\n",
       "0          CHEMBL318782        =             nM           280.0   \n",
       "1          CHEMBL271826        =             nM          1500.0   \n",
       "2          CHEMBL272225        =             nM           512.0   \n",
       "3          CHEMBL441441        =             nM          4340.0   \n",
       "4          CHEMBL258816        =             nM          2120.0   \n",
       "...                 ...      ...            ...             ...   \n",
       "3233      CHEMBL5273615        =             nM             1.5   \n",
       "3234      CHEMBL5273615        =             nM             4.6   \n",
       "3235      CHEMBL5267407        =             nM             3.6   \n",
       "3236      CHEMBL5267407        =             nM            15.0   \n",
       "3237      CHEMBL4459180        =             nM           110.0   \n",
       "\n",
       "     target_chembl_id target_organism  type  \n",
       "0          CHEMBL4685    Homo sapiens  IC50  \n",
       "1          CHEMBL4685    Homo sapiens  IC50  \n",
       "2          CHEMBL4685    Homo sapiens  IC50  \n",
       "3          CHEMBL4685    Homo sapiens  IC50  \n",
       "4          CHEMBL4685    Homo sapiens  IC50  \n",
       "...               ...             ...   ...  \n",
       "3233       CHEMBL4685    Homo sapiens  IC50  \n",
       "3234       CHEMBL4685    Homo sapiens  IC50  \n",
       "3235       CHEMBL4685    Homo sapiens  IC50  \n",
       "3236       CHEMBL4685    Homo sapiens  IC50  \n",
       "3237       CHEMBL4685    Homo sapiens  IC50  \n",
       "\n",
       "[3238 rows x 11 columns]"
      ]
     },
     "execution_count": 28,
     "metadata": {},
     "output_type": "execute_result"
    }
   ],
   "source": [
    "bioactivities_df"
   ]
  },
  {
   "cell_type": "code",
   "execution_count": 29,
   "id": "ca16ec09-c7e3-4dee-9d65-1f1de7e08faf",
   "metadata": {},
   "outputs": [
    {
     "data": {
      "text/plain": [
       "array(['nM', 'ug.mL-1'], dtype=object)"
      ]
     },
     "execution_count": 29,
     "metadata": {},
     "output_type": "execute_result"
    }
   ],
   "source": [
    "bioactivities_df[\"standard_units\"].unique()"
   ]
  },
  {
   "cell_type": "code",
   "execution_count": 30,
   "id": "55c6b5d0-44a3-4bd9-b812-f4a6ff668444",
   "metadata": {},
   "outputs": [
    {
     "data": {
      "text/plain": [
       "array(['='], dtype=object)"
      ]
     },
     "execution_count": 30,
     "metadata": {},
     "output_type": "execute_result"
    }
   ],
   "source": [
    "bioactivities_df[\"relation\"].unique()"
   ]
  },
  {
   "cell_type": "code",
   "execution_count": 31,
   "id": "661d3063-019c-4dd5-a7d6-1e080b683509",
   "metadata": {},
   "outputs": [
    {
     "name": "stdout",
     "output_type": "stream",
     "text": [
      "Units after filtering: ['nM']\n"
     ]
    }
   ],
   "source": [
    "bioactivities_df = bioactivities_df[bioactivities_df[\"standard_units\"] == \"nM\"]\n",
    "print(f\"Units after filtering: {bioactivities_df['standard_units'].unique()}\")"
   ]
  },
  {
   "cell_type": "code",
   "execution_count": 32,
   "id": "fca02dad-99a2-4f94-87ba-ded796848b41",
   "metadata": {},
   "outputs": [
    {
     "name": "stdout",
     "output_type": "stream",
     "text": [
      "Units after filtering: ['nM']\n"
     ]
    }
   ],
   "source": [
    "bioactivities_df = bioactivities_df[bioactivities_df[\"standard_units\"] == \"nM\"]\n",
    "print(f\"Units after filtering: {bioactivities_df['standard_units'].unique()}\")"
   ]
  },
  {
   "cell_type": "code",
   "execution_count": 33,
   "id": "0724fd31-14cf-4ed8-a0cf-c001cec01da8",
   "metadata": {},
   "outputs": [],
   "source": [
    "bioactivities_df.reset_index(drop=True, inplace=True)\n",
    "#bioactivities_df.head()"
   ]
  },
  {
   "cell_type": "code",
   "execution_count": 34,
   "id": "ce76d025-31b9-4854-b560-ef9e36cc3416",
   "metadata": {},
   "outputs": [
    {
     "data": {
      "text/html": [
       "<div>\n",
       "<style scoped>\n",
       "    .dataframe tbody tr th:only-of-type {\n",
       "        vertical-align: middle;\n",
       "    }\n",
       "\n",
       "    .dataframe tbody tr th {\n",
       "        vertical-align: top;\n",
       "    }\n",
       "\n",
       "    .dataframe thead th {\n",
       "        text-align: right;\n",
       "    }\n",
       "</style>\n",
       "<table border=\"1\" class=\"dataframe\">\n",
       "  <thead>\n",
       "    <tr style=\"text-align: right;\">\n",
       "      <th></th>\n",
       "      <th>activity_id</th>\n",
       "      <th>assay_chembl_id</th>\n",
       "      <th>assay_description</th>\n",
       "      <th>assay_type</th>\n",
       "      <th>molecule_chembl_id</th>\n",
       "      <th>relation</th>\n",
       "      <th>units</th>\n",
       "      <th>IC50</th>\n",
       "      <th>target_chembl_id</th>\n",
       "      <th>target_organism</th>\n",
       "      <th>type</th>\n",
       "    </tr>\n",
       "  </thead>\n",
       "  <tbody>\n",
       "    <tr>\n",
       "      <th>0</th>\n",
       "      <td>2120165</td>\n",
       "      <td>CHEMBL935410</td>\n",
       "      <td>Inhibition of purified human recombinant IDO</td>\n",
       "      <td>B</td>\n",
       "      <td>CHEMBL318782</td>\n",
       "      <td>=</td>\n",
       "      <td>nM</td>\n",
       "      <td>280.0</td>\n",
       "      <td>CHEMBL4685</td>\n",
       "      <td>Homo sapiens</td>\n",
       "      <td>IC50</td>\n",
       "    </tr>\n",
       "    <tr>\n",
       "      <th>1</th>\n",
       "      <td>2120166</td>\n",
       "      <td>CHEMBL935410</td>\n",
       "      <td>Inhibition of purified human recombinant IDO</td>\n",
       "      <td>B</td>\n",
       "      <td>CHEMBL271826</td>\n",
       "      <td>=</td>\n",
       "      <td>nM</td>\n",
       "      <td>1500.0</td>\n",
       "      <td>CHEMBL4685</td>\n",
       "      <td>Homo sapiens</td>\n",
       "      <td>IC50</td>\n",
       "    </tr>\n",
       "    <tr>\n",
       "      <th>2</th>\n",
       "      <td>2120167</td>\n",
       "      <td>CHEMBL935410</td>\n",
       "      <td>Inhibition of purified human recombinant IDO</td>\n",
       "      <td>B</td>\n",
       "      <td>CHEMBL272225</td>\n",
       "      <td>=</td>\n",
       "      <td>nM</td>\n",
       "      <td>512.0</td>\n",
       "      <td>CHEMBL4685</td>\n",
       "      <td>Homo sapiens</td>\n",
       "      <td>IC50</td>\n",
       "    </tr>\n",
       "    <tr>\n",
       "      <th>3</th>\n",
       "      <td>2120168</td>\n",
       "      <td>CHEMBL935410</td>\n",
       "      <td>Inhibition of purified human recombinant IDO</td>\n",
       "      <td>B</td>\n",
       "      <td>CHEMBL441441</td>\n",
       "      <td>=</td>\n",
       "      <td>nM</td>\n",
       "      <td>4340.0</td>\n",
       "      <td>CHEMBL4685</td>\n",
       "      <td>Homo sapiens</td>\n",
       "      <td>IC50</td>\n",
       "    </tr>\n",
       "    <tr>\n",
       "      <th>4</th>\n",
       "      <td>2120169</td>\n",
       "      <td>CHEMBL935410</td>\n",
       "      <td>Inhibition of purified human recombinant IDO</td>\n",
       "      <td>B</td>\n",
       "      <td>CHEMBL258816</td>\n",
       "      <td>=</td>\n",
       "      <td>nM</td>\n",
       "      <td>2120.0</td>\n",
       "      <td>CHEMBL4685</td>\n",
       "      <td>Homo sapiens</td>\n",
       "      <td>IC50</td>\n",
       "    </tr>\n",
       "  </tbody>\n",
       "</table>\n",
       "</div>"
      ],
      "text/plain": [
       "   activity_id assay_chembl_id                             assay_description  \\\n",
       "0      2120165    CHEMBL935410  Inhibition of purified human recombinant IDO   \n",
       "1      2120166    CHEMBL935410  Inhibition of purified human recombinant IDO   \n",
       "2      2120167    CHEMBL935410  Inhibition of purified human recombinant IDO   \n",
       "3      2120168    CHEMBL935410  Inhibition of purified human recombinant IDO   \n",
       "4      2120169    CHEMBL935410  Inhibition of purified human recombinant IDO   \n",
       "\n",
       "  assay_type molecule_chembl_id relation units    IC50 target_chembl_id  \\\n",
       "0          B       CHEMBL318782        =    nM   280.0       CHEMBL4685   \n",
       "1          B       CHEMBL271826        =    nM  1500.0       CHEMBL4685   \n",
       "2          B       CHEMBL272225        =    nM   512.0       CHEMBL4685   \n",
       "3          B       CHEMBL441441        =    nM  4340.0       CHEMBL4685   \n",
       "4          B       CHEMBL258816        =    nM  2120.0       CHEMBL4685   \n",
       "\n",
       "  target_organism  type  \n",
       "0    Homo sapiens  IC50  \n",
       "1    Homo sapiens  IC50  \n",
       "2    Homo sapiens  IC50  \n",
       "3    Homo sapiens  IC50  \n",
       "4    Homo sapiens  IC50  "
      ]
     },
     "execution_count": 34,
     "metadata": {},
     "output_type": "execute_result"
    }
   ],
   "source": [
    "bioactivities_df.rename(\n",
    "    columns={\"standard_value\": \"IC50\", \"standard_units\": \"units\"}, inplace=True\n",
    ")\n",
    "bioactivities_df.head()"
   ]
  },
  {
   "cell_type": "code",
   "execution_count": 35,
   "id": "2a2d2017-a999-4890-a5bc-0a00c929f3af",
   "metadata": {},
   "outputs": [
    {
     "name": "stdout",
     "output_type": "stream",
     "text": [
      "DataFrame shape: (3237, 11)\n"
     ]
    }
   ],
   "source": [
    "print(f\"DataFrame shape: {bioactivities_df.shape}\")"
   ]
  },
  {
   "cell_type": "code",
   "execution_count": 36,
   "id": "00d41eb3-9c2f-4870-8d03-270c7478fbfd",
   "metadata": {},
   "outputs": [
    {
     "name": "stdout",
     "output_type": "stream",
     "text": [
      "DataFrame shape: (2186, 11)\n"
     ]
    }
   ],
   "source": [
    "# Duplikate naslovim na tak nacin da prioretiziram rezultate IC50 pridobljene na humanem encimu, in nato gledam najnizji rezultat\n",
    "\n",
    "bioactivities_df.sort_values(by=['molecule_chembl_id', 'target_organism', 'IC50'], ascending=[True, True, True], inplace=True)\n",
    "\n",
    "bioactivities_df.drop_duplicates(subset=['molecule_chembl_id'], keep='first', inplace=True)\n",
    "\n",
    "print(f\"DataFrame shape: {bioactivities_df.shape}\")"
   ]
  },
  {
   "cell_type": "code",
   "execution_count": 37,
   "id": "ecb1bdb9-aea4-4af7-900f-5c6b61ae2fe1",
   "metadata": {},
   "outputs": [],
   "source": [
    "compounds_provider = compounds_api.filter(\n",
    "    molecule_chembl_id__in=list(bioactivities_df[\"molecule_chembl_id\"])\n",
    ").only(\"molecule_chembl_id\", \"molecule_structures\")"
   ]
  },
  {
   "cell_type": "code",
   "execution_count": 38,
   "id": "0f026286-d58a-4254-ba21-35b673c49807",
   "metadata": {},
   "outputs": [
    {
     "data": {
      "application/vnd.jupyter.widget-view+json": {
       "model_id": "e350c6a826254536b562e2666f90961e",
       "version_major": 2,
       "version_minor": 0
      },
      "text/plain": [
       "  0%|          | 0/2186 [00:00<?, ?it/s]"
      ]
     },
     "metadata": {},
     "output_type": "display_data"
    }
   ],
   "source": [
    "compounds = list(tqdm(compounds_provider))"
   ]
  },
  {
   "cell_type": "code",
   "execution_count": 39,
   "id": "fa5bd821-2ce3-410f-a58f-43540655c66b",
   "metadata": {},
   "outputs": [
    {
     "name": "stdout",
     "output_type": "stream",
     "text": [
      "DataFrame shape: (2186, 2)\n"
     ]
    }
   ],
   "source": [
    "compounds_df = pd.DataFrame.from_records(\n",
    "    compounds,\n",
    ")\n",
    "print(f\"DataFrame shape: {compounds_df.shape}\")"
   ]
  },
  {
   "cell_type": "code",
   "execution_count": 40,
   "id": "4417961c-2501-4d0c-af48-66c14bcd0826",
   "metadata": {},
   "outputs": [
    {
     "data": {
      "text/html": [
       "<div>\n",
       "<style scoped>\n",
       "    .dataframe tbody tr th:only-of-type {\n",
       "        vertical-align: middle;\n",
       "    }\n",
       "\n",
       "    .dataframe tbody tr th {\n",
       "        vertical-align: top;\n",
       "    }\n",
       "\n",
       "    .dataframe thead th {\n",
       "        text-align: right;\n",
       "    }\n",
       "</style>\n",
       "<table border=\"1\" class=\"dataframe\">\n",
       "  <thead>\n",
       "    <tr style=\"text-align: right;\">\n",
       "      <th></th>\n",
       "      <th>molecule_chembl_id</th>\n",
       "      <th>molecule_structures</th>\n",
       "    </tr>\n",
       "  </thead>\n",
       "  <tbody>\n",
       "    <tr>\n",
       "      <th>0</th>\n",
       "      <td>CHEMBL91</td>\n",
       "      <td>{'canonical_smiles': 'Clc1ccc(COC(Cn2ccnc2)c2c...</td>\n",
       "    </tr>\n",
       "    <tr>\n",
       "      <th>1</th>\n",
       "      <td>CHEMBL275224</td>\n",
       "      <td>{'canonical_smiles': 'c1ccc2c(c1)[nH]c1cnccc12...</td>\n",
       "    </tr>\n",
       "    <tr>\n",
       "      <th>2</th>\n",
       "      <td>CHEMBL14145</td>\n",
       "      <td>{'canonical_smiles': 'c1ccc(-c2c[nH]cn2)cc1', ...</td>\n",
       "    </tr>\n",
       "    <tr>\n",
       "      <th>3</th>\n",
       "      <td>CHEMBL274452</td>\n",
       "      <td>{'canonical_smiles': 'c1ccc2c(c1)[nH]c1c(-c3c[...</td>\n",
       "    </tr>\n",
       "    <tr>\n",
       "      <th>4</th>\n",
       "      <td>CHEMBL15192</td>\n",
       "      <td>{'canonical_smiles': 'CC1(C)CCC2=C(O1)c1ccccc1...</td>\n",
       "    </tr>\n",
       "  </tbody>\n",
       "</table>\n",
       "</div>"
      ],
      "text/plain": [
       "  molecule_chembl_id                                molecule_structures\n",
       "0           CHEMBL91  {'canonical_smiles': 'Clc1ccc(COC(Cn2ccnc2)c2c...\n",
       "1       CHEMBL275224  {'canonical_smiles': 'c1ccc2c(c1)[nH]c1cnccc12...\n",
       "2        CHEMBL14145  {'canonical_smiles': 'c1ccc(-c2c[nH]cn2)cc1', ...\n",
       "3       CHEMBL274452  {'canonical_smiles': 'c1ccc2c(c1)[nH]c1c(-c3c[...\n",
       "4        CHEMBL15192  {'canonical_smiles': 'CC1(C)CCC2=C(O1)c1ccccc1..."
      ]
     },
     "execution_count": 40,
     "metadata": {},
     "output_type": "execute_result"
    }
   ],
   "source": [
    "compounds_df.head()"
   ]
  },
  {
   "cell_type": "code",
   "execution_count": 41,
   "id": "3f882d6d-2ebc-4074-a0f7-4ca866053646",
   "metadata": {},
   "outputs": [
    {
     "name": "stdout",
     "output_type": "stream",
     "text": [
      "DataFrame shape: (2186, 2)\n"
     ]
    }
   ],
   "source": [
    "compounds_df.dropna(axis=0, how=\"any\", inplace=True)\n",
    "print(f\"DataFrame shape: {compounds_df.shape}\")"
   ]
  },
  {
   "cell_type": "code",
   "execution_count": 42,
   "id": "9545e690-79ea-4928-91d1-6576b5445739",
   "metadata": {},
   "outputs": [
    {
     "name": "stdout",
     "output_type": "stream",
     "text": [
      "DataFrame shape: (2186, 2)\n"
     ]
    }
   ],
   "source": [
    "compounds_df.drop_duplicates(\"molecule_chembl_id\", keep=\"first\", inplace=True)\n",
    "print(f\"DataFrame shape: {compounds_df.shape}\")"
   ]
  },
  {
   "cell_type": "code",
   "execution_count": 43,
   "id": "34424e19-414b-4998-8914-5daa800d3ac0",
   "metadata": {},
   "outputs": [
    {
     "data": {
      "text/plain": [
       "dict_keys(['canonical_smiles', 'molfile', 'standard_inchi', 'standard_inchi_key'])"
      ]
     },
     "execution_count": 43,
     "metadata": {},
     "output_type": "execute_result"
    }
   ],
   "source": [
    "compounds_df.iloc[0].molecule_structures.keys()"
   ]
  },
  {
   "cell_type": "code",
   "execution_count": 44,
   "id": "3115133d-0cc4-49dc-9b0c-bb25d0d4728d",
   "metadata": {},
   "outputs": [
    {
     "name": "stdout",
     "output_type": "stream",
     "text": [
      "DataFrame shape: (2186, 2)\n"
     ]
    }
   ],
   "source": [
    "canonical_smiles = []\n",
    "\n",
    "for i, compounds in compounds_df.iterrows():\n",
    "    try:\n",
    "        canonical_smiles.append(compounds[\"molecule_structures\"][\"canonical_smiles\"])\n",
    "    except KeyError:\n",
    "        canonical_smiles.append(None)\n",
    "\n",
    "compounds_df[\"smiles\"] = canonical_smiles\n",
    "compounds_df.drop(\"molecule_structures\", axis=1, inplace=True)\n",
    "print(f\"DataFrame shape: {compounds_df.shape}\")"
   ]
  },
  {
   "cell_type": "code",
   "execution_count": 45,
   "id": "d619fbcd-75d8-4e68-8e4a-d787855d59ed",
   "metadata": {},
   "outputs": [
    {
     "name": "stdout",
     "output_type": "stream",
     "text": [
      "DataFrame shape: (2186, 2)\n"
     ]
    }
   ],
   "source": [
    "compounds_df.dropna(axis=0, how=\"any\", inplace=True)\n",
    "print(f\"DataFrame shape: {compounds_df.shape}\")"
   ]
  },
  {
   "cell_type": "code",
   "execution_count": 46,
   "id": "1399db51-e64c-4a3c-89ac-2ce1ebbb5669",
   "metadata": {},
   "outputs": [
    {
     "name": "stdout",
     "output_type": "stream",
     "text": [
      "Bioactivities filtered: 2186\n"
     ]
    },
    {
     "data": {
      "text/plain": [
       "Index(['activity_id', 'assay_chembl_id', 'assay_description', 'assay_type',\n",
       "       'molecule_chembl_id', 'relation', 'units', 'IC50', 'target_chembl_id',\n",
       "       'target_organism', 'type'],\n",
       "      dtype='object')"
      ]
     },
     "execution_count": 46,
     "metadata": {},
     "output_type": "execute_result"
    }
   ],
   "source": [
    "print(f\"Bioactivities filtered: {bioactivities_df.shape[0]}\")\n",
    "bioactivities_df.columns"
   ]
  },
  {
   "cell_type": "code",
   "execution_count": 47,
   "id": "915c9ec7-b827-4100-bcc7-bc2e50d3038e",
   "metadata": {},
   "outputs": [
    {
     "name": "stdout",
     "output_type": "stream",
     "text": [
      "Compounds filtered: 2186\n"
     ]
    },
    {
     "data": {
      "text/plain": [
       "Index(['molecule_chembl_id', 'smiles'], dtype='object')"
      ]
     },
     "execution_count": 47,
     "metadata": {},
     "output_type": "execute_result"
    }
   ],
   "source": [
    "print(f\"Compounds filtered: {compounds_df.shape[0]}\")\n",
    "compounds_df.columns"
   ]
  },
  {
   "cell_type": "code",
   "execution_count": 48,
   "id": "167a0881-38e4-49f3-815a-7d1c324287ae",
   "metadata": {},
   "outputs": [
    {
     "name": "stdout",
     "output_type": "stream",
     "text": [
      "Dataset with 2186 entries.\n"
     ]
    }
   ],
   "source": [
    "# Merge DataFrames\n",
    "chembl_molecules = pd.merge(\n",
    "    bioactivities_df[[\"molecule_chembl_id\", \"IC50\", \"units\", 'target_organism']],\n",
    "    compounds_df,\n",
    "    on=\"molecule_chembl_id\",\n",
    ")\n",
    "\n",
    "# Reset row indices\n",
    "chembl_molecules.reset_index(drop=True, inplace=True)\n",
    "\n",
    "print(f\"Dataset with {chembl_molecules.shape[0]} entries.\")"
   ]
  },
  {
   "cell_type": "code",
   "execution_count": 49,
   "id": "c53f57f1-94a4-4180-b742-f0382d284f5a",
   "metadata": {},
   "outputs": [],
   "source": [
    "def convert_ic50_to_pic50(IC50_value):\n",
    "    pIC50_value = 9 - math.log10(IC50_value)\n",
    "    return pIC50_value"
   ]
  },
  {
   "cell_type": "code",
   "execution_count": 50,
   "id": "c161fabe-3bce-499b-9945-2d2bb057a370",
   "metadata": {},
   "outputs": [],
   "source": [
    "# Apply conversion to each row of the compounds DataFrame\n",
    "chembl_molecules[\"pIC50\"] = chembl_molecules.apply(lambda x: convert_ic50_to_pic50(x.IC50), axis=1)\n",
    "#output_df.head()"
   ]
  },
  {
   "cell_type": "code",
   "execution_count": 51,
   "id": "39b0ea39-c614-44c1-a635-dbec1d667253",
   "metadata": {},
   "outputs": [
    {
     "data": {
      "text/html": [
       "<div>\n",
       "<style scoped>\n",
       "    .dataframe tbody tr th:only-of-type {\n",
       "        vertical-align: middle;\n",
       "    }\n",
       "\n",
       "    .dataframe tbody tr th {\n",
       "        vertical-align: top;\n",
       "    }\n",
       "\n",
       "    .dataframe thead th {\n",
       "        text-align: right;\n",
       "    }\n",
       "</style>\n",
       "<table border=\"1\" class=\"dataframe\">\n",
       "  <thead>\n",
       "    <tr style=\"text-align: right;\">\n",
       "      <th></th>\n",
       "      <th>molecule_chembl_id</th>\n",
       "      <th>IC50</th>\n",
       "      <th>units</th>\n",
       "      <th>target_organism</th>\n",
       "      <th>smiles</th>\n",
       "      <th>pIC50</th>\n",
       "      <th>ROMol</th>\n",
       "    </tr>\n",
       "  </thead>\n",
       "  <tbody>\n",
       "    <tr>\n",
       "      <th>0</th>\n",
       "      <td>CHEMBL432537</td>\n",
       "      <td>0.018</td>\n",
       "      <td>nM</td>\n",
       "      <td>Homo sapiens</td>\n",
       "      <td>O=C1c2cc([N+](=O)[O-])ccc2-n2c1nc1ccccc1c2=O</td>\n",
       "      <td>10.744727</td>\n",
       "      <td style=\"text-align: center;\"><div style=\"width: 200px; height: 200px\" data-content=\"rdkit/molecule\"><img src=\"data:image/png;base64,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\" alt=\"Mol\"/></div></td>\n",
       "    </tr>\n",
       "    <tr>\n",
       "      <th>1</th>\n",
       "      <td>CHEMBL5207194</td>\n",
       "      <td>0.080</td>\n",
       "      <td>nM</td>\n",
       "      <td>Homo sapiens</td>\n",
       "      <td>Cc1cc(C2CC2)ncc1-c1ccc(C2(C(=O)Nc3ccc(F)cc3)CO...</td>\n",
       "      <td>10.096910</td>\n",
       "      <td style=\"text-align: center;\"><div style=\"width: 200px; height: 200px\" data-content=\"rdkit/molecule\"><img src=\"data:image/png;base64,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\" alt=\"Mol\"/></div></td>\n",
       "    </tr>\n",
       "    <tr>\n",
       "      <th>2</th>\n",
       "      <td>CHEMBL4645108</td>\n",
       "      <td>0.090</td>\n",
       "      <td>nM</td>\n",
       "      <td>Homo sapiens</td>\n",
       "      <td>O=C(Nc1ccc(C2(C(=O)Nc3ccc(F)cc3)COC2)cc1)c1ccc...</td>\n",
       "      <td>10.045757</td>\n",
       "      <td style=\"text-align: center;\"><div style=\"width: 200px; height: 200px\" data-content=\"rdkit/molecule\"><img src=\"data:image/png;base64,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\" alt=\"Mol\"/></div></td>\n",
       "    </tr>\n",
       "    <tr>\n",
       "      <th>3</th>\n",
       "      <td>CHEMBL4863767</td>\n",
       "      <td>0.100</td>\n",
       "      <td>nM</td>\n",
       "      <td>Homo sapiens</td>\n",
       "      <td>O=C(Nc1ccc(F)cc1)C1(C2CCC3C(CCCN3c3ccnc(C(F)(F...</td>\n",
       "      <td>10.000000</td>\n",
       "      <td style=\"text-align: center;\"><div style=\"width: 200px; height: 200px\" data-content=\"rdkit/molecule\"><img src=\"data:image/png;base64,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\" alt=\"Mol\"/></div></td>\n",
       "    </tr>\n",
       "    <tr>\n",
       "      <th>4</th>\n",
       "      <td>CHEMBL4086143</td>\n",
       "      <td>0.120</td>\n",
       "      <td>nM</td>\n",
       "      <td>Homo sapiens</td>\n",
       "      <td>O=C1CC(c2c[nH]c3ccc(F)cc23)C(=O)N1</td>\n",
       "      <td>9.920819</td>\n",
       "      <td style=\"text-align: center;\"><div style=\"width: 200px; height: 200px\" data-content=\"rdkit/molecule\"><img src=\"data:image/png;base64,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\" alt=\"Mol\"/></div></td>\n",
       "    </tr>\n",
       "    <tr>\n",
       "      <th>...</th>\n",
       "      <td>...</td>\n",
       "      <td>...</td>\n",
       "      <td>...</td>\n",
       "      <td>...</td>\n",
       "      <td>...</td>\n",
       "      <td>...</td>\n",
       "      <td>...</td>\n",
       "    </tr>\n",
       "    <tr>\n",
       "      <th>2181</th>\n",
       "      <td>CHEMBL2147988</td>\n",
       "      <td>2300000.000</td>\n",
       "      <td>nM</td>\n",
       "      <td>Homo sapiens</td>\n",
       "      <td>FC(F)(F)c1ccc(-c2c[nH]nn2)cc1</td>\n",
       "      <td>2.638272</td>\n",
       "      <td style=\"text-align: center;\"><div style=\"width: 200px; height: 200px\" data-content=\"rdkit/molecule\"><img src=\"data:image/png;base64,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\" alt=\"Mol\"/></div></td>\n",
       "    </tr>\n",
       "    <tr>\n",
       "      <th>2182</th>\n",
       "      <td>CHEMBL84963</td>\n",
       "      <td>2570000.000</td>\n",
       "      <td>nM</td>\n",
       "      <td>Homo sapiens</td>\n",
       "      <td>c1ccc2[nH]nnc2c1</td>\n",
       "      <td>2.590067</td>\n",
       "      <td style=\"text-align: center;\"><div style=\"width: 200px; height: 200px\" data-content=\"rdkit/molecule\"><img src=\"data:image/png;base64,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\" alt=\"Mol\"/></div></td>\n",
       "    </tr>\n",
       "    <tr>\n",
       "      <th>2183</th>\n",
       "      <td>CHEMBL2148080</td>\n",
       "      <td>3000000.000</td>\n",
       "      <td>nM</td>\n",
       "      <td>Homo sapiens</td>\n",
       "      <td>Cc1cccc(NC(=O)C(F)(F)F)c1-c1c[nH]nn1</td>\n",
       "      <td>2.522879</td>\n",
       "      <td style=\"text-align: center;\"><div style=\"width: 200px; height: 200px\" data-content=\"rdkit/molecule\"><img src=\"data:image/png;base64,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\" alt=\"Mol\"/></div></td>\n",
       "    </tr>\n",
       "    <tr>\n",
       "      <th>2184</th>\n",
       "      <td>CHEMBL2148081</td>\n",
       "      <td>3200000.000</td>\n",
       "      <td>nM</td>\n",
       "      <td>Homo sapiens</td>\n",
       "      <td>Cc1ccc(N)cc1-c1c[nH]nn1</td>\n",
       "      <td>2.494850</td>\n",
       "      <td style=\"text-align: center;\"><div style=\"width: 200px; height: 200px\" data-content=\"rdkit/molecule\"><img src=\"data:image/png;base64,iVBORw0KGgoAAAANSUhEUgAAAMgAAADICAIAAAAiOjnJAAAABmJLR0QA/wD/AP+gvaeTAAAZcUlEQVR4nO2deVhV1frHv2dikEmcpwcJVOAgWuGQ4HTVcsibI17T1NIrmvnTNMshje7V6qTezPSipt7EMWdEjYTQcEoRR2QyRREVTQVRYj7n/f2x4ECADOecdfah1ufp6WGvs/de73n8nLX3Xutda8uICAKBqZFLHYDgz4kQS8AFIZaAC0IsAReEWAIuCLEEXBBiCbggxBJwQYgl4IIQS8AFIZaAC0IsAReEWAIuCLEEXBBiCbggxBJwQYgl4IIQS8AFIZaAC0IsAReEWAIuCLEEXBBiCbggxBJwQYgl4IIQS8AFIZaAC0IsAReEWAIuCLEEXBBiCbggxBJwQYgl4IIQS8AFIZaAC0IsAReEWAIuCLEEXBBiCbggxBJwQYgl4IIQS8AFIZaAC0IsAReEWAIuCLEEXKhGrMePUVRUuqnT4fFj6HSV7JmVhdzc0s2iImRmmiRCQZ2kGrEaNcKZM6WbaWlo1Ah371ayp5cXOnRAXl7x5vnzaNTIVEEK6h6mvBQ+fozPPzfh+QR1GFOKNW8eli9HUpIJTymoqyir3SMxEVZWxX/fv1/Vnh07YsIETJuGqChThCaoy1Qv1pdfws6u+O/Cwmp2XrIEnp7YsgUeHkaHJqjLVC/Wpk3o3r3479RUuLpWtXPDhtBo8NFH2LLFBMEJ6i6m78eaOBFubli61OQnFtQlqm+xnkdaGnbuRP36GDsWtral5TIZ1q3Dyy+bIDhB3cXAFkurRWAgOnRAVhZmzSr/qY8Ppk0zNjJBnUZGRFV8XFQEpbKqkowMDBmCEyeee4a9e9GnD5ydjYxTUMeopsVSVrhUlivZvh0DBz738NWrMXIkRo+GVmtYeIK6ilE372FhiIjAnDnP3eGNN9CkCSIi8NFHxtQjqHtUcyl8HjodlizBmTP46ivY2qJ16+fuefo0+vRBfj42bMCkSYYHKqhbGNhiZWUhJwcdOmDTJmzeXNWefn5YuxYApk/H2bOG1SaoexjYYtWWadOwZg2aN8e5c2jZ0gwV/pn55ZdfVq9ePWLECC8vL3d3dyv9iJslYSaxCgvx2mv4+We88gp+/hnW1mao88/Jjh07xowZo99UKpUuLi5ubm5qtdrb29vNza19+/bNmjUz4Mz37kEuh/5QrRapqXBxAYBbt+DqWvrclpeHO3fQpk2VpyNz8egRubkRQOPGma3OPyG+vr4AmjVrNmjQIHd3d4VCUfHftHHjxr169QoMDFyzJvyHH+jGDdJqqz+znx85OFBaWvHmgwcE0K1bdPt28R96TpygasUxvOe9tjRsiH374O+PLVvg64uZM81W85+H8+fPX7hwoV69etHR0e3atQNQWFiYlpYWHx+fkJCQkpISHx9/5cqVhw8fRkdHR0dH9+z56vHjAGBlhVatoFbD2xtublCr0bEjHBzKn9/WFjNnYu9eU8Rq6C/HQPbuJZmMFAr64Qcz1/xnYNCgQQDmzZtX9W63b9+OjIxctWpVUFBC377UqhUB5f+Tyah1a3rtNZoxg4KDKT2d/PxoyRJydqaDB4mMbrHMdI9Vlo8/xrp1OrV60aZNk9zc3Mxce90lNja2S5cudnZ2KSkpjRs3rtWx+fm4fh0JCUhJQXw8EhKQmIicnNIdLlzA9OkYNw4FBVixAvHxyM5G06a4dQtyOVxcsHkzmjQp3jk+Hh98gKrFMd+lUM/ixbh9e97WrcuGDAk7ffq0Q8UWWVAZCxcuJKKZM2cyq3766aeMjIyRI0fK5dX3GVlbw9sb3t6lJVotbt5EUhISE5GcjHbtisunTcP//ofFi8sPAQcHlz5yZWXVIFyjmmZDefr0qbe3N4AhQ4Zoa3Jj+Zfn1KlTABwdHR8/fkxEWq3Wx8cHwJYtW0xVhZ8frVlDRHT2LNnYFF/vDL4USjOv0MHB4eDBgw0bNjxw4MC///1vSWKoW3zyyScAZs2a1aBBAwB79uyJi4tzcXEJCAgweV1dumDMGMybZ9xZTOW7AURERCiVSplMtnPnTn61pKenR0VFffHFFz4+Pv3794+KiuJXFydOnjwJwMnJKSMjg8o0V99++60Ja9G3WET06BE1amRUiyWlWES0bNkyAPb29leuXDHJCe/evRsZGblu3boZM2b069evadOm5X5ISqUyKSnJJHWZjd69ewP417/+xTa3bdsGoHXr1vn5+SaspX9/+t//SjfXrydnZ7p9m+7cIXt7un279KNffiF7+2rOJrFYRDRx4kQArq6uv/32W60OzM/Pj4+P37179+LFi998882XXnrJtmwmawnOzs5+fn6TJk0aPHiwnZ0dAD8/v7y8PE5fx+RERUUBqF+/fmZmJhEVFRV5enoC2LhxI79Ki4royROjziC9WLm5uV26dAHQo0ePKn6C+fn5V69e3bVrV1BQUEBAgK+vr42NTaUa+fv7BwYGajSasLCwGzdu6HQ6/UnS0tJatWoF4O233zbLlzMBPXv2BPDZZ5+xzc2bNwNwd3cvLCzkVGNYGNnYUECAUSeRXiwiunfvXsuWLQHMmDGDlWRkZMTGxoaEhMydOzcgIECtVlf6UN28efN+/frNmDFj3bp1kZGRDx48qLYu1nMNIDg4mPPXMgEREREAGjZs+PTpUyIqKiry8PAAsGnTJn6VxsYSQO3bG3USixCLiE6dOmVtbQ3A29u70t4/KysrHx+fgICATz755Pvvv7948WJubm6tqtBf/rZs2QJApVIdO3bM9N/EpPTo0QOARqNhm9999x2Atm3b8muuiCg7m2QysrIiYyqxFLGIaPr06Y1KFhKxtrZWq9UBAQFBQUG7du2KjY015q5Ip9NpNBpfX9/ff/+dlcyZM4e1BDdu3DBR+KYnPDwcQKNGjVhzVVBQ4O7uDmDr1q28q3ZxIYCuXTP8DBYk1uDBgwFMnTr1dtknEFOQmZnJxo7Gjh3LSrRaLRt369ixY3Z2tmmrMxVdu3YFsHz5cra5fv16AO3atSsqKuJddf/+BNCBA4afwVLEun//vkqlsrKyqu2zYQ1JSEhwdHQEsHTpUlaSlZXl5eUFYPjw4WVv8C2EgwcPAmjWrBlrZQsKCl544QUAO3bsMEPt779PAJVcgQ3BUsT68ssvAYwYMYJfFaGhoXK5XC6XHzp0iJUkJSU5OTmVfeayHDp37gxgxYoVbHPt2rXsBtQ8I2Dr1hFAEyYYfgZLEYs1Hvp/8pUrV0ZHR5u8IQkKCgLg6OgYHx/PSn788UeFQiGXy8PCwkxblzGEhoayZ96cnBwiys/Pd3V1BbB7927zBHD8OAHUpYvhZ7AIsdgIa7NmzdjDzoMHD1QqlUqlun//vmkr0ul0o0aNAuDh4cH6G4loyZIlABwcHK5evWra6gxDp9O9+OKLAFatWsVKVq9eDaB9+/ZmG7B/9IgAcnQkg3/aFiHWP//5T5TJX1u+fDmAoUOH8qjr2bNnbKCtf//+7C5Yp9ONHj0awAsvvPDo0SMeldaKPXv2AGjRogVrrvLy8lin7r59+8wZBhsr1Gcq1xbpxcrJyalfvz6AxMREVtKhQwcAB4x5JqmSmzdvsq6yBQsW6GPo1KkTgFdffdUMz1xVoNPpOnbsWLb/duXKlQBeeuklMz9h9OxJAEVEGHi49GKFhIQA8Pf3Z5tnzpwB0LRp04KCAn6V/vTTTyyxYvv27awkNTW1SZMmAObMmcOv3mrZuXMnABcXF9Zvl5uby8YkzH8LOGUKAbRypYGHSy8WG7rfsGED25wyZQqADz/8kHe9X3/9NQBbW9tz586xkpMnT7I5elzHd6ugYj7Mf/7zHwC+vr7m7xD5+msCaOpUAw+XWKyUlBSZTGZnZ8c6l/WXRf1TG1cmT57Mmgf9IGNwcDAAGxubs2fPmiGAcpTLh8nJyWnRogWAw4cPmz+YI0cIoF69DDxcYrEWLVpUNtdg69atAF555RXz1F5QUMAG4/z9/fWJFazJbN68+Z07d8wTBqNiPszSpUsBdOrUSZL+W5bf16SJgYdLKZZWq3VxcQEQHR3NSvr27Qtg3bp1ZoshPT2dPXO98847rKSgoKBXr14AunXrZs60rXL5MNnZ2eye78iRI2aLoSw6HTk4EECGPShLKdaRI0fYQz77Rd68eVMul9va2up7mMzD+fPnWSLNmpLM3EePHrHxk/Hjx5snBn0+TEhICCthl0X9M40kdOpEAJ08acixUorFeo+WLFnCNlm3+DgpZuBXTKS5ePEiSzf95ptveNSo1WpTUlIOHz68bNmySZMm+fj4KBSKVq1ale3sOHHiRExMDI/aa8i4cQTQ+vWGHCuZWE+ePLG1tZXL5ampqUSk0+lYAsLRo0clieeDDz5giTQpKSmsZM+ePTKZTKlUGj//oqCg4MaNG2FhYRqNJjAw0N/f397evlzCmZOTk0qlsqiRpc8/J4BmzzbkWMnEYsMUAwYMYJuRkZEAXF1dpZpmqE+kefHFF/WJNPPmzQPQoEGD69ev1/xUz549O3fu3JYtW+bPnz9s2DAPDw9lxSU3gRYtWvTt2/e9994LDg6Oiop6//33WT7j/v37+XzFWrN/PwFU8k9UOyQTi62aop/4xZbm0U9EkYSMjIy2bduWTaTRarUsS8zLyysrK+t5R+mzqAcPHuzm5mZwFvWCBQssyq3UVJo9mwybmyeNWHFxcawlYOnFT548qVevnlwuv1V29poUJCYmskSazz//nJXoJ20PHTpUp9NlZGScOHFCP72s0rUnVCqVm5vb4MGD586dGxISEhsbW/NcQuaWSqUy88hgRfbto3KzAjQaunevpodLIxZr9qdPn84216xZw8bpJAmmHOHh4eUSafRpW5VOL3N0dOzcufOECRM0Gk1oaOi1a9eMTEj/+OOPLcGtYcMI+ENzJZNRzbuNJRArPz+fjQGfP3+elbDpX/phO8lhiTTdu3fX90xOmTKF3W47Ozv7+vqOGzdOP72Mx02h3q29e/ea/OTPIyaGSgbliYiGDaNOnah589IJhpYuFksL8fHxYZtXr15lz0QsS8QS0Ol0K1asePbsmb6EZRzoO5nMwMKFCwEoFAoz/N6uXqWAAJLJCCD9Q/mwYRQURH36UMl1xeLFev311wGsLBk3nz17NoBp06aZP5IaEhsby3oizDx/mo13cXUrIYHGjSOFggCys6MZM0ifW8nEiosja2tivWkWLVZ6erpSqdRPmigsLGQrsepTDCyQ9957D8Bsw/pzjIPdyzs4OISGmjgD8eZNCgwsVsrKigIDy9+YM7GI6IMPyNeXtFrLFuuLL74AMHLkSLa5f/9+AO2NnHXLk9zcXGdnZwCXL1+WJIBFiz59+eUIpZJ27TLNCVNTKTCQlEoCSKWiwEAqO9qu01F4OOl0pWI9fUotW9LGjZYtFhvA1+eBvPHGGwC++uorM4dRc3bs2AGgc+fOEsbwyScEkEJBRs5UTUujGTPI2rpYqXHjqFy/b2Qk+foWzyjUi0VEu3ZRixYWLBZb56lly5ZsRIzNJVSpVJzmEpqE1157DRaw0ENQULFbhq3g99tvNHcu2doSQHI5BQSUn+UcHk6dOxeve9uqFe3d+wexiGjgQAIsVaxJkyYBmD9/Pttk+UbDhw83Zwy1Ii0tTaFQ2NjYsBXPpMUwtx49oqCg4gQYmYwGD6Zyl/QTJ+hvfytWqnFj0miIPZ0vW/aHi++1axQQQL/+WtN6zSfWgwcPWAejftKEWq0GcJCt/myRsGUsx4wZI3UgxWg0tXDr6VPSaMjJqViafv3owoU/7HD6NPXrV/xpw4ak0VDJ0hYmwHxisTlezs7ObFOr1W7fvn3UqFFcF04xBp1OxxbhiIyMlDqWUvRubd783H2ePSONhpydS5Uq98x9+TIFBBR/6uBAc+cau8xaRcwn1qxZswDUq1fPYhfhKMexY8cAlMuRsgS+/LIat/SXtn796Jdf/vBRXFxpX6i9Pc2dS5yyKs0n1uXLl9mLX959912zVWoM48ePBxBU9g7WYtC7VelYwIED1LMnleR7F8P6QuXySvpCeWDWm/fo6Gh2m7V27Vpz1msAWVlZ9erVk8lktcrEMidLlhS7VXLL+lyq7Qvlgbn7sdiUAZVK9fPPP5u56lrx7bffAujTp4/UgVTFZ5/RihUUG0u+vrRtW2n58uW0cCHRH/tCmVJmm3kkwVghy5lp2rSpyRdYMyHdunWDSd/7wI9jx0ihoMaNS6fTvP8+jR1LK1aQSlXcFzp5MqWmmjUqCcQqKioaOHAgSwL+3YQPuKYjOTlZJpM5OjpaZnjlOHaMGjSgESNo4sTiEiZWVFTlfaHmQYJXnigUim3btrVp0+bSpUsTJkwgs79+rFrYlNE333yTTQurEyxdih07cOxYaUmfPkhJwa5daNtWgnikeZeOs7PzwYMHnZyc9uzZw/rfLYeioiI2G+ydd96ROpZa4OaGDz/E//0fCgtLC1u3liweacQC4OnpGRISIpfLFyxYcOjQIanCqEh4eHh6erqHhwdbW7YOMW8ecnPxzTdSxwFAQrEADBkyJCgoSKfTjRkzJiEhQcJIysLWUmfjBHULW1usWoXFi/HwodShQNK3f9Fz1m6UkIcPH1pZWSmVyvT0dKljqSns5l3PsGGkUlHJuuOSIWWLBUAmk23cuLFDhw7JycmjR4/WarXSxrN58+aCgoLXX3+d5bXWRVauLH0VqpRILDYREd26dYvN26n2Ndq8YatUhoaGShtGrcjIoHKdzZcuUVycRNGUYBFiEdHx48etrKzKrt1ofmJiYgA0adKE6yqVfxEkvhTq6dGjB3u3x8SJE8+dO2eeSp89e1Z2k922jx8/XqVSmSeAPzEysqT+ycDAwPXr17u4uMTExFR8OaqR3Lt3LyEhIT4+PiEhISUl5cqVK2q1+lhJl2JeXl6LFi0yMzOvXLnCFgIVGEMlq6BIyH//+9/k5OTjx48PHz786NGj1obehebn5ycnJyclJSUmJiYmJiYlJSUlJeXn55fbrWHDhvq/9+3bl5mZ2bVrV2GVSbAssVQq1a5duzp16nT69OmpU6eya1O15OfnX79+Xd8axcfHJycnV3zAdHZ2VqvV3t7e7P9ubm5ll/RgddWt3nZLxrIuhYyLFy927949JycnODj43XffLfdpZmZmSkqK3qGEhISbN2+W+xZKpdLFxcXNzU1vUocOHdjbvyrlzp07rq6uVlZW9+7dY8s2C4zEEsUCsG3btrfeekulUkVERLCF4BkajWb+/PnldraxsfH09PT09PQqoV27dmzF9irIzMxMSkpKSEhISko6fPhwYmLi0KFD2QRagfFY1qVQz9ixYy9durR8+fKRI0fGxMTor1lt2rRxcnJq06ZN2dbI09OTJT1XQWZmpv62vdJ2jr0SLDs7u+IijgIDsNAWC4BOp/v73//+ww8/dOzY8dSpU2ypWa1WW61DWq321q1b+tv2+Pj4pKSkrKyscrvZ2dl5eHh4eXmp1erWrVsvXrw4OTl56NChe/furXRJPkGtsFyxADx9+rRbt24JCQnDhw9nS81W3KewsDAtLa3sLVdSUtLvv/9ebrf69eu7u7vrb9vVarWXl1dZga5du9a1a9cnT54EBQV9+umnXL/XXwGLFgtAcnJy165ds7KyxowZs23btnIPgCkpKVevXq3Yj1D1A+DziIyMHDhwoE6n+/7779nQuMBgLF0sAPv27RsxYgQAhUJRsRNBoVCwFojdvKvVag8PjyoeAKtm2bJlH330kb29/enTp0WHljHUAbEADBo0KDw8HCX9CGVbIy8vL9MmEE+cOPG7775zdXWNiYlhQ+MCA6gbYgG4dOlSZmamv79/tf0IRpKXl9erV6+YmJgePXpERUWJcUPDqDNimZP09PTOnTvfvXt35syZ7LWGgtoinqsroXnz5rt377a2tl65cuX69eulDqdOIlqs5xISEvL222+rVKqoqCj2WkNBzREt1nOZMGHC9OnTCwsLR40adefOHanDqWOIFqsqioqK+vfvf/To0ZdffvnEiRN1aP6q5IgWqyqUSuXu3bvd3d0vXLjAXukrqCFCrGpo0KBBWFiYo6Pj1q1b2TvlBTVBXAprRGho6PDhw2Uy2cGDB9lrDQVVI1qsGjF06NBFixbpdLq33nrr119/lTqcOoBosWoKEf3jH//YvXu3h4fH2bNn2YvmBM9DiFULsrOz/fz84uLiBgwYcOjQoWozw/7KiEthLbC3tw8LC2vUqNGPP/4YFBQkdTgWjWixak1UVNSAAQPYOvWjR4+WOhwLRbRYtaZv377Lli1jk7bPnz8vdTgWimixDGTy5MkbNmxo3bp1TExMkyZNpA7H4hBiGUh+fn7v3r3PnDnTvXv3qKgo3llidQ5xKTQQa2vr/fv3t2rV6uTJk+xtLoKyiBbLKM6ePdu7d2+lUhkXF+fq6ip1OBaEEMtY9uzZ065dO7Zim0CPEEvABXGPJeCCEEvABSGWgAtCLAEXhFgCLgixBFwQYgm4IMQScEGIJeCCEEvABSGWgAtCLAEXhFgCLgixBFwQYgm4IMQScEGIJeCCEEvABSGWgAtCLAEXhFgCLgixBFwQYgm4IMQScEGIJeCCEEvABSGWgAtCLAEXhFgCLgixBFwQYgm4IMQScEGIJeCCEEvABSGWgAtCLAEXhFgCLgixBFwQYgm4IMQScEGIJeCCEEvABSGWgAtCLAEXhFgCLgixBFz4f/5hRb1PTPYHAAABJnpUWHRyZGtpdFBLTCByZGtpdCAyMDI0LjAzLjYAAHice79v7T0GIBAAYkYGCOAFYj4gbmBkY0gAiTOzOWgAaWYWNocMEM3MiMSAyLAzgAUYmTBkMPSyO1iAlTKzQ2TgNDfQBYxMGUxMzAnMLBlMLKwKLGwJbOwZTOwcChycGUycXAlc3AncPEABxgQejgQnJqA2NkZ2NhZmJlZODh5uLvFlSN5g4LV93Wm3dbHqARDHLlZ3v0HYtv0gtowC14GS01fA7Mtb3A48z/i/D8Te16ByoFsi3R7ELhVNPHDAjsUBxH6c372/i3ESWHyxsdA+qTe794DYKt6r7RfpxNiBbeNidPh+8hhYzYfH8Q4quivB7Mly+Q4rlJXB5suvk3RQeRgOtlcMANZNQPkwKTNvAAABe3pUWHRNT0wgcmRraXQgMjAyNC4wMy42AAB4nH2TW04DMQxF/2cV3kAjX9t5fdKHEEJMJSjsgX/2L+xWJYOISOoo9Zxx4mvPQjFej8+fX/Qz5LgsRPzPr/dOH8rMywvFhvanx6eVDpeH/d1zOL+vlzeCEszf8fmbfbicX+4e0IE4SelalXaScmtAdRdfx3hVHNxxKrUKG+2QTCxznpAapCTkJuAgS3G0T0gLUhPYaqsR3XprNjs932LmypqbP+8sFW0CFlojZIZnlEkSl6Lu/gvWiIjEzTkhJBiXKhOw3RKHSa05dizSbRayO4mk2kQRoiJzFOAP56oc4moo4ndEyllZZ/oAno2GKuL6eGjxtGYnQ65gVVca19vmrigzUp2UZAzJGmQzlTo7/LQef3XKrXf25/U4eiemjA4xNx1tYGGj1jHzKCjcyiibP6M6imNubZQAbn3obG7Y6mmxABvhLBbIRiGLBbpRwjzqIOJ+7uxbAbbpxv/7Z+b75RsfJrLjOdzPgwAAAMl6VFh0U01JTEVTIHJka2l0IDIwMjQuMDMuNgAAeJwdjjtuAzEMRK+S0ga0BIdfEVu6SZULGK7U7wl8+FDbEQ8z8/haWGs9/p5r4ej7ff1+rgs/3weTRGnqOIR8Tsg4D6bIFLZxgEzM0UwIPgUbRYhFIyWwZY3OW81pecc8WWMwFUti3jFHK4YQR6g2AfEs9QGCceRthEmm7y0WKa2mINUp2lsCZ9g4ewIt76K79n+nbrNUA5WWbJC6E3vRSxG7ZAy5p6ep9MPP7z9l5ziQnvXFkQAAAABJRU5ErkJggg==\" alt=\"Mol\"/></div></td>\n",
       "    </tr>\n",
       "    <tr>\n",
       "      <th>2185</th>\n",
       "      <td>CHEMBL1909732</td>\n",
       "      <td>6000000.000</td>\n",
       "      <td>nM</td>\n",
       "      <td>Homo sapiens</td>\n",
       "      <td>COc1ccc(-c2cnn[nH]2)cc1</td>\n",
       "      <td>2.221849</td>\n",
       "      <td style=\"text-align: center;\"><div style=\"width: 200px; height: 200px\" data-content=\"rdkit/molecule\"><img src=\"data:image/png;base64,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\" alt=\"Mol\"/></div></td>\n",
       "    </tr>\n",
       "  </tbody>\n",
       "</table>\n",
       "<p>2186 rows × 7 columns</p>\n",
       "</div>"
      ],
      "text/plain": [
       "     molecule_chembl_id         IC50 units target_organism  \\\n",
       "0          CHEMBL432537        0.018    nM    Homo sapiens   \n",
       "1         CHEMBL5207194        0.080    nM    Homo sapiens   \n",
       "2         CHEMBL4645108        0.090    nM    Homo sapiens   \n",
       "3         CHEMBL4863767        0.100    nM    Homo sapiens   \n",
       "4         CHEMBL4086143        0.120    nM    Homo sapiens   \n",
       "...                 ...          ...   ...             ...   \n",
       "2181      CHEMBL2147988  2300000.000    nM    Homo sapiens   \n",
       "2182        CHEMBL84963  2570000.000    nM    Homo sapiens   \n",
       "2183      CHEMBL2148080  3000000.000    nM    Homo sapiens   \n",
       "2184      CHEMBL2148081  3200000.000    nM    Homo sapiens   \n",
       "2185      CHEMBL1909732  6000000.000    nM    Homo sapiens   \n",
       "\n",
       "                                                 smiles      pIC50  \\\n",
       "0          O=C1c2cc([N+](=O)[O-])ccc2-n2c1nc1ccccc1c2=O  10.744727   \n",
       "1     Cc1cc(C2CC2)ncc1-c1ccc(C2(C(=O)Nc3ccc(F)cc3)CO...  10.096910   \n",
       "2     O=C(Nc1ccc(C2(C(=O)Nc3ccc(F)cc3)COC2)cc1)c1ccc...  10.045757   \n",
       "3     O=C(Nc1ccc(F)cc1)C1(C2CCC3C(CCCN3c3ccnc(C(F)(F...  10.000000   \n",
       "4                    O=C1CC(c2c[nH]c3ccc(F)cc23)C(=O)N1   9.920819   \n",
       "...                                                 ...        ...   \n",
       "2181                      FC(F)(F)c1ccc(-c2c[nH]nn2)cc1   2.638272   \n",
       "2182                                   c1ccc2[nH]nnc2c1   2.590067   \n",
       "2183               Cc1cccc(NC(=O)C(F)(F)F)c1-c1c[nH]nn1   2.522879   \n",
       "2184                            Cc1ccc(N)cc1-c1c[nH]nn1   2.494850   \n",
       "2185                            COc1ccc(-c2cnn[nH]2)cc1   2.221849   \n",
       "\n",
       "                                              ROMol  \n",
       "0     <rdkit.Chem.rdchem.Mol object at 0x16f43e420>  \n",
       "1     <rdkit.Chem.rdchem.Mol object at 0x16f45dc40>  \n",
       "2     <rdkit.Chem.rdchem.Mol object at 0x16f44af10>  \n",
       "3     <rdkit.Chem.rdchem.Mol object at 0x16f457e60>  \n",
       "4     <rdkit.Chem.rdchem.Mol object at 0x16f42e260>  \n",
       "...                                             ...  \n",
       "2181  <rdkit.Chem.rdchem.Mol object at 0x16f43a9d0>  \n",
       "2182  <rdkit.Chem.rdchem.Mol object at 0x16f462a40>  \n",
       "2183  <rdkit.Chem.rdchem.Mol object at 0x16f43b3e0>  \n",
       "2184  <rdkit.Chem.rdchem.Mol object at 0x16f43b450>  \n",
       "2185  <rdkit.Chem.rdchem.Mol object at 0x16f439930>  \n",
       "\n",
       "[2186 rows x 7 columns]"
      ]
     },
     "execution_count": 51,
     "metadata": {},
     "output_type": "execute_result"
    }
   ],
   "source": [
    "# Add molecule column\n",
    "PandasTools.AddMoleculeColumnToFrame(chembl_molecules, smilesCol=\"smiles\")\n",
    "# Sort molecules by pIC50\n",
    "chembl_molecules.sort_values(by=\"pIC50\", ascending=False, inplace=True)\n",
    "\n",
    "# Reset index\n",
    "chembl_molecules.reset_index(drop=True, inplace=True)\n",
    "chembl_molecules"
   ]
  },
  {
   "cell_type": "code",
   "execution_count": 52,
   "id": "53ac86fd-e8d1-4ddb-adab-1d5d1028afd1",
   "metadata": {},
   "outputs": [],
   "source": [
    "filename = 'chembl_molecules_filtered.csv'\n",
    "dir_path = os.path.join(PATH, filename)\n",
    "chembl_molecules.to_csv(dir_path,index=False)"
   ]
  },
  {
   "cell_type": "markdown",
   "id": "fa41f6c8-7166-4622-aeda-2bef1971ac34",
   "metadata": {},
   "source": [
    "# Združitev podatkov"
   ]
  },
  {
   "cell_type": "code",
   "execution_count": 53,
   "id": "0c3a3d0b-45e3-45b1-b327-b399b2659c5c",
   "metadata": {},
   "outputs": [
    {
     "data": {
      "text/html": [
       "<div>\n",
       "<style scoped>\n",
       "    .dataframe tbody tr th:only-of-type {\n",
       "        vertical-align: middle;\n",
       "    }\n",
       "\n",
       "    .dataframe tbody tr th {\n",
       "        vertical-align: top;\n",
       "    }\n",
       "\n",
       "    .dataframe thead th {\n",
       "        text-align: right;\n",
       "    }\n",
       "</style>\n",
       "<table border=\"1\" class=\"dataframe\">\n",
       "  <thead>\n",
       "    <tr style=\"text-align: right;\">\n",
       "      <th></th>\n",
       "      <th>smiles</th>\n",
       "      <th>IC50</th>\n",
       "      <th>pIC50</th>\n",
       "      <th>ROMol</th>\n",
       "      <th>target_organism</th>\n",
       "    </tr>\n",
       "  </thead>\n",
       "  <tbody>\n",
       "    <tr>\n",
       "      <th>0</th>\n",
       "      <td>O=C1c2cc([N+](=O)[O-])ccc2-n2c1nc1ccccc1c2=O</td>\n",
       "      <td>0.018</td>\n",
       "      <td>10.744727</td>\n",
       "      <td>&lt;rdkit.Chem.rdchem.Mol object at 0x16f43e420&gt;</td>\n",
       "      <td>Homo sapiens</td>\n",
       "    </tr>\n",
       "    <tr>\n",
       "      <th>1</th>\n",
       "      <td>Cc1cc(C2CC2)ncc1-c1ccc(C2(C(=O)Nc3ccc(F)cc3)CO...</td>\n",
       "      <td>0.080</td>\n",
       "      <td>10.096910</td>\n",
       "      <td>&lt;rdkit.Chem.rdchem.Mol object at 0x16f45dc40&gt;</td>\n",
       "      <td>Homo sapiens</td>\n",
       "    </tr>\n",
       "    <tr>\n",
       "      <th>2</th>\n",
       "      <td>O=C(Nc1ccc(C2(C(=O)Nc3ccc(F)cc3)COC2)cc1)c1ccc...</td>\n",
       "      <td>0.090</td>\n",
       "      <td>10.045757</td>\n",
       "      <td>&lt;rdkit.Chem.rdchem.Mol object at 0x16f44af10&gt;</td>\n",
       "      <td>Homo sapiens</td>\n",
       "    </tr>\n",
       "    <tr>\n",
       "      <th>3</th>\n",
       "      <td>O=C(Nc1ccc(F)cc1)C1(C2CCC3C(CCCN3c3ccnc(C(F)(F...</td>\n",
       "      <td>0.100</td>\n",
       "      <td>10.000000</td>\n",
       "      <td>&lt;rdkit.Chem.rdchem.Mol object at 0x16f457e60&gt;</td>\n",
       "      <td>Homo sapiens</td>\n",
       "    </tr>\n",
       "    <tr>\n",
       "      <th>4</th>\n",
       "      <td>O=C1CC(c2c[nH]c3ccc(F)cc23)C(=O)N1</td>\n",
       "      <td>0.120</td>\n",
       "      <td>9.920819</td>\n",
       "      <td>&lt;rdkit.Chem.rdchem.Mol object at 0x16f42e260&gt;</td>\n",
       "      <td>Homo sapiens</td>\n",
       "    </tr>\n",
       "    <tr>\n",
       "      <th>...</th>\n",
       "      <td>...</td>\n",
       "      <td>...</td>\n",
       "      <td>...</td>\n",
       "      <td>...</td>\n",
       "      <td>...</td>\n",
       "    </tr>\n",
       "    <tr>\n",
       "      <th>6308</th>\n",
       "      <td>Oc1cccc2cccnc12</td>\n",
       "      <td>750000.000</td>\n",
       "      <td>3.124939</td>\n",
       "      <td>&lt;rdkit.Chem.rdchem.Mol object at 0x34fb3af10&gt;</td>\n",
       "      <td>Homo sapiens</td>\n",
       "    </tr>\n",
       "    <tr>\n",
       "      <th>6309</th>\n",
       "      <td>Clc1ccc(CCn2ccnc2)c(Cl)c1</td>\n",
       "      <td>820000.000</td>\n",
       "      <td>3.086186</td>\n",
       "      <td>&lt;rdkit.Chem.rdchem.Mol object at 0x34fb5c9e0&gt;</td>\n",
       "      <td>Homo sapiens</td>\n",
       "    </tr>\n",
       "    <tr>\n",
       "      <th>6310</th>\n",
       "      <td>O=Cc1cccc(-c2c[nH]cn2)c1</td>\n",
       "      <td>825000.000</td>\n",
       "      <td>3.083546</td>\n",
       "      <td>&lt;rdkit.Chem.rdchem.Mol object at 0x34fb38430&gt;</td>\n",
       "      <td>Homo sapiens</td>\n",
       "    </tr>\n",
       "    <tr>\n",
       "      <th>6311</th>\n",
       "      <td>OC(Cn1ccnc1)c1ccc(Cl)c(Cl)c1</td>\n",
       "      <td>830000.000</td>\n",
       "      <td>3.080922</td>\n",
       "      <td>&lt;rdkit.Chem.rdchem.Mol object at 0x34fb5cc10&gt;</td>\n",
       "      <td>Homo sapiens</td>\n",
       "    </tr>\n",
       "    <tr>\n",
       "      <th>6312</th>\n",
       "      <td>O=C1c2ccccc2-n2c1nc1ccc(F)cc1c2=O</td>\n",
       "      <td>864400.000</td>\n",
       "      <td>3.063285</td>\n",
       "      <td>&lt;rdkit.Chem.rdchem.Mol object at 0x34fb6c970&gt;</td>\n",
       "      <td>Homo sapiens</td>\n",
       "    </tr>\n",
       "  </tbody>\n",
       "</table>\n",
       "<p>6313 rows × 5 columns</p>\n",
       "</div>"
      ],
      "text/plain": [
       "                                                 smiles        IC50  \\\n",
       "0          O=C1c2cc([N+](=O)[O-])ccc2-n2c1nc1ccccc1c2=O       0.018   \n",
       "1     Cc1cc(C2CC2)ncc1-c1ccc(C2(C(=O)Nc3ccc(F)cc3)CO...       0.080   \n",
       "2     O=C(Nc1ccc(C2(C(=O)Nc3ccc(F)cc3)COC2)cc1)c1ccc...       0.090   \n",
       "3     O=C(Nc1ccc(F)cc1)C1(C2CCC3C(CCCN3c3ccnc(C(F)(F...       0.100   \n",
       "4                    O=C1CC(c2c[nH]c3ccc(F)cc23)C(=O)N1       0.120   \n",
       "...                                                 ...         ...   \n",
       "6308                                    Oc1cccc2cccnc12  750000.000   \n",
       "6309                          Clc1ccc(CCn2ccnc2)c(Cl)c1  820000.000   \n",
       "6310                           O=Cc1cccc(-c2c[nH]cn2)c1  825000.000   \n",
       "6311                       OC(Cn1ccnc1)c1ccc(Cl)c(Cl)c1  830000.000   \n",
       "6312                  O=C1c2ccccc2-n2c1nc1ccc(F)cc1c2=O  864400.000   \n",
       "\n",
       "          pIC50                                          ROMol target_organism  \n",
       "0     10.744727  <rdkit.Chem.rdchem.Mol object at 0x16f43e420>    Homo sapiens  \n",
       "1     10.096910  <rdkit.Chem.rdchem.Mol object at 0x16f45dc40>    Homo sapiens  \n",
       "2     10.045757  <rdkit.Chem.rdchem.Mol object at 0x16f44af10>    Homo sapiens  \n",
       "3     10.000000  <rdkit.Chem.rdchem.Mol object at 0x16f457e60>    Homo sapiens  \n",
       "4      9.920819  <rdkit.Chem.rdchem.Mol object at 0x16f42e260>    Homo sapiens  \n",
       "...         ...                                            ...             ...  \n",
       "6308   3.124939  <rdkit.Chem.rdchem.Mol object at 0x34fb3af10>    Homo sapiens  \n",
       "6309   3.086186  <rdkit.Chem.rdchem.Mol object at 0x34fb5c9e0>    Homo sapiens  \n",
       "6310   3.083546  <rdkit.Chem.rdchem.Mol object at 0x34fb38430>    Homo sapiens  \n",
       "6311   3.080922  <rdkit.Chem.rdchem.Mol object at 0x34fb5cc10>    Homo sapiens  \n",
       "6312   3.063285  <rdkit.Chem.rdchem.Mol object at 0x34fb6c970>    Homo sapiens  \n",
       "\n",
       "[6313 rows x 5 columns]"
      ]
     },
     "execution_count": 53,
     "metadata": {},
     "output_type": "execute_result"
    }
   ],
   "source": [
    "selected_columns = ['smiles', 'IC50', 'pIC50','ROMol', 'target_organism']\n",
    "chembl_molecules_join = chembl_molecules[selected_columns]\n",
    "\n",
    "binding_db_molecules_join = binding_db_molecules[selected_columns]\n",
    "\n",
    "joined_df = pd.concat([chembl_molecules_join,binding_db_molecules_join])\n",
    "joined_df.reset_index(drop=True, inplace=True)\n",
    "joined_df"
   ]
  },
  {
   "cell_type": "code",
   "execution_count": 54,
   "id": "d983d29a-98c8-498e-80f7-d74028cc68f2",
   "metadata": {},
   "outputs": [
    {
     "name": "stdout",
     "output_type": "stream",
     "text": [
      "DataFrame shape: (4291, 5)\n"
     ]
    }
   ],
   "source": [
    "joined_df.sort_values(by=['smiles','target_organism', 'IC50'], ascending=[True, True, True], inplace=True)\n",
    "\n",
    "# Now, drop duplicates based on 'monomer_id' while keeping the first occurrence\n",
    "joined_df = joined_df.drop_duplicates(subset='smiles', keep='first').reset_index(drop=True)\n",
    "\n",
    "print(f\"DataFrame shape: {joined_df.shape}\")\n"
   ]
  },
  {
   "cell_type": "code",
   "execution_count": 55,
   "id": "b1f5882b-bfb6-4c6f-a71a-5cf711e00d2b",
   "metadata": {},
   "outputs": [
    {
     "name": "stdout",
     "output_type": "stream",
     "text": [
      "4291\n"
     ]
    }
   ],
   "source": [
    "unique_count = joined_df['smiles'].nunique()\n",
    "print(unique_count)"
   ]
  },
  {
   "cell_type": "code",
   "execution_count": 56,
   "id": "8341103a-f5df-408c-8143-4223a375ab4c",
   "metadata": {},
   "outputs": [
    {
     "data": {
      "text/plain": [
       "array([[<Axes: title={'center': 'pIC50'}>]], dtype=object)"
      ]
     },
     "execution_count": 56,
     "metadata": {},
     "output_type": "execute_result"
    },
    {
     "data": {
      "image/png": "[encoded data removed]",
      "text/plain": [
       "<Figure size 640x480 with 1 Axes>"
      ]
     },
     "metadata": {},
     "output_type": "display_data"
    }
   ],
   "source": [
    "joined_df.hist(column=\"pIC50\")"
   ]
  },
  {
   "cell_type": "code",
   "execution_count": 57,
   "id": "190d0aae-4ee7-462c-8103-79b0cda5f3e0",
   "metadata": {},
   "outputs": [
    {
     "data": {
      "text/html": [
       "<div>\n",
       "<style scoped>\n",
       "    .dataframe tbody tr th:only-of-type {\n",
       "        vertical-align: middle;\n",
       "    }\n",
       "\n",
       "    .dataframe tbody tr th {\n",
       "        vertical-align: top;\n",
       "    }\n",
       "\n",
       "    .dataframe thead th {\n",
       "        text-align: right;\n",
       "    }\n",
       "</style>\n",
       "<table border=\"1\" class=\"dataframe\">\n",
       "  <thead>\n",
       "    <tr style=\"text-align: right;\">\n",
       "      <th></th>\n",
       "      <th>smiles</th>\n",
       "      <th>IC50</th>\n",
       "      <th>pIC50</th>\n",
       "      <th>ROMol</th>\n",
       "      <th>target_organism</th>\n",
       "    </tr>\n",
       "  </thead>\n",
       "  <tbody>\n",
       "    <tr>\n",
       "      <th>0</th>\n",
       "      <td>O=C1c2cc([N+](=O)[O-])ccc2-n2c1nc1ccccc1c2=O</td>\n",
       "      <td>0.018</td>\n",
       "      <td>10.744727</td>\n",
       "      <td style=\"text-align: center;\"><div style=\"width: 200px; height: 200px\" data-content=\"rdkit/molecule\"><img src=\"data:image/png;base64,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\" alt=\"Mol\"/></div></td>\n",
       "      <td>Homo sapiens</td>\n",
       "    </tr>\n",
       "    <tr>\n",
       "      <th>1</th>\n",
       "      <td>Cc1cc(C2CC2)ncc1-c1ccc(C2(C(=O)Nc3ccc(F)cc3)CO...</td>\n",
       "      <td>0.080</td>\n",
       "      <td>10.096910</td>\n",
       "      <td style=\"text-align: center;\"><div style=\"width: 200px; height: 200px\" data-content=\"rdkit/molecule\"><img src=\"data:image/png;base64,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\" alt=\"Mol\"/></div></td>\n",
       "      <td>Homo sapiens</td>\n",
       "    </tr>\n",
       "    <tr>\n",
       "      <th>2</th>\n",
       "      <td>O=C(Nc1ccc(C2(C(=O)Nc3ccc(F)cc3)COC2)cc1)c1ccc...</td>\n",
       "      <td>0.090</td>\n",
       "      <td>10.045757</td>\n",
       "      <td style=\"text-align: center;\"><div style=\"width: 200px; height: 200px\" data-content=\"rdkit/molecule\"><img src=\"data:image/png;base64,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\" alt=\"Mol\"/></div></td>\n",
       "      <td>Homo sapiens</td>\n",
       "    </tr>\n",
       "    <tr>\n",
       "      <th>3</th>\n",
       "      <td>O=C(Nc1ccc(F)cc1)C1(C2CCC3C(CCCN3c3ccnc(C(F)(F...</td>\n",
       "      <td>0.100</td>\n",
       "      <td>10.000000</td>\n",
       "      <td style=\"text-align: center;\"><div style=\"width: 200px; height: 200px\" data-content=\"rdkit/molecule\"><img src=\"data:image/png;base64,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\" alt=\"Mol\"/></div></td>\n",
       "      <td>Homo sapiens</td>\n",
       "    </tr>\n",
       "    <tr>\n",
       "      <th>4</th>\n",
       "      <td>O=C1CC(c2c[nH]c3ccc(F)cc23)C(=O)N1</td>\n",
       "      <td>0.120</td>\n",
       "      <td>9.920819</td>\n",
       "      <td style=\"text-align: center;\"><div style=\"width: 200px; height: 200px\" data-content=\"rdkit/molecule\"><img src=\"data:image/png;base64,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\" alt=\"Mol\"/></div></td>\n",
       "      <td>Homo sapiens</td>\n",
       "    </tr>\n",
       "    <tr>\n",
       "      <th>...</th>\n",
       "      <td>...</td>\n",
       "      <td>...</td>\n",
       "      <td>...</td>\n",
       "      <td>...</td>\n",
       "      <td>...</td>\n",
       "    </tr>\n",
       "    <tr>\n",
       "      <th>4286</th>\n",
       "      <td>FC(F)(F)c1ccc(-c2c[nH]nn2)cc1</td>\n",
       "      <td>2300000.000</td>\n",
       "      <td>2.638272</td>\n",
       "      <td style=\"text-align: center;\"><div style=\"width: 200px; height: 200px\" data-content=\"rdkit/molecule\"><img src=\"data:image/png;base64,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\" alt=\"Mol\"/></div></td>\n",
       "      <td>Homo sapiens</td>\n",
       "    </tr>\n",
       "    <tr>\n",
       "      <th>4287</th>\n",
       "      <td>c1ccc2[nH]nnc2c1</td>\n",
       "      <td>2570000.000</td>\n",
       "      <td>2.590067</td>\n",
       "      <td style=\"text-align: center;\"><div style=\"width: 200px; height: 200px\" data-content=\"rdkit/molecule\"><img src=\"data:image/png;base64,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\" alt=\"Mol\"/></div></td>\n",
       "      <td>Homo sapiens</td>\n",
       "    </tr>\n",
       "    <tr>\n",
       "      <th>4288</th>\n",
       "      <td>Cc1cccc(NC(=O)C(F)(F)F)c1-c1c[nH]nn1</td>\n",
       "      <td>3000000.000</td>\n",
       "      <td>2.522879</td>\n",
       "      <td style=\"text-align: center;\"><div style=\"width: 200px; height: 200px\" data-content=\"rdkit/molecule\"><img src=\"data:image/png;base64,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\" alt=\"Mol\"/></div></td>\n",
       "      <td>Homo sapiens</td>\n",
       "    </tr>\n",
       "    <tr>\n",
       "      <th>4289</th>\n",
       "      <td>Cc1ccc(N)cc1-c1c[nH]nn1</td>\n",
       "      <td>3200000.000</td>\n",
       "      <td>2.494850</td>\n",
       "      <td style=\"text-align: center;\"><div style=\"width: 200px; height: 200px\" data-content=\"rdkit/molecule\"><img src=\"data:image/png;base64,iVBORw0KGgoAAAANSUhEUgAAAMgAAADICAIAAAAiOjnJAAAABmJLR0QA/wD/AP+gvaeTAAAZcUlEQVR4nO2deVhV1frHv2dikEmcpwcJVOAgWuGQ4HTVcsibI17T1NIrmvnTNMshje7V6qTezPSipt7EMWdEjYTQcEoRR2QyRREVTQVRYj7n/f2x4ECADOecdfah1ufp6WGvs/de73n8nLX3Xutda8uICAKBqZFLHYDgz4kQS8AFIZaAC0IsAReEWAIuCLEEXBBiCbggxBJwQYgl4IIQS8AFIZaAC0IsAReEWAIuCLEEXBBiCbggxBJwQYgl4IIQS8AFIZaAC0IsAReEWAIuCLEEXBBiCbggxBJwQYgl4IIQS8AFIZaAC0IsAReEWAIuCLEEXBBiCbggxBJwQYgl4IIQS8AFIZaAC0IsAReEWAIuCLEEXBBiCbggxBJwQYgl4IIQS8AFIZaAC0IsAReEWAIuCLEEXKhGrMePUVRUuqnT4fFj6HSV7JmVhdzc0s2iImRmmiRCQZ2kGrEaNcKZM6WbaWlo1Ah371ayp5cXOnRAXl7x5vnzaNTIVEEK6h6mvBQ+fozPPzfh+QR1GFOKNW8eli9HUpIJTymoqyir3SMxEVZWxX/fv1/Vnh07YsIETJuGqChThCaoy1Qv1pdfws6u+O/Cwmp2XrIEnp7YsgUeHkaHJqjLVC/Wpk3o3r3479RUuLpWtXPDhtBo8NFH2LLFBMEJ6i6m78eaOBFubli61OQnFtQlqm+xnkdaGnbuRP36GDsWtral5TIZ1q3Dyy+bIDhB3cXAFkurRWAgOnRAVhZmzSr/qY8Ppk0zNjJBnUZGRFV8XFQEpbKqkowMDBmCEyeee4a9e9GnD5ydjYxTUMeopsVSVrhUlivZvh0DBz738NWrMXIkRo+GVmtYeIK6ilE372FhiIjAnDnP3eGNN9CkCSIi8NFHxtQjqHtUcyl8HjodlizBmTP46ivY2qJ16+fuefo0+vRBfj42bMCkSYYHKqhbGNhiZWUhJwcdOmDTJmzeXNWefn5YuxYApk/H2bOG1SaoexjYYtWWadOwZg2aN8e5c2jZ0gwV/pn55ZdfVq9ePWLECC8vL3d3dyv9iJslYSaxCgvx2mv4+We88gp+/hnW1mao88/Jjh07xowZo99UKpUuLi5ubm5qtdrb29vNza19+/bNmjUz4Mz37kEuh/5QrRapqXBxAYBbt+DqWvrclpeHO3fQpk2VpyNz8egRubkRQOPGma3OPyG+vr4AmjVrNmjQIHd3d4VCUfHftHHjxr169QoMDFyzJvyHH+jGDdJqqz+znx85OFBaWvHmgwcE0K1bdPt28R96TpygasUxvOe9tjRsiH374O+PLVvg64uZM81W85+H8+fPX7hwoV69etHR0e3atQNQWFiYlpYWHx+fkJCQkpISHx9/5cqVhw8fRkdHR0dH9+z56vHjAGBlhVatoFbD2xtublCr0bEjHBzKn9/WFjNnYu9eU8Rq6C/HQPbuJZmMFAr64Qcz1/xnYNCgQQDmzZtX9W63b9+OjIxctWpVUFBC377UqhUB5f+Tyah1a3rtNZoxg4KDKT2d/PxoyRJydqaDB4mMbrHMdI9Vlo8/xrp1OrV60aZNk9zc3Mxce90lNja2S5cudnZ2KSkpjRs3rtWx+fm4fh0JCUhJQXw8EhKQmIicnNIdLlzA9OkYNw4FBVixAvHxyM5G06a4dQtyOVxcsHkzmjQp3jk+Hh98gKrFMd+lUM/ixbh9e97WrcuGDAk7ffq0Q8UWWVAZCxcuJKKZM2cyq3766aeMjIyRI0fK5dX3GVlbw9sb3t6lJVotbt5EUhISE5GcjHbtisunTcP//ofFi8sPAQcHlz5yZWXVIFyjmmZDefr0qbe3N4AhQ4Zoa3Jj+Zfn1KlTABwdHR8/fkxEWq3Wx8cHwJYtW0xVhZ8frVlDRHT2LNnYFF/vDL4USjOv0MHB4eDBgw0bNjxw4MC///1vSWKoW3zyyScAZs2a1aBBAwB79uyJi4tzcXEJCAgweV1dumDMGMybZ9xZTOW7AURERCiVSplMtnPnTn61pKenR0VFffHFFz4+Pv3794+KiuJXFydOnjwJwMnJKSMjg8o0V99++60Ja9G3WET06BE1amRUiyWlWES0bNkyAPb29leuXDHJCe/evRsZGblu3boZM2b069evadOm5X5ISqUyKSnJJHWZjd69ewP417/+xTa3bdsGoHXr1vn5+SaspX9/+t//SjfXrydnZ7p9m+7cIXt7un279KNffiF7+2rOJrFYRDRx4kQArq6uv/32W60OzM/Pj4+P37179+LFi998882XXnrJtmwmawnOzs5+fn6TJk0aPHiwnZ0dAD8/v7y8PE5fx+RERUUBqF+/fmZmJhEVFRV5enoC2LhxI79Ki4royROjziC9WLm5uV26dAHQo0ePKn6C+fn5V69e3bVrV1BQUEBAgK+vr42NTaUa+fv7BwYGajSasLCwGzdu6HQ6/UnS0tJatWoF4O233zbLlzMBPXv2BPDZZ5+xzc2bNwNwd3cvLCzkVGNYGNnYUECAUSeRXiwiunfvXsuWLQHMmDGDlWRkZMTGxoaEhMydOzcgIECtVlf6UN28efN+/frNmDFj3bp1kZGRDx48qLYu1nMNIDg4mPPXMgEREREAGjZs+PTpUyIqKiry8PAAsGnTJn6VxsYSQO3bG3USixCLiE6dOmVtbQ3A29u70t4/KysrHx+fgICATz755Pvvv7948WJubm6tqtBf/rZs2QJApVIdO3bM9N/EpPTo0QOARqNhm9999x2Atm3b8muuiCg7m2QysrIiYyqxFLGIaPr06Y1KFhKxtrZWq9UBAQFBQUG7du2KjY015q5Ip9NpNBpfX9/ff/+dlcyZM4e1BDdu3DBR+KYnPDwcQKNGjVhzVVBQ4O7uDmDr1q28q3ZxIYCuXTP8DBYk1uDBgwFMnTr1dtknEFOQmZnJxo7Gjh3LSrRaLRt369ixY3Z2tmmrMxVdu3YFsHz5cra5fv16AO3atSsqKuJddf/+BNCBA4afwVLEun//vkqlsrKyqu2zYQ1JSEhwdHQEsHTpUlaSlZXl5eUFYPjw4WVv8C2EgwcPAmjWrBlrZQsKCl544QUAO3bsMEPt779PAJVcgQ3BUsT68ssvAYwYMYJfFaGhoXK5XC6XHzp0iJUkJSU5OTmVfeayHDp37gxgxYoVbHPt2rXsBtQ8I2Dr1hFAEyYYfgZLEYs1Hvp/8pUrV0ZHR5u8IQkKCgLg6OgYHx/PSn788UeFQiGXy8PCwkxblzGEhoayZ96cnBwiys/Pd3V1BbB7927zBHD8OAHUpYvhZ7AIsdgIa7NmzdjDzoMHD1QqlUqlun//vmkr0ul0o0aNAuDh4cH6G4loyZIlABwcHK5evWra6gxDp9O9+OKLAFatWsVKVq9eDaB9+/ZmG7B/9IgAcnQkg3/aFiHWP//5T5TJX1u+fDmAoUOH8qjr2bNnbKCtf//+7C5Yp9ONHj0awAsvvPDo0SMeldaKPXv2AGjRogVrrvLy8lin7r59+8wZBhsr1Gcq1xbpxcrJyalfvz6AxMREVtKhQwcAB4x5JqmSmzdvsq6yBQsW6GPo1KkTgFdffdUMz1xVoNPpOnbsWLb/duXKlQBeeuklMz9h9OxJAEVEGHi49GKFhIQA8Pf3Z5tnzpwB0LRp04KCAn6V/vTTTyyxYvv27awkNTW1SZMmAObMmcOv3mrZuXMnABcXF9Zvl5uby8YkzH8LOGUKAbRypYGHSy8WG7rfsGED25wyZQqADz/8kHe9X3/9NQBbW9tz586xkpMnT7I5elzHd6ugYj7Mf/7zHwC+vr7m7xD5+msCaOpUAw+XWKyUlBSZTGZnZ8c6l/WXRf1TG1cmT57Mmgf9IGNwcDAAGxubs2fPmiGAcpTLh8nJyWnRogWAw4cPmz+YI0cIoF69DDxcYrEWLVpUNtdg69atAF555RXz1F5QUMAG4/z9/fWJFazJbN68+Z07d8wTBqNiPszSpUsBdOrUSZL+W5bf16SJgYdLKZZWq3VxcQEQHR3NSvr27Qtg3bp1ZoshPT2dPXO98847rKSgoKBXr14AunXrZs60rXL5MNnZ2eye78iRI2aLoSw6HTk4EECGPShLKdaRI0fYQz77Rd68eVMul9va2up7mMzD+fPnWSLNmpLM3EePHrHxk/Hjx5snBn0+TEhICCthl0X9M40kdOpEAJ08acixUorFeo+WLFnCNlm3+DgpZuBXTKS5ePEiSzf95ptveNSo1WpTUlIOHz68bNmySZMm+fj4KBSKVq1ale3sOHHiRExMDI/aa8i4cQTQ+vWGHCuZWE+ePLG1tZXL5ampqUSk0+lYAsLRo0clieeDDz5giTQpKSmsZM+ePTKZTKlUGj//oqCg4MaNG2FhYRqNJjAw0N/f397evlzCmZOTk0qlsqiRpc8/J4BmzzbkWMnEYsMUAwYMYJuRkZEAXF1dpZpmqE+kefHFF/WJNPPmzQPQoEGD69ev1/xUz549O3fu3JYtW+bPnz9s2DAPDw9lxSU3gRYtWvTt2/e9994LDg6Oiop6//33WT7j/v37+XzFWrN/PwFU8k9UOyQTi62aop/4xZbm0U9EkYSMjIy2bduWTaTRarUsS8zLyysrK+t5R+mzqAcPHuzm5mZwFvWCBQssyq3UVJo9mwybmyeNWHFxcawlYOnFT548qVevnlwuv1V29poUJCYmskSazz//nJXoJ20PHTpUp9NlZGScOHFCP72s0rUnVCqVm5vb4MGD586dGxISEhsbW/NcQuaWSqUy88hgRfbto3KzAjQaunevpodLIxZr9qdPn84216xZw8bpJAmmHOHh4eUSafRpW5VOL3N0dOzcufOECRM0Gk1oaOi1a9eMTEj/+OOPLcGtYcMI+ENzJZNRzbuNJRArPz+fjQGfP3+elbDpX/phO8lhiTTdu3fX90xOmTKF3W47Ozv7+vqOGzdOP72Mx02h3q29e/ea/OTPIyaGSgbliYiGDaNOnah589IJhpYuFksL8fHxYZtXr15lz0QsS8QS0Ol0K1asePbsmb6EZRzoO5nMwMKFCwEoFAoz/N6uXqWAAJLJCCD9Q/mwYRQURH36UMl1xeLFev311wGsLBk3nz17NoBp06aZP5IaEhsby3oizDx/mo13cXUrIYHGjSOFggCys6MZM0ifW8nEiosja2tivWkWLVZ6erpSqdRPmigsLGQrsepTDCyQ9957D8Bsw/pzjIPdyzs4OISGmjgD8eZNCgwsVsrKigIDy9+YM7GI6IMPyNeXtFrLFuuLL74AMHLkSLa5f/9+AO2NnHXLk9zcXGdnZwCXL1+WJIBFiz59+eUIpZJ27TLNCVNTKTCQlEoCSKWiwEAqO9qu01F4OOl0pWI9fUotW9LGjZYtFhvA1+eBvPHGGwC++uorM4dRc3bs2AGgc+fOEsbwyScEkEJBRs5UTUujGTPI2rpYqXHjqFy/b2Qk+foWzyjUi0VEu3ZRixYWLBZb56lly5ZsRIzNJVSpVJzmEpqE1157DRaw0ENQULFbhq3g99tvNHcu2doSQHI5BQSUn+UcHk6dOxeve9uqFe3d+wexiGjgQAIsVaxJkyYBmD9/Pttk+UbDhw83Zwy1Ii0tTaFQ2NjYsBXPpMUwtx49oqCg4gQYmYwGD6Zyl/QTJ+hvfytWqnFj0miIPZ0vW/aHi++1axQQQL/+WtN6zSfWgwcPWAejftKEWq0GcJCt/myRsGUsx4wZI3UgxWg0tXDr6VPSaMjJqViafv3owoU/7HD6NPXrV/xpw4ak0VDJ0hYmwHxisTlezs7ObFOr1W7fvn3UqFFcF04xBp1OxxbhiIyMlDqWUvRubd783H2ePSONhpydS5Uq98x9+TIFBBR/6uBAc+cau8xaRcwn1qxZswDUq1fPYhfhKMexY8cAlMuRsgS+/LIat/SXtn796Jdf/vBRXFxpX6i9Pc2dS5yyKs0n1uXLl9mLX959912zVWoM48ePBxBU9g7WYtC7VelYwIED1LMnleR7F8P6QuXySvpCeWDWm/fo6Gh2m7V27Vpz1msAWVlZ9erVk8lktcrEMidLlhS7VXLL+lyq7Qvlgbn7sdiUAZVK9fPPP5u56lrx7bffAujTp4/UgVTFZ5/RihUUG0u+vrRtW2n58uW0cCHRH/tCmVJmm3kkwVghy5lp2rSpyRdYMyHdunWDSd/7wI9jx0ihoMaNS6fTvP8+jR1LK1aQSlXcFzp5MqWmmjUqCcQqKioaOHAgSwL+3YQPuKYjOTlZJpM5OjpaZnjlOHaMGjSgESNo4sTiEiZWVFTlfaHmQYJXnigUim3btrVp0+bSpUsTJkwgs79+rFrYlNE333yTTQurEyxdih07cOxYaUmfPkhJwa5daNtWgnikeZeOs7PzwYMHnZyc9uzZw/rfLYeioiI2G+ydd96ROpZa4OaGDz/E//0fCgtLC1u3liweacQC4OnpGRISIpfLFyxYcOjQIanCqEh4eHh6erqHhwdbW7YOMW8ecnPxzTdSxwFAQrEADBkyJCgoSKfTjRkzJiEhQcJIysLWUmfjBHULW1usWoXFi/HwodShQNK3f9Fz1m6UkIcPH1pZWSmVyvT0dKljqSns5l3PsGGkUlHJuuOSIWWLBUAmk23cuLFDhw7JycmjR4/WarXSxrN58+aCgoLXX3+d5bXWRVauLH0VqpRILDYREd26dYvN26n2Ndq8YatUhoaGShtGrcjIoHKdzZcuUVycRNGUYBFiEdHx48etrKzKrt1ofmJiYgA0adKE6yqVfxEkvhTq6dGjB3u3x8SJE8+dO2eeSp89e1Z2k922jx8/XqVSmSeAPzEysqT+ycDAwPXr17u4uMTExFR8OaqR3Lt3LyEhIT4+PiEhISUl5cqVK2q1+lhJl2JeXl6LFi0yMzOvXLnCFgIVGEMlq6BIyH//+9/k5OTjx48PHz786NGj1obehebn5ycnJyclJSUmJiYmJiYlJSUlJeXn55fbrWHDhvq/9+3bl5mZ2bVrV2GVSbAssVQq1a5duzp16nT69OmpU6eya1O15OfnX79+Xd8axcfHJycnV3zAdHZ2VqvV3t7e7P9ubm5ll/RgddWt3nZLxrIuhYyLFy927949JycnODj43XffLfdpZmZmSkqK3qGEhISbN2+W+xZKpdLFxcXNzU1vUocOHdjbvyrlzp07rq6uVlZW9+7dY8s2C4zEEsUCsG3btrfeekulUkVERLCF4BkajWb+/PnldraxsfH09PT09PQqoV27dmzF9irIzMxMSkpKSEhISko6fPhwYmLi0KFD2QRagfFY1qVQz9ixYy9durR8+fKRI0fGxMTor1lt2rRxcnJq06ZN2dbI09OTJT1XQWZmpv62vdJ2jr0SLDs7u+IijgIDsNAWC4BOp/v73//+ww8/dOzY8dSpU2ypWa1WW61DWq321q1b+tv2+Pj4pKSkrKyscrvZ2dl5eHh4eXmp1erWrVsvXrw4OTl56NChe/furXRJPkGtsFyxADx9+rRbt24JCQnDhw9nS81W3KewsDAtLa3sLVdSUtLvv/9ebrf69eu7u7vrb9vVarWXl1dZga5du9a1a9cnT54EBQV9+umnXL/XXwGLFgtAcnJy165ds7KyxowZs23btnIPgCkpKVevXq3Yj1D1A+DziIyMHDhwoE6n+/7779nQuMBgLF0sAPv27RsxYgQAhUJRsRNBoVCwFojdvKvVag8PjyoeAKtm2bJlH330kb29/enTp0WHljHUAbEADBo0KDw8HCX9CGVbIy8vL9MmEE+cOPG7775zdXWNiYlhQ+MCA6gbYgG4dOlSZmamv79/tf0IRpKXl9erV6+YmJgePXpERUWJcUPDqDNimZP09PTOnTvfvXt35syZ7LWGgtoinqsroXnz5rt377a2tl65cuX69eulDqdOIlqs5xISEvL222+rVKqoqCj2WkNBzREt1nOZMGHC9OnTCwsLR40adefOHanDqWOIFqsqioqK+vfvf/To0ZdffvnEiRN1aP6q5IgWqyqUSuXu3bvd3d0vXLjAXukrqCFCrGpo0KBBWFiYo6Pj1q1b2TvlBTVBXAprRGho6PDhw2Uy2cGDB9lrDQVVI1qsGjF06NBFixbpdLq33nrr119/lTqcOoBosWoKEf3jH//YvXu3h4fH2bNn2YvmBM9DiFULsrOz/fz84uLiBgwYcOjQoWozw/7KiEthLbC3tw8LC2vUqNGPP/4YFBQkdTgWjWixak1UVNSAAQPYOvWjR4+WOhwLRbRYtaZv377Lli1jk7bPnz8vdTgWimixDGTy5MkbNmxo3bp1TExMkyZNpA7H4hBiGUh+fn7v3r3PnDnTvXv3qKgo3llidQ5xKTQQa2vr/fv3t2rV6uTJk+xtLoKyiBbLKM6ePdu7d2+lUhkXF+fq6ip1OBaEEMtY9uzZ065dO7Zim0CPEEvABXGPJeCCEEvABSGWgAtCLAEXhFgCLgixBFwQYgm4IMQScEGIJeCCEEvABSGWgAtCLAEXhFgCLgixBFwQYgm4IMQScEGIJeCCEEvABSGWgAtCLAEXhFgCLgixBFwQYgm4IMQScEGIJeCCEEvABSGWgAtCLAEXhFgCLgixBFwQYgm4IMQScEGIJeCCEEvABSGWgAtCLAEXhFgCLgixBFwQYgm4IMQScEGIJeCCEEvABSGWgAtCLAEXhFgCLgixBFz4f/5hRb1PTPYHAAABJnpUWHRyZGtpdFBLTCByZGtpdCAyMDI0LjAzLjYAAHice79v7T0GIBAAYkYGCOAFYj4gbmBkY0gAiTOzOWgAaWYWNocMEM3MiMSAyLAzgAUYmTBkMPSyO1iAlTKzQ2TgNDfQBYxMGUxMzAnMLBlMLKwKLGwJbOwZTOwcChycGUycXAlc3AncPEABxgQejgQnJqA2NkZ2NhZmJlZODh5uLvFlSN5g4LV93Wm3dbHqARDHLlZ3v0HYtv0gtowC14GS01fA7Mtb3A48z/i/D8Te16ByoFsi3R7ELhVNPHDAjsUBxH6c372/i3ESWHyxsdA+qTe794DYKt6r7RfpxNiBbeNidPh+8hhYzYfH8Q4quivB7Mly+Q4rlJXB5suvk3RQeRgOtlcMANZNQPkwKTNvAAABe3pUWHRNT0wgcmRraXQgMjAyNC4wMy42AAB4nH2TW04DMQxF/2cV3kAjX9t5fdKHEEJMJSjsgX/2L+xWJYOISOoo9Zxx4mvPQjFej8+fX/Qz5LgsRPzPr/dOH8rMywvFhvanx6eVDpeH/d1zOL+vlzeCEszf8fmbfbicX+4e0IE4SelalXaScmtAdRdfx3hVHNxxKrUKG+2QTCxznpAapCTkJuAgS3G0T0gLUhPYaqsR3XprNjs932LmypqbP+8sFW0CFlojZIZnlEkSl6Lu/gvWiIjEzTkhJBiXKhOw3RKHSa05dizSbRayO4mk2kQRoiJzFOAP56oc4moo4ndEyllZZ/oAno2GKuL6eGjxtGYnQ65gVVca19vmrigzUp2UZAzJGmQzlTo7/LQef3XKrXf25/U4eiemjA4xNx1tYGGj1jHzKCjcyiibP6M6imNubZQAbn3obG7Y6mmxABvhLBbIRiGLBbpRwjzqIOJ+7uxbAbbpxv/7Z+b75RsfJrLjOdzPgwAAAMl6VFh0U01JTEVTIHJka2l0IDIwMjQuMDMuNgAAeJwdjjtuAzEMRK+S0ga0BIdfEVu6SZULGK7U7wl8+FDbEQ8z8/haWGs9/p5r4ej7ff1+rgs/3weTRGnqOIR8Tsg4D6bIFLZxgEzM0UwIPgUbRYhFIyWwZY3OW81pecc8WWMwFUti3jFHK4YQR6g2AfEs9QGCceRthEmm7y0WKa2mINUp2lsCZ9g4ewIt76K79n+nbrNUA5WWbJC6E3vRSxG7ZAy5p6ep9MPP7z9l5ziQnvXFkQAAAABJRU5ErkJggg==\" alt=\"Mol\"/></div></td>\n",
       "      <td>Homo sapiens</td>\n",
       "    </tr>\n",
       "    <tr>\n",
       "      <th>4290</th>\n",
       "      <td>COc1ccc(-c2cnn[nH]2)cc1</td>\n",
       "      <td>6000000.000</td>\n",
       "      <td>2.221849</td>\n",
       "      <td style=\"text-align: center;\"><div style=\"width: 200px; height: 200px\" data-content=\"rdkit/molecule\"><img src=\"data:image/png;base64,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\" alt=\"Mol\"/></div></td>\n",
       "      <td>Homo sapiens</td>\n",
       "    </tr>\n",
       "  </tbody>\n",
       "</table>\n",
       "<p>4291 rows × 5 columns</p>\n",
       "</div>"
      ],
      "text/plain": [
       "                                                 smiles         IC50  \\\n",
       "0          O=C1c2cc([N+](=O)[O-])ccc2-n2c1nc1ccccc1c2=O        0.018   \n",
       "1     Cc1cc(C2CC2)ncc1-c1ccc(C2(C(=O)Nc3ccc(F)cc3)CO...        0.080   \n",
       "2     O=C(Nc1ccc(C2(C(=O)Nc3ccc(F)cc3)COC2)cc1)c1ccc...        0.090   \n",
       "3     O=C(Nc1ccc(F)cc1)C1(C2CCC3C(CCCN3c3ccnc(C(F)(F...        0.100   \n",
       "4                    O=C1CC(c2c[nH]c3ccc(F)cc23)C(=O)N1        0.120   \n",
       "...                                                 ...          ...   \n",
       "4286                      FC(F)(F)c1ccc(-c2c[nH]nn2)cc1  2300000.000   \n",
       "4287                                   c1ccc2[nH]nnc2c1  2570000.000   \n",
       "4288               Cc1cccc(NC(=O)C(F)(F)F)c1-c1c[nH]nn1  3000000.000   \n",
       "4289                            Cc1ccc(N)cc1-c1c[nH]nn1  3200000.000   \n",
       "4290                            COc1ccc(-c2cnn[nH]2)cc1  6000000.000   \n",
       "\n",
       "          pIC50                                          ROMol target_organism  \n",
       "0     10.744727  <rdkit.Chem.rdchem.Mol object at 0x16fce49e0>    Homo sapiens  \n",
       "1     10.096910  <rdkit.Chem.rdchem.Mol object at 0x16fcb09e0>    Homo sapiens  \n",
       "2     10.045757  <rdkit.Chem.rdchem.Mol object at 0x16fcdcba0>    Homo sapiens  \n",
       "3     10.000000  <rdkit.Chem.rdchem.Mol object at 0x16fcddcb0>    Homo sapiens  \n",
       "4      9.920819  <rdkit.Chem.rdchem.Mol object at 0x16fce25e0>    Homo sapiens  \n",
       "...         ...                                            ...             ...  \n",
       "4286   2.638272  <rdkit.Chem.rdchem.Mol object at 0x16fcbef10>    Homo sapiens  \n",
       "4287   2.590067  <rdkit.Chem.rdchem.Mol object at 0x16fcf54d0>    Homo sapiens  \n",
       "4288   2.522879  <rdkit.Chem.rdchem.Mol object at 0x16fcb5230>    Homo sapiens  \n",
       "4289   2.494850  <rdkit.Chem.rdchem.Mol object at 0x16fcb2500>    Homo sapiens  \n",
       "4290   2.221849  <rdkit.Chem.rdchem.Mol object at 0x16fca2570>    Homo sapiens  \n",
       "\n",
       "[4291 rows x 5 columns]"
      ]
     },
     "execution_count": 57,
     "metadata": {},
     "output_type": "execute_result"
    }
   ],
   "source": [
    "# Add molecule column\n",
    "PandasTools.AddMoleculeColumnToFrame(joined_df, smilesCol=\"smiles\")\n",
    "# Sort molecules by pIC50\n",
    "joined_df.sort_values(by=\"pIC50\", ascending=False, inplace=True)\n",
    "\n",
    "# Reset index\n",
    "joined_df.reset_index(drop=True, inplace=True)\n",
    "joined_df"
   ]
  },
  {
   "cell_type": "code",
   "execution_count": 58,
   "id": "8f9e599e-4f0c-4e5f-bd31-d91746e695b2",
   "metadata": {},
   "outputs": [],
   "source": [
    "joined_df.to_csv(f'{path_files}/joined_df.csv', index=False)"
   ]
  }
 ],
 "metadata": {
  "colab": {
   "provenance": []
  },
  "kernelspec": {
   "display_name": "Python 3 (ipykernel)",
   "language": "python",
   "name": "python3"
  },
  "language_info": {
   "codemirror_mode": {
    "name": "ipython",
    "version": 3
   },
   "file_extension": ".py",
   "mimetype": "text/x-python",
   "name": "python",
   "nbconvert_exporter": "python",
   "pygments_lexer": "ipython3",
   "version": "3.10.11"
  }
 },
 "nbformat": 4,
 "nbformat_minor": 5
}
