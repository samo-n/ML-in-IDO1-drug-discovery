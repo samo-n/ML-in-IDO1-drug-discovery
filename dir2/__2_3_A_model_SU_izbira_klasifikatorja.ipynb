{
 "cells": [
  {
   "cell_type": "markdown",
   "id": "169aa3ae-df81-4586-aec9-1fd1f0022f6c",
   "metadata": {},
   "source": [
    "# 2.3A Izbira modela za strojno učenje"
   ]
  },
  {
   "cell_type": "markdown",
   "id": "4580748e-81ed-42a2-8383-adb52e9e7ed5",
   "metadata": {},
   "source": [
    "V koraku izbira modela za strojno učenje:\n",
    "- uvozimo podatke pridobljene v koraku 2. s katerih bomo učili modele\n",
    "- podatke o strukturah molekule pretvorimo v fingerprinte (bitni zapis strukture, s tem dobimo featurje na X osi)\n",
    "- izberemo kombinacijo najbolj primernega fingerprinta, klasifikatorja, vzorčenjske tehnike, skalarja, tehnike za zaznavanje outlierjev"
   ]
  },
  {
   "cell_type": "markdown",
   "id": "9843940d-f8f1-422b-a8fc-76a1c1852312",
   "metadata": {},
   "source": [
    "# Uvoz knjižnic in splošnih funkcij"
   ]
  },
  {
   "cell_type": "code",
   "execution_count": 1,
   "id": "4604e9af-66c3-45f4-9098-aa120983e764",
   "metadata": {},
   "outputs": [],
   "source": [
    "%run __A_knjiznice.py\n",
    "\n",
    "from __A_knjiznice import *\n",
    "from __B_funkcije import *\n",
    "import __C_konstante as kon\n",
    "%matplotlib inline"
   ]
  },
  {
   "cell_type": "markdown",
   "id": "7cd68bf1-c94b-4eb1-be3e-549c22b87952",
   "metadata": {},
   "source": [
    "# Uvoz obdelanih podatkov obdelanih v koraku 2. Obdelava in analiza podatkov"
   ]
  },
  {
   "cell_type": "markdown",
   "id": "c25e7283-b6d4-4db8-8041-673f16d0063b",
   "metadata": {},
   "source": [
    "## Pregled podatkov"
   ]
  },
  {
   "cell_type": "code",
   "execution_count": 2,
   "id": "74c8d1fe-214d-47c2-bf15-281d7f81a533",
   "metadata": {},
   "outputs": [
    {
     "data": {
      "text/html": [
       "<div>\n",
       "<style scoped>\n",
       "    .dataframe tbody tr th:only-of-type {\n",
       "        vertical-align: middle;\n",
       "    }\n",
       "\n",
       "    .dataframe tbody tr th {\n",
       "        vertical-align: top;\n",
       "    }\n",
       "\n",
       "    .dataframe thead th {\n",
       "        text-align: right;\n",
       "    }\n",
       "</style>\n",
       "<table border=\"1\" class=\"dataframe\">\n",
       "  <thead>\n",
       "    <tr style=\"text-align: right;\">\n",
       "      <th></th>\n",
       "      <th>Smiles</th>\n",
       "      <th>ROMol</th>\n",
       "      <th>Activity</th>\n",
       "    </tr>\n",
       "  </thead>\n",
       "  <tbody>\n",
       "    <tr>\n",
       "      <th>0</th>\n",
       "      <td>O=C1c2cc([N+](=O)[O-])ccc2-n2c1nc1ccccc1c2=O</td>\n",
       "      <td>&lt;rdkit.Chem.rdchem.Mol object at 0x16fce49e0&gt;</td>\n",
       "      <td>1</td>\n",
       "    </tr>\n",
       "    <tr>\n",
       "      <th>1</th>\n",
       "      <td>Cc1cc(C2CC2)ncc1-c1ccc(C2(C(=O)Nc3ccc(F)cc3)CO...</td>\n",
       "      <td>&lt;rdkit.Chem.rdchem.Mol object at 0x16fcb09e0&gt;</td>\n",
       "      <td>1</td>\n",
       "    </tr>\n",
       "    <tr>\n",
       "      <th>2</th>\n",
       "      <td>O=C(Nc1ccc(C2(C(=O)Nc3ccc(F)cc3)COC2)cc1)c1ccc...</td>\n",
       "      <td>&lt;rdkit.Chem.rdchem.Mol object at 0x16fcdcba0&gt;</td>\n",
       "      <td>1</td>\n",
       "    </tr>\n",
       "    <tr>\n",
       "      <th>3</th>\n",
       "      <td>O=C(Nc1ccc(F)cc1)C1(C2CCC3C(CCCN3c3ccnc(C(F)(F...</td>\n",
       "      <td>&lt;rdkit.Chem.rdchem.Mol object at 0x16fcddcb0&gt;</td>\n",
       "      <td>1</td>\n",
       "    </tr>\n",
       "    <tr>\n",
       "      <th>4</th>\n",
       "      <td>O=C1CC(c2c[nH]c3ccc(F)cc23)C(=O)N1</td>\n",
       "      <td>&lt;rdkit.Chem.rdchem.Mol object at 0x16fce25e0&gt;</td>\n",
       "      <td>1</td>\n",
       "    </tr>\n",
       "    <tr>\n",
       "      <th>...</th>\n",
       "      <td>...</td>\n",
       "      <td>...</td>\n",
       "      <td>...</td>\n",
       "    </tr>\n",
       "    <tr>\n",
       "      <th>4137</th>\n",
       "      <td>FC(F)(F)c1ccc(-c2c[nH]nn2)cc1</td>\n",
       "      <td>&lt;rdkit.Chem.rdchem.Mol object at 0x16fcbef10&gt;</td>\n",
       "      <td>0</td>\n",
       "    </tr>\n",
       "    <tr>\n",
       "      <th>4138</th>\n",
       "      <td>c1ccc2[nH]nnc2c1</td>\n",
       "      <td>&lt;rdkit.Chem.rdchem.Mol object at 0x16fcf54d0&gt;</td>\n",
       "      <td>0</td>\n",
       "    </tr>\n",
       "    <tr>\n",
       "      <th>4139</th>\n",
       "      <td>Cc1cccc(NC(=O)C(F)(F)F)c1-c1c[nH]nn1</td>\n",
       "      <td>&lt;rdkit.Chem.rdchem.Mol object at 0x16fcb5230&gt;</td>\n",
       "      <td>0</td>\n",
       "    </tr>\n",
       "    <tr>\n",
       "      <th>4140</th>\n",
       "      <td>Cc1ccc(N)cc1-c1c[nH]nn1</td>\n",
       "      <td>&lt;rdkit.Chem.rdchem.Mol object at 0x16fcb2500&gt;</td>\n",
       "      <td>0</td>\n",
       "    </tr>\n",
       "    <tr>\n",
       "      <th>4141</th>\n",
       "      <td>COc1ccc(-c2cnn[nH]2)cc1</td>\n",
       "      <td>&lt;rdkit.Chem.rdchem.Mol object at 0x16fca2570&gt;</td>\n",
       "      <td>0</td>\n",
       "    </tr>\n",
       "  </tbody>\n",
       "</table>\n",
       "<p>4142 rows × 3 columns</p>\n",
       "</div>"
      ],
      "text/plain": [
       "                                                 Smiles  \\\n",
       "0          O=C1c2cc([N+](=O)[O-])ccc2-n2c1nc1ccccc1c2=O   \n",
       "1     Cc1cc(C2CC2)ncc1-c1ccc(C2(C(=O)Nc3ccc(F)cc3)CO...   \n",
       "2     O=C(Nc1ccc(C2(C(=O)Nc3ccc(F)cc3)COC2)cc1)c1ccc...   \n",
       "3     O=C(Nc1ccc(F)cc1)C1(C2CCC3C(CCCN3c3ccnc(C(F)(F...   \n",
       "4                    O=C1CC(c2c[nH]c3ccc(F)cc23)C(=O)N1   \n",
       "...                                                 ...   \n",
       "4137                      FC(F)(F)c1ccc(-c2c[nH]nn2)cc1   \n",
       "4138                                   c1ccc2[nH]nnc2c1   \n",
       "4139               Cc1cccc(NC(=O)C(F)(F)F)c1-c1c[nH]nn1   \n",
       "4140                            Cc1ccc(N)cc1-c1c[nH]nn1   \n",
       "4141                            COc1ccc(-c2cnn[nH]2)cc1   \n",
       "\n",
       "                                              ROMol  Activity  \n",
       "0     <rdkit.Chem.rdchem.Mol object at 0x16fce49e0>         1  \n",
       "1     <rdkit.Chem.rdchem.Mol object at 0x16fcb09e0>         1  \n",
       "2     <rdkit.Chem.rdchem.Mol object at 0x16fcdcba0>         1  \n",
       "3     <rdkit.Chem.rdchem.Mol object at 0x16fcddcb0>         1  \n",
       "4     <rdkit.Chem.rdchem.Mol object at 0x16fce25e0>         1  \n",
       "...                                             ...       ...  \n",
       "4137  <rdkit.Chem.rdchem.Mol object at 0x16fcbef10>         0  \n",
       "4138  <rdkit.Chem.rdchem.Mol object at 0x16fcf54d0>         0  \n",
       "4139  <rdkit.Chem.rdchem.Mol object at 0x16fcb5230>         0  \n",
       "4140  <rdkit.Chem.rdchem.Mol object at 0x16fcb2500>         0  \n",
       "4141  <rdkit.Chem.rdchem.Mol object at 0x16fca2570>         0  \n",
       "\n",
       "[4142 rows x 3 columns]"
      ]
     },
     "execution_count": 2,
     "metadata": {},
     "output_type": "execute_result"
    }
   ],
   "source": [
    "df = pd.read_csv(f'{kon.path_files}/dp.csv')\n",
    "df"
   ]
  },
  {
   "cell_type": "code",
   "execution_count": 3,
   "id": "08c8cb84-d385-4745-a3ad-5531a8cf8fda",
   "metadata": {},
   "outputs": [
    {
     "name": "stdout",
     "output_type": "stream",
     "text": [
      "Activity\n",
      "1    2103\n",
      "0    2039\n",
      "Name: count, dtype: int64\n"
     ]
    }
   ],
   "source": [
    "activity_counts = df['Activity'].value_counts()\n",
    "print(activity_counts)"
   ]
  },
  {
   "cell_type": "markdown",
   "id": "53a86697-e58e-47b1-8e37-c1e52b40a882",
   "metadata": {},
   "source": [
    "# 3.3 Izračun relevantnih metrik za model strojnega učenja"
   ]
  },
  {
   "cell_type": "markdown",
   "id": "7c44270c-56c6-4b17-8d7a-0db0cf1517cc",
   "metadata": {},
   "source": [
    "## Test different fingerprints"
   ]
  },
  {
   "cell_type": "markdown",
   "id": "d5ab6f77-7f35-4c27-9373-986eebcd4bdc",
   "metadata": {},
   "source": [
    "**standard**: Considers paths of a given length. These are hashed fingerprints, with a default length of 1024.\n",
    "**extended**: Similar to the standard type, but takes rings and atomic properties into account into account.\n",
    "**graph**: Similar to the standard type by simply considers connectivity.\n",
    "**hybridization**: Similar to the standard type, but only consider hybridization state.\n",
    "**estate**: 79 bit fingerprints corresponding to the E-State atom types described by Hall and Kier.\n",
    "**cdk-atompairs**: CDK's implementation of the atompairs fingerprint\n",
    "**cdk-substructure**: CDK substructure fingerprint, basically identical to openbabel's fp4.\n",
    "**pubchem**: 881 bit fingerprints defined by PubChem.\n",
    "**klekota-roth**: 4860 bit fingerprint defined by Klekota and Roth.\n",
    "**shortestpath**: A fingerprint based on the shortest paths between pairs of atoms and takes into account ring systems, charges etc.\n",
    "**rdk-descriptor**: Various molecular descriptors implemented and calculated by RDKit.\n",
    "**circular**: An implementation of the ECFP6 fingerprint.\n",
    "**lingo**: An implementation of the LINGO fingerprint.\n",
    "**rdkit**: Another implementation of a Daylight-like fingerprint by RDKit.\n",
    "**maccs**: The popular 166 bit MACCS keys described by MDL.\n",
    "**avalon**: Substructure or similarity Avalon fingerprint.\n",
    "**atom-pair**: RDKit Atom-Pair fingerprint.\n",
    "**topological-torsion**: RDKit Topological-Torsion Fingerprint.\n",
    "**morgan**: RDKit Morgan fingerprint.\n",
    "**fp2**: OpenBabel FP2 fingerprint, which indexes small molecule fragments based on linear segments of up to 7 atoms in length.\n",
    "**fp3**: OpenBabel FP3 fingerprint, which is a fingerprint method created from a set of SMARTS patterns defining functional groups.\n",
    "**fp4**: OpenBabel FP4 fingerprint, which is a fingerprint method created from a set of SMARTS patterns defining functional groups.\n",
    "**spectrophore** Openbabel implementation of the spectrophore fingerprint (https://github.com/silicos-it/spectrophore).\n",
    "**mol2vec**: Unsupervised machine learning approach for mulecule representation."
   ]
  },
  {
   "cell_type": "markdown",
   "id": "6073e660-7ae8-4817-b605-2742fc9a9735",
   "metadata": {},
   "source": [
    "# Pregled kombinacij izbranih fingerprintov in klasifikacijskih modelov"
   ]
  },
  {
   "cell_type": "markdown",
   "id": "1a40effa-240f-439e-8ac2-957e5c6528ea",
   "metadata": {},
   "source": [
    "## V tem koraku bi rad preveril katera kombinacija fingerprinta in klasifikacijskega modela je najboljša preden začnem manipulirati s podatki. Ta korak je pomemben zato da v nadaljnih korakih vidim kaj izboljšujem"
   ]
  },
  {
   "cell_type": "code",
   "execution_count": 4,
   "id": "d18f0ce6-d081-476a-9ac4-690b3a1a1c6d",
   "metadata": {},
   "outputs": [],
   "source": [
    "# https://medium.com/artificialis/why-how-we-split-train-valid-and-test-fb4d6746ede"
   ]
  },
  {
   "cell_type": "code",
   "execution_count": 5,
   "id": "78aeebd7-4cb9-40de-8670-8fe083e1901f",
   "metadata": {},
   "outputs": [],
   "source": [
    "input_directory = f'{kon.path_files}/molekulski_prstni_odtisi'\n",
    "\n",
    "generated_fingerprints = ['df_standard.csv', 'df_extended.csv', 'df_graph.csv', 'df_maccs.csv', 'df_pubchem.csv', \n",
    " 'df_estate.csv', 'df_hybridization.csv', 'df_lingo.csv', 'df_klekota-roth.csv', 'df_shortestpath.csv', \n",
    " 'df_cdk-substructure.csv', 'df_circular.csv', 'df_cdk-atompairs.csv', 'df_rdkit.csv', 'df_morgan.csv', \n",
    " 'df_rdk-maccs.csv', 'df_topological-torsion.csv', 'df_avalon.csv', 'df_atom-pair.csv', 'df_fp2.csv']"
   ]
  },
  {
   "cell_type": "code",
   "execution_count": 6,
   "id": "3fa2b7c5-86e5-4fc8-aafa-bbdd00ee4d55",
   "metadata": {},
   "outputs": [
    {
     "name": "stdout",
     "output_type": "stream",
     "text": [
      "Processing fingerprint DataFrame: df_standard.csv\n",
      "Training svm on standard...\n",
      "{'Fingerprint': 'standard', 'Classifier': 'svm', 'CV_Train_Accuracy_Folds': [0.9018867924528302, 0.8977358490566038, 0.8962264150943396, 0.8981516408902301, 0.8985288570350811], 'CV_Train_Mean_Accuracy': 0.898505910905817, 'CV_Train_Mean_F1': 0.9020805761270279, 'CV_Train_Mean_Precision': 0.8840277122083158, 'CV_Train_Mean_Recall': 0.9209284289951778, 'CV_Train_Mean_ROC_AUC': 0.9692254676613358, 'CV_Val_Accuracy_Folds': [0.8702865761689291, 0.8717948717948718, 0.861236802413273, 0.851963746223565, 0.8564954682779456], 'CV_Val_Mean_Accuracy': 0.8623554929757169, 'CV_Val_Mean_F1': 0.8678296543190974, 'CV_Val_Mean_Precision': 0.8469277891142826, 'CV_Val_Mean_Recall': 0.8900116574819839, 'CV_Val_Mean_ROC_AUC': 0.9307590277458161, 'Test_Accuracy': 0.873341375150784, 'Test_F1': 0.8748510131108462, 'Test_Precision': 0.8779904306220095, 'Test_Recall': 0.8717339667458432, 'Test_ROC_AUC': 0.8733669833729216}\n",
      "Training lr on standard...\n",
      "{'Fingerprint': 'standard', 'Classifier': 'lr', 'CV_Train_Accuracy_Folds': [0.899245283018868, 0.8913207547169811, 0.9052830188679245, 0.8973972086005281, 0.8943794794417201], 'CV_Train_Mean_Accuracy': 0.8975251489292043, 'CV_Train_Mean_F1': 0.9004122095263952, 'CV_Train_Mean_Precision': 0.8886866459068538, 'CV_Train_Mean_Recall': 0.9124551334810012, 'CV_Train_Mean_ROC_AUC': 0.9588972851096298, 'CV_Val_Accuracy_Folds': [0.8491704374057315, 0.8748114630467572, 0.8265460030165912, 0.8444108761329305, 0.8398791540785498], 'CV_Val_Mean_Accuracy': 0.846963586736112, 'CV_Val_Mean_F1': 0.8518649803265379, 'CV_Val_Mean_Precision': 0.8375805736974126, 'CV_Val_Mean_Recall': 0.8668132683340399, 'CV_Val_Mean_ROC_AUC': 0.9136149961480993, 'Test_Accuracy': 0.850422195416164, 'Test_F1': 0.8537735849056604, 'Test_Precision': 0.8477751756440282, 'Test_Recall': 0.8598574821852731, 'Test_ROC_AUC': 0.8502718783475385}\n",
      "Training rf on standard...\n",
      "{'Fingerprint': 'standard', 'Classifier': 'rf', 'CV_Train_Accuracy_Folds': [0.9030188679245283, 0.8996226415094339, 0.8969811320754717, 0.8962655601659751, 0.9007921539041871], 'CV_Train_Mean_Accuracy': 0.8993360711159191, 'CV_Train_Mean_F1': 0.9017492796573394, 'CV_Train_Mean_Precision': 0.893726089779977, 'CV_Train_Mean_Recall': 0.909929793357159, 'CV_Train_Mean_ROC_AUC': 0.9674878807165082, 'CV_Val_Accuracy_Folds': [0.8748114630467572, 0.8748114630467572, 0.8597285067873304, 0.8580060422960725, 0.8655589123867069], 'CV_Val_Mean_Accuracy': 0.8665832775127248, 'CV_Val_Mean_F1': 0.8701422294953185, 'CV_Val_Mean_Precision': 0.8603101594741753, 'CV_Val_Mean_Recall': 0.8804966793839197, 'CV_Val_Mean_ROC_AUC': 0.9309830455146482, 'Test_Accuracy': 0.8661037394451147, 'Test_F1': 0.8661037394451147, 'Test_Precision': 0.8799019607843137, 'Test_Recall': 0.8527315914489311, 'Test_ROC_AUC': 0.8663167761166224}\n",
      "Training xgb on standard...\n",
      "{'Fingerprint': 'standard', 'Classifier': 'xgb', 'CV_Train_Accuracy_Folds': [0.9128301886792453, 0.9128301886792453, 0.9120754716981132, 0.9155035835533761, 0.9196529611467371], 'CV_Train_Mean_Accuracy': 0.9145784787513433, 'CV_Train_Mean_F1': 0.917018313124446, 'CV_Train_Mean_Precision': 0.9046963112041349, 'CV_Train_Mean_Recall': 0.9296970232604386, 'CV_Train_Mean_ROC_AUC': 0.9741618076117584, 'CV_Val_Accuracy_Folds': [0.8702865761689291, 0.8748114630467572, 0.8521870286576169, 0.8549848942598187, 0.851963746223565], 'CV_Val_Mean_Accuracy': 0.8608467416713375, 'CV_Val_Mean_F1': 0.8659146540155602, 'CV_Val_Mean_Precision': 0.8481968783551277, 'CV_Val_Mean_Recall': 0.8846598134802882, 'CV_Val_Mean_ROC_AUC': 0.9342583705108505, 'Test_Accuracy': 0.8721351025331725, 'Test_F1': 0.8716707021791767, 'Test_Precision': 0.8888888888888888, 'Test_Recall': 0.8551068883610451, 'Test_ROC_AUC': 0.8724063853569931}\n",
      "Processing fingerprint DataFrame: df_extended.csv\n",
      "Training svm on extended...\n",
      "{'Fingerprint': 'extended', 'Classifier': 'svm', 'CV_Train_Accuracy_Folds': [0.9026415094339623, 0.8977358490566038, 0.9015094339622641, 0.8989060731799321, 0.8962655601659751], 'CV_Train_Mean_Accuracy': 0.8994116851597476, 'CV_Train_Mean_F1': 0.9026239711874522, 'CV_Train_Mean_Precision': 0.8875318875165247, 'CV_Train_Mean_Recall': 0.9182524014427991, 'CV_Train_Mean_ROC_AUC': 0.9698094946393235, 'CV_Val_Accuracy_Folds': [0.8672699849170438, 0.8702865761689291, 0.861236802413273, 0.8549848942598187, 0.8655589123867069], 'CV_Val_Mean_Accuracy': 0.8638674340291542, 'CV_Val_Mean_F1': 0.868670706905936, 'CV_Val_Mean_Precision': 0.8515103758289205, 'CV_Val_Mean_Recall': 0.8870513635721352, 'CV_Val_Mean_ROC_AUC': 0.9270114434384192, 'Test_Accuracy': 0.8781664656212304, 'Test_F1': 0.8793309438470729, 'Test_Precision': 0.8846153846153846, 'Test_Recall': 0.8741092636579573, 'Test_ROC_AUC': 0.8782311024172139}\n",
      "Training lr on extended...\n",
      "{'Fingerprint': 'extended', 'Classifier': 'lr', 'CV_Train_Accuracy_Folds': [0.8879245283018868, 0.8890566037735849, 0.8841509433962265, 0.8868351565447001, 0.8909845341380611], 'CV_Train_Mean_Accuracy': 0.8877903532308918, 'CV_Train_Mean_F1': 0.8909475729424502, 'CV_Train_Mean_Precision': 0.8793102135741732, 'CV_Train_Mean_Recall': 0.9029433762159117, 'CV_Train_Mean_ROC_AUC': 0.9547830895787521, 'CV_Val_Accuracy_Folds': [0.8310708898944194, 0.8340874811463047, 0.8446455505279035, 0.8217522658610272, 0.8308157099697885], 'CV_Val_Mean_Accuracy': 0.8324743794798886, 'CV_Val_Mean_F1': 0.8383731449801619, 'CV_Val_Mean_Precision': 0.8215321896154875, 'CV_Val_Mean_Recall': 0.8561237106118412, 'CV_Val_Mean_ROC_AUC': 0.9089272816586638, 'Test_Accuracy': 0.8455971049457177, 'Test_F1': 0.8504672897196262, 'Test_Precision': 0.8367816091954023, 'Test_Recall': 0.8646080760095012, 'Test_ROC_AUC': 0.8452942340831819}\n",
      "Training rf on extended...\n",
      "{'Fingerprint': 'extended', 'Classifier': 'rf', 'CV_Train_Accuracy_Folds': [0.9030188679245283, 0.9018867924528302, 0.9022641509433962, 0.901546586193889, 0.901546586193889], 'CV_Train_Mean_Accuracy': 0.9020525967417067, 'CV_Train_Mean_F1': 0.9043600413988548, 'CV_Train_Mean_Precision': 0.8967142575808886, 'CV_Train_Mean_Recall': 0.9121592823566453, 'CV_Train_Mean_ROC_AUC': 0.968345370377796, 'CV_Val_Accuracy_Folds': [0.8657616892911011, 0.8763197586726998, 0.8521870286576169, 0.8625377643504532, 0.8534743202416919], 'CV_Val_Mean_Accuracy': 0.8620561122427126, 'CV_Val_Mean_F1': 0.8654263201920521, 'CV_Val_Mean_Precision': 0.8582036034158836, 'CV_Val_Mean_Recall': 0.8733661862371062, 'CV_Val_Mean_ROC_AUC': 0.9295686999967263, 'Test_Accuracy': 0.8685162846803377, 'Test_F1': 0.8688327316486161, 'Test_Precision': 0.8804878048780488, 'Test_Recall': 0.8574821852731591, 'Test_ROC_AUC': 0.8686920730287364}\n",
      "Training xgb on extended...\n",
      "{'Fingerprint': 'extended', 'Classifier': 'xgb', 'CV_Train_Accuracy_Folds': [0.9211320754716981, 0.9226415094339623, 0.9188679245283019, 0.918898528857035, 0.9245567710298], 'CV_Train_Mean_Accuracy': 0.9212193618641595, 'CV_Train_Mean_F1': 0.9231934377948274, 'CV_Train_Mean_Precision': 0.9140946145414504, 'CV_Train_Mean_Recall': 0.9325217496975757, 'CV_Train_Mean_ROC_AUC': 0.9766287262631318, 'CV_Val_Accuracy_Folds': [0.8687782805429864, 0.8657616892911011, 0.8627450980392157, 0.851963746223565, 0.8580060422960725], 'CV_Val_Mean_Accuracy': 0.8614509712785882, 'CV_Val_Mean_F1': 0.8650428731333626, 'CV_Val_Mean_Precision': 0.8559538105731083, 'CV_Val_Mean_Recall': 0.8745601949978804, 'CV_Val_Mean_ROC_AUC': 0.9316492618387471, 'Test_Accuracy': 0.8709288299155609, 'Test_F1': 0.8727705112960761, 'Test_Precision': 0.8738095238095238, 'Test_Recall': 0.8717339667458432, 'Test_ROC_AUC': 0.8709160029807648}\n",
      "Processing fingerprint DataFrame: df_graph.csv\n",
      "Training svm on graph...\n",
      "{'Fingerprint': 'graph', 'Classifier': 'svm', 'CV_Train_Accuracy_Folds': [0.869056603773585, 0.8716981132075472, 0.8720754716981132, 0.8717465107506601, 0.8683515654470011], 'CV_Train_Mean_Accuracy': 0.8705856529753813, 'CV_Train_Mean_F1': 0.8758083127111258, 'CV_Train_Mean_Precision': 0.854013820867411, 'CV_Train_Mean_Recall': 0.8987819064611102, 'CV_Train_Mean_ROC_AUC': 0.941745317202939, 'CV_Val_Accuracy_Folds': [0.8461538461538461, 0.8521870286576169, 0.8265460030165912, 0.8595166163141994, 0.8580060422960725], 'CV_Val_Mean_Accuracy': 0.8484819072876653, 'CV_Val_Mean_F1': 0.8542445114460724, 'CV_Val_Mean_Precision': 0.8349273915351463, 'CV_Val_Mean_Recall': 0.8745566624275825, 'CV_Val_Mean_ROC_AUC': 0.9109201840571389, 'Test_Accuracy': 0.864897466827503, 'Test_F1': 0.8694638694638694, 'Test_Precision': 0.8535469107551488, 'Test_Recall': 0.8859857482185273, 'Test_ROC_AUC': 0.864561501560244}\n",
      "Training lr on graph...\n",
      "{'Fingerprint': 'graph', 'Classifier': 'lr', 'CV_Train_Accuracy_Folds': [0.870188679245283, 0.8671698113207548, 0.870188679245283, 0.8698604300264051, 0.8638249717087891], 'CV_Train_Mean_Accuracy': 0.868246514309303, 'CV_Train_Mean_F1': 0.8725936983179242, 'CV_Train_Mean_Precision': 0.8570955443840573, 'CV_Train_Mean_Recall': 0.8886748012837155, 'CV_Train_Mean_ROC_AUC': 0.9399605607271193, 'CV_Val_Accuracy_Folds': [0.8129713423831071, 0.8310708898944194, 0.8310708898944194, 0.8353474320241692, 0.8610271903323263], 'CV_Val_Mean_Accuracy': 0.8342975489056883, 'CV_Val_Mean_F1': 0.8400641250580725, 'CV_Val_Mean_Precision': 0.8235586778406081, 'CV_Val_Mean_Recall': 0.8573300833686591, 'CV_Val_Mean_ROC_AUC': 0.9007910451245722, 'Test_Accuracy': 0.8407720144752714, 'Test_F1': 0.847926267281106, 'Test_Precision': 0.8232662192393736, 'Test_Recall': 0.8741092636579573, 'Test_ROC_AUC': 0.8402409063387826}\n",
      "Training rf on graph...\n",
      "{'Fingerprint': 'graph', 'Classifier': 'rf', 'CV_Train_Accuracy_Folds': [0.8675471698113207, 0.8841509433962265, 0.8750943396226415, 0.8728781591852132, 0.8709920784609582], 'CV_Train_Mean_Accuracy': 0.874132538095272, 'CV_Train_Mean_F1': 0.8779167192425102, 'CV_Train_Mean_Precision': 0.8649085804268921, 'CV_Train_Mean_Recall': 0.89135071836144, 'CV_Train_Mean_ROC_AUC': 0.9470907754562944, 'CV_Val_Accuracy_Folds': [0.8371040723981901, 0.8461538461538461, 0.8280542986425339, 0.8429003021148036, 0.8580060422960725], 'CV_Val_Mean_Accuracy': 0.8424437123210893, 'CV_Val_Mean_F1': 0.84659972665198, 'CV_Val_Mean_Precision': 0.8368424179284325, 'CV_Val_Mean_Recall': 0.8567224812773773, 'CV_Val_Mean_ROC_AUC': 0.9139632353570212, 'Test_Accuracy': 0.8721351025331725, 'Test_F1': 0.8764568764568764, 'Test_Precision': 0.8604118993135011, 'Test_Recall': 0.8931116389548693, 'Test_ROC_AUC': 0.8718009175166503}\n",
      "Training xgb on graph...\n",
      "{'Fingerprint': 'graph', 'Classifier': 'xgb', 'CV_Train_Accuracy_Folds': [0.8743396226415094, 0.8830188679245283, 0.8750943396226415, 0.8785364013579782, 0.8777819690682761], 'CV_Train_Mean_Accuracy': 0.8777542401229868, 'CV_Train_Mean_F1': 0.8819528908829579, 'CV_Train_Mean_Precision': 0.865077348973929, 'CV_Train_Mean_Recall': 0.8995246275623214, 'CV_Train_Mean_ROC_AUC': 0.948554160292683, 'CV_Val_Accuracy_Folds': [0.8446455505279035, 0.8310708898944194, 0.8371040723981901, 0.8308157099697885, 0.850453172205438], 'CV_Val_Mean_Accuracy': 0.8388178789991478, 'CV_Val_Mean_F1': 0.844540063077825, 'CV_Val_Mean_Precision': 0.8274653189171243, 'CV_Val_Mean_Recall': 0.8626748622297583, 'CV_Val_Mean_ROC_AUC': 0.9136576263469918, 'Test_Accuracy': 0.8552472858866104, 'Test_F1': 0.8617511520737328, 'Test_Precision': 0.8366890380313199, 'Test_Recall': 0.8883610451306413, 'Test_ROC_AUC': 0.8547197382515951}\n",
      "Processing fingerprint DataFrame: df_maccs.csv\n",
      "Training svm on maccs...\n"
     ]
    },
    {
     "name": "stderr",
     "output_type": "stream",
     "text": [
      "UserWarning: k=300 is greater than n_features=156. All the features will be returned.\n",
      "UserWarning: k=300 is greater than n_features=157. All the features will be returned.\n",
      "UserWarning: k=300 is greater than n_features=156. All the features will be returned.\n",
      "UserWarning: k=300 is greater than n_features=155. All the features will be returned.\n",
      "UserWarning: k=300 is greater than n_features=156. All the features will be returned.\n",
      "UserWarning: k=300 is greater than n_features=157. All the features will be returned.\n"
     ]
    },
    {
     "name": "stdout",
     "output_type": "stream",
     "text": [
      "{'Fingerprint': 'maccs', 'Classifier': 'svm', 'CV_Train_Accuracy_Folds': [0.8864150943396226, 0.8837735849056604, 0.8849056603773585, 0.8845718596755942, 0.8826857789513392], 'CV_Train_Mean_Accuracy': 0.8844703956499149, 'CV_Train_Mean_F1': 0.889287547616021, 'CV_Train_Mean_Precision': 0.8659413445621551, 'CV_Train_Mean_Recall': 0.913942232803239, 'CV_Train_Mean_ROC_AUC': 0.9521507863464004, 'CV_Val_Accuracy_Folds': [0.8702865761689291, 0.8642533936651584, 0.8687782805429864, 0.8549848942598187, 0.8580060422960725], 'CV_Val_Mean_Accuracy': 0.8632618373865931, 'CV_Val_Mean_F1': 0.8691841387088448, 'CV_Val_Mean_Precision': 0.8452265834305905, 'CV_Val_Mean_Recall': 0.8947717959587396, 'CV_Val_Mean_ROC_AUC': 0.9246013587768106, 'Test_Accuracy': 0.8697225572979493, 'Test_F1': 0.8735362997658079, 'Test_Precision': 0.8614318706697459, 'Test_Recall': 0.8859857482185273, 'Test_ROC_AUC': 0.8694634623445577}\n",
      "Training lr on maccs...\n"
     ]
    },
    {
     "name": "stderr",
     "output_type": "stream",
     "text": [
      "UserWarning: k=300 is greater than n_features=156. All the features will be returned.\n",
      "UserWarning: k=300 is greater than n_features=157. All the features will be returned.\n",
      "UserWarning: k=300 is greater than n_features=156. All the features will be returned.\n",
      "UserWarning: k=300 is greater than n_features=155. All the features will be returned.\n",
      "UserWarning: k=300 is greater than n_features=156. All the features will be returned.\n",
      "UserWarning: k=300 is greater than n_features=157. All the features will be returned.\n",
      "UserWarning: k=300 is greater than n_features=156. All the features will be returned.\n"
     ]
    },
    {
     "name": "stdout",
     "output_type": "stream",
     "text": [
      "{'Fingerprint': 'maccs', 'Classifier': 'lr', 'CV_Train_Accuracy_Folds': [0.8577358490566038, 0.8547169811320755, 0.8562264150943396, 0.8577895133911732, 0.8528857035081101], 'CV_Train_Mean_Accuracy': 0.8558708924364605, 'CV_Train_Mean_F1': 0.860910895836119, 'CV_Train_Mean_Precision': 0.84395295383135, 'CV_Train_Mean_Recall': 0.8785672542077034, 'CV_Train_Mean_ROC_AUC': 0.9256924462390353, 'CV_Val_Accuracy_Folds': [0.8371040723981901, 0.8401206636500754, 0.8431372549019608, 0.8338368580060423, 0.8413897280966768], 'CV_Val_Mean_Accuracy': 0.8391177154105891, 'CV_Val_Mean_F1': 0.8443896870059338, 'CV_Val_Mean_Precision': 0.8294564560873084, 'CV_Val_Mean_Recall': 0.860292143563657, 'CV_Val_Mean_ROC_AUC': 0.9062838653306924, 'Test_Accuracy': 0.8395657418576599, 'Test_F1': 0.8448074679113186, 'Test_Precision': 0.8302752293577982, 'Test_Recall': 0.8598574821852731, 'Test_ROC_AUC': 0.8392424665828326}\n",
      "Training rf on maccs...\n"
     ]
    },
    {
     "name": "stderr",
     "output_type": "stream",
     "text": [
      "UserWarning: k=300 is greater than n_features=157. All the features will be returned.\n",
      "UserWarning: k=300 is greater than n_features=156. All the features will be returned.\n",
      "UserWarning: k=300 is greater than n_features=155. All the features will be returned.\n",
      "UserWarning: k=300 is greater than n_features=156. All the features will be returned.\n",
      "UserWarning: k=300 is greater than n_features=157. All the features will be returned.\n",
      "UserWarning: k=300 is greater than n_features=156. All the features will be returned.\n"
     ]
    },
    {
     "name": "stdout",
     "output_type": "stream",
     "text": [
      "{'Fingerprint': 'maccs', 'Classifier': 'rf', 'CV_Train_Accuracy_Folds': [0.890943396226415, 0.890943396226415, 0.8856603773584906, 0.8887212372689551, 0.8887212372689551], 'CV_Train_Mean_Accuracy': 0.8889979288698461, 'CV_Train_Mean_F1': 0.8926000438165176, 'CV_Train_Mean_Precision': 0.8771839766958742, 'CV_Train_Mean_Recall': 0.9085921662422599, 'CV_Train_Mean_ROC_AUC': 0.9620033873814707, 'CV_Val_Accuracy_Folds': [0.8717948717948718, 0.8627450980392157, 0.8552036199095022, 0.8564954682779456, 0.8595166163141994], 'CV_Val_Mean_Accuracy': 0.861151134867147, 'CV_Val_Mean_F1': 0.8659789412697709, 'CV_Val_Mean_Precision': 0.8494355760379774, 'CV_Val_Mean_Recall': 0.8834711035749612, 'CV_Val_Mean_ROC_AUC': 0.9282019807435345, 'Test_Accuracy': 0.8636911942098915, 'Test_F1': 0.8665879574970484, 'Test_Precision': 0.8615023474178404, 'Test_Recall': 0.8717339667458432, 'Test_ROC_AUC': 0.8635630618042941}\n",
      "Training xgb on maccs...\n"
     ]
    },
    {
     "name": "stderr",
     "output_type": "stream",
     "text": [
      "UserWarning: k=300 is greater than n_features=157. All the features will be returned.\n",
      "UserWarning: k=300 is greater than n_features=156. All the features will be returned.\n",
      "UserWarning: k=300 is greater than n_features=155. All the features will be returned.\n",
      "UserWarning: k=300 is greater than n_features=156. All the features will be returned.\n",
      "UserWarning: k=300 is greater than n_features=157. All the features will be returned.\n"
     ]
    },
    {
     "name": "stdout",
     "output_type": "stream",
     "text": [
      "{'Fingerprint': 'maccs', 'Classifier': 'xgb', 'CV_Train_Accuracy_Folds': [0.900377358490566, 0.8984905660377358, 0.8947169811320754, 0.897774424745379, 0.899660505469634], 'CV_Train_Mean_Accuracy': 0.898203967175078, 'CV_Train_Mean_F1': 0.9011139124699772, 'CV_Train_Mean_Precision': 0.8889512193775474, 'CV_Train_Mean_Recall': 0.9136448350337224, 'CV_Train_Mean_ROC_AUC': 0.9656236439870927, 'CV_Val_Accuracy_Folds': [0.8582202111613876, 0.8476621417797888, 0.8567119155354449, 0.8640483383685801, 0.8670694864048338], 'CV_Val_Mean_Accuracy': 0.8587424186500071, 'CV_Val_Mean_F1': 0.8625258895211136, 'CV_Val_Mean_Precision': 0.8524387748985521, 'CV_Val_Mean_Recall': 0.8733891479440439, 'CV_Val_Mean_ROC_AUC': 0.9297608665752103, 'Test_Accuracy': 0.8624849215922799, 'Test_F1': 0.8652482269503546, 'Test_Precision': 0.8611764705882353, 'Test_Recall': 0.8693586698337292, 'Test_ROC_AUC': 0.8623754133482371}\n",
      "Processing fingerprint DataFrame: df_pubchem.csv\n",
      "Training svm on pubchem...\n",
      "{'Fingerprint': 'pubchem', 'Classifier': 'svm', 'CV_Train_Accuracy_Folds': [0.8758490566037735, 0.8803773584905661, 0.8826415094339622, 0.8762731044888721, 0.8755186721991701], 'CV_Train_Mean_Accuracy': 0.8781319402432688, 'CV_Train_Mean_F1': 0.8831048253717677, 'CV_Train_Mean_Precision': 0.8607723763632528, 'CV_Train_Mean_Recall': 0.9066596331136729, 'CV_Train_Mean_ROC_AUC': 0.9456205918609015, 'CV_Val_Accuracy_Folds': [0.8491704374057315, 0.8446455505279035, 0.8416289592760181, 0.8534743202416919, 0.8580060422960725], 'CV_Val_Mean_Accuracy': 0.8493850619494836, 'CV_Val_Mean_F1': 0.855326713910874, 'CV_Val_Mean_Precision': 0.8349673884495333, 'CV_Val_Mean_Recall': 0.8769429136639818, 'CV_Val_Mean_ROC_AUC': 0.9152048028474115, 'Test_Accuracy': 0.8757539203860072, 'Test_F1': 0.8786808009422851, 'Test_Precision': 0.8714953271028038, 'Test_Recall': 0.8859857482185273, 'Test_ROC_AUC': 0.87559091332495}\n",
      "Training lr on pubchem...\n",
      "{'Fingerprint': 'pubchem', 'Classifier': 'lr', 'CV_Train_Accuracy_Folds': [0.8705660377358491, 0.8683018867924528, 0.8675471698113207, 0.8660882685778951, 0.8660882685778951], 'CV_Train_Mean_Accuracy': 0.8677183262990825, 'CV_Train_Mean_F1': 0.8727218528833534, 'CV_Train_Mean_Precision': 0.8531034299778526, 'CV_Train_Mean_Recall': 0.8932815943702117, 'CV_Train_Mean_ROC_AUC': 0.9397060267128111, 'CV_Val_Accuracy_Folds': [0.8371040723981901, 0.8386123680241327, 0.8220211161387632, 0.8277945619335347, 0.850453172205438], 'CV_Val_Mean_Accuracy': 0.8351970581400117, 'CV_Val_Mean_F1': 0.8411179585351632, 'CV_Val_Mean_Precision': 0.8234470965324151, 'CV_Val_Mean_Recall': 0.8596916066129717, 'CV_Val_Mean_ROC_AUC': 0.9078693588873297, 'Test_Accuracy': 0.8528347406513872, 'Test_F1': 0.8557919621749409, 'Test_Precision': 0.851764705882353, 'Test_Recall': 0.8598574821852731, 'Test_ROC_AUC': 0.8527228587396953}\n",
      "Training rf on pubchem...\n",
      "{'Fingerprint': 'pubchem', 'Classifier': 'rf', 'CV_Train_Accuracy_Folds': [0.889811320754717, 0.8905660377358491, 0.8890566037735849, 0.8875895888344021, 0.8868351565447001], 'CV_Train_Mean_Accuracy': 0.8887717415286508, 'CV_Train_Mean_F1': 0.8920768895053051, 'CV_Train_Mean_Precision': 0.8791175312233662, 'CV_Train_Mean_Recall': 0.905470373459569, 'CV_Train_Mean_ROC_AUC': 0.9565569734373236, 'CV_Val_Accuracy_Folds': [0.8657616892911011, 0.8597285067873304, 0.8536953242835595, 0.8549848942598187, 0.8549848942598187], 'CV_Val_Mean_Accuracy': 0.8578310617763257, 'CV_Val_Mean_F1': 0.862170185373329, 'CV_Val_Mean_Precision': 0.8493630470508571, 'CV_Val_Mean_Recall': 0.8757471386180585, 'CV_Val_Mean_ROC_AUC': 0.9243302780384607, 'Test_Accuracy': 0.8697225572979493, 'Test_F1': 0.8711217183770883, 'Test_Precision': 0.8752997601918465, 'Test_Recall': 0.8669833729216152, 'Test_ROC_AUC': 0.8697661962647292}\n",
      "Training xgb on pubchem...\n",
      "{'Fingerprint': 'pubchem', 'Classifier': 'xgb', 'CV_Train_Accuracy_Folds': [0.889811320754717, 0.889811320754717, 0.8890566037735849, 0.8883440211241042, 0.8875895888344021], 'CV_Train_Mean_Accuracy': 0.888922571048305, 'CV_Train_Mean_F1': 0.8921293114661794, 'CV_Train_Mean_Precision': 0.8799390701050326, 'CV_Train_Mean_Recall': 0.9047259952385425, 'CV_Train_Mean_ROC_AUC': 0.9566925148582325, 'CV_Val_Accuracy_Folds': [0.8582202111613876, 0.8461538461538461, 0.8371040723981901, 0.8549848942598187, 0.8429003021148036], 'CV_Val_Mean_Accuracy': 0.8478726652176093, 'CV_Val_Mean_F1': 0.853288992425106, 'CV_Val_Mean_Precision': 0.8366595735348568, 'CV_Val_Mean_Recall': 0.8709975978521973, 'CV_Val_Mean_ROC_AUC': 0.922828202277792, 'Test_Accuracy': 0.8600723763570567, 'Test_F1': 0.8628841607565012, 'Test_Precision': 0.8588235294117647, 'Test_Recall': 0.8669833729216152, 'Test_ROC_AUC': 0.8599622746961018}\n",
      "Processing fingerprint DataFrame: df_estate.csv\n",
      "Training svm on estate...\n"
     ]
    },
    {
     "name": "stderr",
     "output_type": "stream",
     "text": [
      "UserWarning: k=300 is greater than n_features=29. All the features will be returned.\n",
      "UserWarning: k=300 is greater than n_features=28. All the features will be returned.\n",
      "UserWarning: k=300 is greater than n_features=29. All the features will be returned.\n",
      "UserWarning: k=300 is greater than n_features=28. All the features will be returned.\n",
      "UserWarning: k=300 is greater than n_features=29. All the features will be returned.\n",
      "UserWarning: k=300 is greater than n_features=29. All the features will be returned.\n"
     ]
    },
    {
     "name": "stdout",
     "output_type": "stream",
     "text": [
      "{'Fingerprint': 'estate', 'Classifier': 'svm', 'CV_Train_Accuracy_Folds': [0.8445283018867924, 0.8456603773584905, 0.8456603773584905, 0.8434552998868352, 0.8427008675971331], 'CV_Train_Mean_Accuracy': 0.8444010448175485, 'CV_Train_Mean_F1': 0.8491063199581148, 'CV_Train_Mean_Precision': 0.8363435734002707, 'CV_Train_Mean_Recall': 0.8623672508934638, 'CV_Train_Mean_ROC_AUC': 0.910786206720237, 'CV_Val_Accuracy_Folds': [0.8190045248868778, 0.8129713423831071, 0.8220211161387632, 0.8338368580060423, 0.8413897280966768], 'CV_Val_Mean_Accuracy': 0.8258447139022935, 'CV_Val_Mean_F1': 0.8310297309667247, 'CV_Val_Mean_Precision': 0.8187659474943778, 'CV_Val_Mean_Recall': 0.8442631058358062, 'CV_Val_Mean_ROC_AUC': 0.8900963478741246, 'Test_Accuracy': 0.8250904704463209, 'Test_F1': 0.8288075560802833, 'Test_Precision': 0.823943661971831, 'Test_Recall': 0.833729216152019, 'Test_ROC_AUC': 0.8249528433701271}\n",
      "Training lr on estate...\n",
      "{'Fingerprint': 'estate', 'Classifier': 'lr', 'CV_Train_Accuracy_Folds': [0.7626415094339623, 0.7860377358490566, 0.7622641509433963, 0.7683892870614862, 0.7548095058468502], 'CV_Train_Mean_Accuracy': 0.7668284378269503, 'CV_Train_Mean_F1': 0.7674534412055232, 'CV_Train_Mean_Precision': 0.776819308328505, 'CV_Train_Mean_Recall': 0.758626026723819, 'CV_Train_Mean_ROC_AUC': 0.8397582090178061, 'CV_Val_Accuracy_Folds': [0.755656108597285, 0.7616892911010558, 0.751131221719457, 0.7522658610271903, 0.7794561933534743], 'CV_Val_Mean_Accuracy': 0.7600397351596925, 'CV_Val_Mean_F1': 0.7597891135135046, 'CV_Val_Mean_Precision': 0.7726760568513834, 'CV_Val_Mean_Recall': 0.7485251519005228, 'CV_Val_Mean_ROC_AUC': 0.8337818517238688, 'Test_Accuracy': 0.7310012062726177, 'Test_F1': 0.7303506650544136, 'Test_Precision': 0.7438423645320197, 'Test_Recall': 0.7173396674584323, 'Test_ROC_AUC': 0.7312188533370593}\n",
      "Training rf on estate...\n"
     ]
    },
    {
     "name": "stderr",
     "output_type": "stream",
     "text": [
      "UserWarning: k=300 is greater than n_features=29. All the features will be returned.\n",
      "UserWarning: k=300 is greater than n_features=28. All the features will be returned.\n",
      "UserWarning: k=300 is greater than n_features=29. All the features will be returned.\n",
      "UserWarning: k=300 is greater than n_features=28. All the features will be returned.\n",
      "UserWarning: k=300 is greater than n_features=29. All the features will be returned.\n",
      "UserWarning: k=300 is greater than n_features=29. All the features will be returned.\n",
      "UserWarning: k=300 is greater than n_features=29. All the features will be returned.\n",
      "UserWarning: k=300 is greater than n_features=28. All the features will be returned.\n",
      "UserWarning: k=300 is greater than n_features=29. All the features will be returned.\n",
      "UserWarning: k=300 is greater than n_features=28. All the features will be returned.\n",
      "UserWarning: k=300 is greater than n_features=29. All the features will be returned.\n",
      "UserWarning: k=300 is greater than n_features=29. All the features will be returned.\n",
      "UserWarning: k=300 is greater than n_features=29. All the features will be returned.\n"
     ]
    },
    {
     "name": "stdout",
     "output_type": "stream",
     "text": [
      "{'Fingerprint': 'estate', 'Classifier': 'rf', 'CV_Train_Accuracy_Folds': [0.8441509433962264, 0.8430188679245283, 0.8445283018867924, 0.8442097321765372, 0.8415692191625802], 'CV_Train_Mean_Accuracy': 0.8434954129093329, 'CV_Train_Mean_F1': 0.8463906616748181, 'CV_Train_Mean_Precision': 0.84355493973274, 'CV_Train_Mean_Recall': 0.8492866099195192, 'CV_Train_Mean_ROC_AUC': 0.9100098114718123, 'CV_Val_Accuracy_Folds': [0.8295625942684767, 0.8205128205128205, 0.8250377073906485, 0.8308157099697885, 0.8413897280966768], 'CV_Val_Mean_Accuracy': 0.8294637120476823, 'CV_Val_Mean_F1': 0.8325258329926198, 'CV_Val_Mean_Precision': 0.8301526920615684, 'CV_Val_Mean_Recall': 0.8353415995478309, 'CV_Val_Mean_ROC_AUC': 0.8887338753054765, 'Test_Accuracy': 0.8238841978287093, 'Test_F1': 0.8266033254156769, 'Test_Precision': 0.8266033254156769, 'Test_Recall': 0.8266033254156769, 'Test_ROC_AUC': 0.823840878394113}\n",
      "Training xgb on estate...\n"
     ]
    },
    {
     "name": "stderr",
     "output_type": "stream",
     "text": [
      "UserWarning: k=300 is greater than n_features=28. All the features will be returned.\n",
      "UserWarning: k=300 is greater than n_features=29. All the features will be returned.\n",
      "UserWarning: k=300 is greater than n_features=28. All the features will be returned.\n",
      "UserWarning: k=300 is greater than n_features=29. All the features will be returned.\n",
      "UserWarning: k=300 is greater than n_features=29. All the features will be returned.\n"
     ]
    },
    {
     "name": "stdout",
     "output_type": "stream",
     "text": [
      "{'Fingerprint': 'estate', 'Classifier': 'xgb', 'CV_Train_Accuracy_Folds': [0.8464150943396226, 0.8441509433962264, 0.8452830188679246, 0.8423236514522822, 0.8445869483213881], 'CV_Train_Mean_Accuracy': 0.844551931275489, 'CV_Train_Mean_F1': 0.8489161228348487, 'CV_Train_Mean_Precision': 0.8379212152805602, 'CV_Train_Mean_Recall': 0.8602865712533901, 'CV_Train_Mean_ROC_AUC': 0.9122977589798025, 'CV_Val_Accuracy_Folds': [0.8114630467571644, 0.8129713423831071, 0.8174962292609351, 0.823262839879154, 0.8459214501510574], 'CV_Val_Mean_Accuracy': 0.8222229816862836, 'CV_Val_Mean_F1': 0.8269006427214098, 'CV_Val_Mean_Precision': 0.8174379798979412, 'CV_Val_Mean_Recall': 0.8371290801186945, 'CV_Val_Mean_ROC_AUC': 0.8888731092746094, 'Test_Accuracy': 0.8250904704463209, 'Test_F1': 0.8300117233294255, 'Test_Precision': 0.8194444444444444, 'Test_Recall': 0.8408551068883611, 'Test_ROC_AUC': 0.824839318150063}\n",
      "Processing fingerprint DataFrame: df_hybridization.csv\n",
      "Training svm on hybridization...\n",
      "{'Fingerprint': 'hybridization', 'Classifier': 'svm', 'CV_Train_Accuracy_Folds': [0.8984905660377358, 0.8962264150943396, 0.8981132075471698, 0.8992832893247831, 0.8936250471520181], 'CV_Train_Mean_Accuracy': 0.8971477050312094, 'CV_Train_Mean_F1': 0.8998576367274117, 'CV_Train_Mean_Precision': 0.8898195038070241, 'CV_Train_Mean_Recall': 0.910226970177367, 'CV_Train_Mean_ROC_AUC': 0.9688504386387413, 'CV_Val_Accuracy_Folds': [0.8702865761689291, 0.8657616892911011, 0.861236802413273, 0.8534743202416919, 0.8610271903323263], 'CV_Val_Mean_Accuracy': 0.8623573156894644, 'CV_Val_Mean_F1': 0.8664256487567661, 'CV_Val_Mean_Precision': 0.8540416494755529, 'CV_Val_Mean_Recall': 0.8793115020488909, 'CV_Val_Mean_ROC_AUC': 0.928427153990787, 'Test_Accuracy': 0.8673100120627262, 'Test_F1': 0.86810551558753, 'Test_Precision': 0.8765133171912833, 'Test_Recall': 0.8598574821852731, 'Test_ROC_AUC': 0.8674287410926366}\n",
      "Training lr on hybridization...\n",
      "{'Fingerprint': 'hybridization', 'Classifier': 'lr', 'CV_Train_Accuracy_Folds': [0.8984905660377358, 0.8852830188679245, 0.890188679245283, 0.8890984534138061, 0.8875895888344021], 'CV_Train_Mean_Accuracy': 0.8901300612798304, 'CV_Train_Mean_F1': 0.8929239172356421, 'CV_Train_Mean_Precision': 0.8836989272392082, 'CV_Train_Mean_Recall': 0.9023492435248043, 'CV_Train_Mean_ROC_AUC': 0.959506000595727, 'CV_Val_Accuracy_Folds': [0.8386123680241327, 0.8506787330316742, 0.8536953242835595, 0.8323262839879154, 0.8293051359516617], 'CV_Val_Mean_Accuracy': 0.8409235690557887, 'CV_Val_Mean_F1': 0.8445924164567552, 'CV_Val_Mean_Precision': 0.837492776756797, 'CV_Val_Mean_Recall': 0.8519570439451746, 'CV_Val_Mean_ROC_AUC': 0.917396283112059, 'Test_Accuracy': 0.8480096501809409, 'Test_F1': 0.852803738317757, 'Test_Precision': 0.8390804597701149, 'Test_Recall': 0.8669833729216152, 'Test_ROC_AUC': 0.8477073727353174}\n",
      "Training rf on hybridization...\n",
      "{'Fingerprint': 'hybridization', 'Classifier': 'rf', 'CV_Train_Accuracy_Folds': [0.9007547169811321, 0.9015094339622641, 0.9015094339622641, 0.9019238023387401, 0.8992832893247831], 'CV_Train_Mean_Accuracy': 0.9009961353138367, 'CV_Train_Mean_F1': 0.9032171845715176, 'CV_Train_Mean_Precision': 0.8966367675807048, 'CV_Train_Mean_Recall': 0.909929130509233, 'CV_Train_Mean_ROC_AUC': 0.9669791429233753, 'CV_Val_Accuracy_Folds': [0.8733031674208145, 0.8808446455505279, 0.8476621417797888, 0.8625377643504532, 0.8580060422960725], 'CV_Val_Mean_Accuracy': 0.8644707522795315, 'CV_Val_Mean_F1': 0.8680543407611179, 'CV_Val_Mean_Precision': 0.8583886867843379, 'CV_Val_Mean_Recall': 0.8781104281475202, 'CV_Val_Mean_ROC_AUC': 0.928262455381525, 'Test_Accuracy': 0.8685162846803377, 'Test_F1': 0.8688327316486161, 'Test_Precision': 0.8804878048780488, 'Test_Recall': 0.8574821852731591, 'Test_ROC_AUC': 0.8686920730287364}\n",
      "Training xgb on hybridization...\n",
      "{'Fingerprint': 'hybridization', 'Classifier': 'xgb', 'CV_Train_Accuracy_Folds': [0.9154716981132075, 0.9090566037735849, 0.9113207547169812, 0.9083364768012071, 0.9098453413806111], 'CV_Train_Mean_Accuracy': 0.9108061749571185, 'CV_Train_Mean_F1': 0.9128078155064193, 'CV_Train_Mean_Precision': 0.9061412442444897, 'CV_Train_Mean_Recall': 0.9195908018802786, 'CV_Train_Mean_ROC_AUC': 0.9721700873873044, 'CV_Val_Accuracy_Folds': [0.8748114630467572, 0.8733031674208145, 0.8567119155354449, 0.8534743202416919, 0.8580060422960725], 'CV_Val_Mean_Accuracy': 0.8632613817081563, 'CV_Val_Mean_F1': 0.8668330422014632, 'CV_Val_Mean_Precision': 0.857898394826883, 'CV_Val_Mean_Recall': 0.8763370778578494, 'CV_Val_Mean_ROC_AUC': 0.93155900954222, 'Test_Accuracy': 0.8745476477683957, 'Test_F1': 0.8764845605700713, 'Test_Precision': 0.8764845605700713, 'Test_Recall': 0.8764845605700713, 'Test_ROC_AUC': 0.8745167900889572}\n",
      "Processing fingerprint DataFrame: df_lingo.csv\n",
      "Training svm on lingo...\n",
      "{'Fingerprint': 'lingo', 'Classifier': 'svm', 'CV_Train_Accuracy_Folds': [0.8867924528301887, 0.8860377358490567, 0.8871698113207547, 0.8879668049792531, 0.8819313466616371], 'CV_Train_Mean_Accuracy': 0.8859796303281782, 'CV_Train_Mean_F1': 0.889301265810238, 'CV_Train_Mean_Precision': 0.876984280009135, 'CV_Train_Mean_Recall': 0.902051293382016, 'CV_Train_Mean_ROC_AUC': 0.9550110156134096, 'CV_Val_Accuracy_Folds': [0.8582202111613876, 0.8567119155354449, 0.8506787330316742, 0.8564954682779456, 0.8670694864048338], 'CV_Val_Mean_Accuracy': 0.8578351628822573, 'CV_Val_Mean_F1': 0.8615707193673995, 'CV_Val_Mean_Precision': 0.8520131641249362, 'CV_Val_Mean_Recall': 0.8715893033771372, 'CV_Val_Mean_ROC_AUC': 0.9178945107185941, 'Test_Accuracy': 0.8661037394451147, 'Test_F1': 0.8673835125448028, 'Test_Precision': 0.8725961538461539, 'Test_Recall': 0.8622327790973872, 'Test_ROC_AUC': 0.8661654091565367}\n",
      "Training lr on lingo...\n",
      "{'Fingerprint': 'lingo', 'Classifier': 'lr', 'CV_Train_Accuracy_Folds': [0.8645283018867924, 0.8686792452830189, 0.8611320754716981, 0.8592983779705772, 0.8592983779705772], 'CV_Train_Mean_Accuracy': 0.8625872757165329, 'CV_Train_Mean_F1': 0.8664579187207803, 'CV_Train_Mean_Precision': 0.8551504282776381, 'CV_Train_Mean_Recall': 0.8781236984704783, 'CV_Train_Mean_ROC_AUC': 0.9315326624435221, 'CV_Val_Accuracy_Folds': [0.8205128205128205, 0.8280542986425339, 0.8220211161387632, 0.8353474320241692, 0.8429003021148036], 'CV_Val_Mean_Accuracy': 0.829767193886618, 'CV_Val_Mean_F1': 0.8339164670533631, 'CV_Val_Mean_Precision': 0.8261269358241636, 'CV_Val_Mean_Recall': 0.8418609580330647, 'CV_Val_Mean_ROC_AUC': 0.8959968711869586, 'Test_Accuracy': 0.8443908323281062, 'Test_F1': 0.8487690504103166, 'Test_Precision': 0.8379629629629629, 'Test_Recall': 0.8598574821852731, 'Test_ROC_AUC': 0.8441444273671463}\n",
      "Training rf on lingo...\n",
      "{'Fingerprint': 'lingo', 'Classifier': 'rf', 'CV_Train_Accuracy_Folds': [0.88, 0.8803773584905661, 0.8769811320754717, 0.8807996982270841, 0.8777819690682761], 'CV_Train_Mean_Accuracy': 0.8791880315722796, 'CV_Train_Mean_F1': 0.8811478608429306, 'CV_Train_Mean_Precision': 0.880197223129727, 'CV_Train_Mean_Recall': 0.8821355855432866, 'CV_Train_Mean_ROC_AUC': 0.9502338987092289, 'CV_Val_Accuracy_Folds': [0.8491704374057315, 0.861236802413273, 0.8461538461538461, 0.8564954682779456, 0.8625377643504532], 'CV_Val_Mean_Accuracy': 0.8551188637202498, 'CV_Val_Mean_F1': 0.8575144713751355, 'CV_Val_Mean_Precision': 0.8564222083834414, 'CV_Val_Mean_Recall': 0.8591016673731808, 'CV_Val_Mean_ROC_AUC': 0.916602814038567, 'Test_Accuracy': 0.8528347406513872, 'Test_F1': 0.8519417475728155, 'Test_Precision': 0.8709677419354839, 'Test_Recall': 0.833729216152019, 'Test_ROC_AUC': 0.853139117879931}\n",
      "Training xgb on lingo...\n",
      "{'Fingerprint': 'lingo', 'Classifier': 'xgb', 'CV_Train_Accuracy_Folds': [0.889811320754717, 0.8822641509433963, 0.8845283018867924, 0.8845718596755942, 0.8796680497925311], 'CV_Train_Mean_Accuracy': 0.8841687366106061, 'CV_Train_Mean_F1': 0.8863370286857274, 'CV_Train_Mean_Precision': 0.8831521038059519, 'CV_Train_Mean_Recall': 0.8895673260162287, 'CV_Train_Mean_ROC_AUC': 0.9508156101041644, 'CV_Val_Accuracy_Folds': [0.8521870286576169, 0.8657616892911011, 0.8431372549019608, 0.8459214501510574, 0.850453172205438], 'CV_Val_Mean_Accuracy': 0.8514921190414348, 'CV_Val_Mean_F1': 0.8546856333067568, 'CV_Val_Mean_Precision': 0.8494356240549786, 'CV_Val_Mean_Recall': 0.8602868447082098, 'CV_Val_Mean_ROC_AUC': 0.9149072244848938, 'Test_Accuracy': 0.8492159227985525, 'Test_F1': 0.8495788206979543, 'Test_Precision': 0.8609756097560975, 'Test_Recall': 0.838479809976247, 'Test_ROC_AUC': 0.8493869638116529}\n",
      "Processing fingerprint DataFrame: df_klekota-roth.csv\n",
      "Training svm on klekota-roth...\n",
      "{'Fingerprint': 'klekota-roth', 'Classifier': 'svm', 'CV_Train_Accuracy_Folds': [0.8935849056603774, 0.8935849056603774, 0.8890566037735849, 0.8955111278762731, 0.895888344021124], 'CV_Train_Mean_Accuracy': 0.8935251773983474, 'CV_Train_Mean_F1': 0.8953809242376097, 'CV_Train_Mean_Precision': 0.8932428545556406, 'CV_Train_Mean_Recall': 0.8975923153830433, 'CV_Train_Mean_ROC_AUC': 0.958308610037867, 'CV_Val_Accuracy_Folds': [0.8702865761689291, 0.8657616892911011, 0.8506787330316742, 0.8534743202416919, 0.877643504531722], 'CV_Val_Mean_Accuracy': 0.8635689646530237, 'CV_Val_Mean_F1': 0.8664403937499913, 'CV_Val_Mean_Precision': 0.8616315652069918, 'CV_Val_Mean_Recall': 0.8715946022325844, 'CV_Val_Mean_ROC_AUC': 0.9251513017534474, 'Test_Accuracy': 0.8636911942098915, 'Test_F1': 0.8640192539109507, 'Test_Precision': 0.875609756097561, 'Test_Recall': 0.8527315914489311, 'Test_ROC_AUC': 0.8638657957244655}\n",
      "Training lr on klekota-roth...\n",
      "{'Fingerprint': 'klekota-roth', 'Classifier': 'lr', 'CV_Train_Accuracy_Folds': [0.8743396226415094, 0.8796226415094339, 0.8743396226415094, 0.8758958883440211, 0.8740098076197661], 'CV_Train_Mean_Accuracy': 0.8756415165512479, 'CV_Train_Mean_F1': 0.8792632452904232, 'CV_Train_Mean_Precision': 0.8669605769820361, 'CV_Train_Mean_Recall': 0.891945734849782, 'CV_Train_Mean_ROC_AUC': 0.944195292885239, 'CV_Val_Accuracy_Folds': [0.8491704374057315, 0.8401206636500754, 0.8386123680241327, 0.8489425981873112, 0.8429003021148036], 'CV_Val_Mean_Accuracy': 0.8439492738764109, 'CV_Val_Mean_F1': 0.8482383994556644, 'CV_Val_Mean_Precision': 0.837765088592105, 'CV_Val_Mean_Recall': 0.8591016673731806, 'CV_Val_Mean_ROC_AUC': 0.9151958055745787, 'Test_Accuracy': 0.8528347406513872, 'Test_F1': 0.8564705882352941, 'Test_Precision': 0.8484848484848485, 'Test_Recall': 0.8646080760095012, 'Test_ROC_AUC': 0.8526471752596525}\n",
      "Training rf on klekota-roth...\n",
      "{'Fingerprint': 'klekota-roth', 'Classifier': 'rf', 'CV_Train_Accuracy_Folds': [0.8728301886792453, 0.8807547169811321, 0.8796226415094339, 0.8815541305167861, 0.8766503206337232], 'CV_Train_Mean_Accuracy': 0.8782823996640641, 'CV_Train_Mean_F1': 0.8802774464649392, 'CV_Train_Mean_Precision': 0.8792125113171565, 'CV_Train_Mean_Recall': 0.8813904339996796, 'CV_Train_Mean_ROC_AUC': 0.9514813508867338, 'CV_Val_Accuracy_Folds': [0.8657616892911011, 0.8552036199095022, 0.8416289592760181, 0.851963746223565, 0.8625377643504532], 'CV_Val_Mean_Accuracy': 0.8554191558101278, 'CV_Val_Mean_F1': 0.8578536777704018, 'CV_Val_Mean_Precision': 0.856998610238319, 'CV_Val_Mean_Recall': 0.8591122650840752, 'CV_Val_Mean_ROC_AUC': 0.9252627154308183, 'Test_Accuracy': 0.8468033775633294, 'Test_F1': 0.8456865127582017, 'Test_Precision': 0.8656716417910447, 'Test_Recall': 0.8266033254156769, 'Test_ROC_AUC': 0.8471251921196032}\n",
      "Training xgb on klekota-roth...\n",
      "{'Fingerprint': 'klekota-roth', 'Classifier': 'xgb', 'CV_Train_Accuracy_Folds': [0.8762264150943396, 0.8815094339622641, 0.8788679245283019, 0.8811769143719351, 0.8796680497925311], 'CV_Train_Mean_Accuracy': 0.8794897475498743, 'CV_Train_Mean_F1': 0.8822873009029774, 'CV_Train_Mean_Precision': 0.8751550066432051, 'CV_Train_Mean_Recall': 0.8895662212696852, 'CV_Train_Mean_ROC_AUC': 0.9504369273311605, 'CV_Val_Accuracy_Folds': [0.8582202111613876, 0.8687782805429864, 0.832579185520362, 0.8459214501510574, 0.8610271903323263], 'CV_Val_Mean_Accuracy': 0.8533052635416241, 'CV_Val_Mean_F1': 0.8574481676178843, 'CV_Val_Mean_Precision': 0.846669713635554, 'CV_Val_Mean_Recall': 0.8686078140454996, 'CV_Val_Mean_ROC_AUC': 0.9257421431321348, 'Test_Accuracy': 0.8455971049457177, 'Test_F1': 0.8450363196125908, 'Test_Precision': 0.8617283950617284, 'Test_Recall': 0.828978622327791, 'Test_ROC_AUC': 0.8458618601835033}\n",
      "Processing fingerprint DataFrame: df_shortestpath.csv\n",
      "Training svm on shortestpath...\n",
      "{'Fingerprint': 'shortestpath', 'Classifier': 'svm', 'CV_Train_Accuracy_Folds': [0.9116981132075471, 0.9128301886792453, 0.9090566037735849, 0.9079592606563561, 0.9079592606563561], 'CV_Train_Mean_Accuracy': 0.9099006853946179, 'CV_Train_Mean_F1': 0.9123163628885143, 'CV_Train_Mean_Precision': 0.9016342236929091, 'CV_Train_Mean_Recall': 0.9233072797273486, 'CV_Train_Mean_ROC_AUC': 0.9771515332697309, 'CV_Val_Accuracy_Folds': [0.8582202111613876, 0.8657616892911011, 0.861236802413273, 0.8595166163141994, 0.8564954682779456], 'CV_Val_Mean_Accuracy': 0.8602461574915814, 'CV_Val_Mean_F1': 0.8651109949783843, 'CV_Val_Mean_Precision': 0.8482542598349433, 'CV_Val_Mean_Recall': 0.8828846969054684, 'CV_Val_Mean_ROC_AUC': 0.9217105194383596, 'Test_Accuracy': 0.8661037394451147, 'Test_F1': 0.8670658682634731, 'Test_Precision': 0.8743961352657005, 'Test_Recall': 0.8598574821852731, 'Test_ROC_AUC': 0.8662032508965581}\n",
      "Training lr on shortestpath...\n",
      "{'Fingerprint': 'shortestpath', 'Classifier': 'lr', 'CV_Train_Accuracy_Folds': [0.869811320754717, 0.8705660377358491, 0.8709433962264151, 0.8675971331572991, 0.8672199170124482], 'CV_Train_Mean_Accuracy': 0.8692275609773457, 'CV_Train_Mean_F1': 0.8732340480482013, 'CV_Train_Mean_Precision': 0.8597179902487315, 'CV_Train_Mean_Recall': 0.8871881438600948, 'CV_Train_Mean_ROC_AUC': 0.9345770964207052, 'CV_Val_Accuracy_Folds': [0.8099547511312217, 0.8024132730015083, 0.8144796380090498, 0.8262839879154078, 0.8051359516616314], 'CV_Val_Mean_Accuracy': 0.8116535203437639, 'CV_Val_Mean_F1': 0.8192559877696535, 'CV_Val_Mean_Precision': 0.7990986484065611, 'CV_Val_Mean_Recall': 0.840677546983185, 'CV_Val_Mean_ROC_AUC': 0.8800571683567189, 'Test_Accuracy': 0.8130277442702051, 'Test_F1': 0.8152562574493445, 'Test_Precision': 0.8181818181818182, 'Test_Recall': 0.8123515439429929, 'Test_ROC_AUC': 0.8130385170695357}\n",
      "Training rf on shortestpath...\n",
      "{'Fingerprint': 'shortestpath', 'Classifier': 'rf', 'CV_Train_Accuracy_Folds': [0.9207547169811321, 0.9150943396226415, 0.9139622641509434, 0.9124858543945681, 0.9155035835533761], 'CV_Train_Mean_Accuracy': 0.9155601517405323, 'CV_Train_Mean_F1': 0.917214147670123, 'CV_Train_Mean_Precision': 0.9131052900090408, 'CV_Train_Mean_Recall': 0.9213743047001441, 'CV_Train_Mean_ROC_AUC': 0.9758307508885393, 'CV_Val_Accuracy_Folds': [0.8582202111613876, 0.8582202111613876, 0.8567119155354449, 0.8534743202416919, 0.8353474320241692], 'CV_Val_Mean_Accuracy': 0.8523948180248162, 'CV_Val_Mean_F1': 0.8576484853477513, 'CV_Val_Mean_Precision': 0.8405081910346974, 'CV_Val_Mean_Recall': 0.8757453723329094, 'CV_Val_Mean_ROC_AUC': 0.9208378713997517, 'Test_Accuracy': 0.8600723763570567, 'Test_F1': 0.8595641646489104, 'Test_Precision': 0.8765432098765432, 'Test_Recall': 0.8432304038004751, 'Test_ROC_AUC': 0.8603406920963159}\n",
      "Training xgb on shortestpath...\n",
      "{'Fingerprint': 'shortestpath', 'Classifier': 'xgb', 'CV_Train_Accuracy_Folds': [0.940377358490566, 0.94, 0.9384905660377358, 0.934364390795926, 0.9373821199547341], 'CV_Train_Mean_Accuracy': 0.9381228870557923, 'CV_Train_Mean_F1': 0.9398308703709981, 'CV_Train_Mean_Precision': 0.9281209512655533, 'CV_Train_Mean_Recall': 0.9518435457945061, 'CV_Train_Mean_ROC_AUC': 0.9862327804068638, 'CV_Val_Accuracy_Folds': [0.8627450980392157, 0.8567119155354449, 0.8597285067873304, 0.8640483383685801, 0.850453172205438], 'CV_Val_Mean_Accuracy': 0.858737406187202, 'CV_Val_Mean_F1': 0.8633107507667358, 'CV_Val_Mean_Precision': 0.8489076114680498, 'CV_Val_Mean_Recall': 0.8787339268051435, 'CV_Val_Mean_ROC_AUC': 0.9263595307069201, 'Test_Accuracy': 0.864897466827503, 'Test_F1': 0.8669833729216152, 'Test_Precision': 0.8669833729216152, 'Test_Recall': 0.8669833729216152, 'Test_ROC_AUC': 0.8648642354804155}\n",
      "Processing fingerprint DataFrame: df_cdk-substructure.csv\n",
      "Training svm on cdk-substructure...\n"
     ]
    },
    {
     "name": "stderr",
     "output_type": "stream",
     "text": [
      "UserWarning: k=300 is greater than n_features=148. All the features will be returned.\n",
      "UserWarning: k=300 is greater than n_features=151. All the features will be returned.\n",
      "UserWarning: k=300 is greater than n_features=154. All the features will be returned.\n",
      "UserWarning: k=300 is greater than n_features=151. All the features will be returned.\n",
      "UserWarning: k=300 is greater than n_features=151. All the features will be returned.\n",
      "UserWarning: k=300 is greater than n_features=155. All the features will be returned.\n"
     ]
    },
    {
     "name": "stdout",
     "output_type": "stream",
     "text": [
      "{'Fingerprint': 'cdk-substructure', 'Classifier': 'svm', 'CV_Train_Accuracy_Folds': [0.8716981132075472, 0.870188679245283, 0.8732075471698113, 0.8713692946058091, 0.8664654847227461], 'CV_Train_Mean_Accuracy': 0.8705858237902392, 'CV_Train_Mean_F1': 0.8747915378796233, 'CV_Train_Mean_Precision': 0.8597097414335592, 'CV_Train_Mean_Recall': 0.8904594088501245, 'CV_Train_Mean_ROC_AUC': 0.9331504681690153, 'CV_Val_Accuracy_Folds': [0.8552036199095022, 0.8461538461538461, 0.8491704374057315, 0.8549848942598187, 0.851963746223565], 'CV_Val_Mean_Accuracy': 0.8514953087904926, 'CV_Val_Mean_F1': 0.8568246554605597, 'CV_Val_Mean_Precision': 0.8393308622056219, 'CV_Val_Mean_Recall': 0.8751536668079695, 'CV_Val_Mean_ROC_AUC': 0.9119140420015974, 'Test_Accuracy': 0.8636911942098915, 'Test_F1': 0.8665879574970484, 'Test_Precision': 0.8615023474178404, 'Test_Recall': 0.8717339667458432, 'Test_ROC_AUC': 0.8635630618042941}\n",
      "Training lr on cdk-substructure...\n",
      "{'Fingerprint': 'cdk-substructure', 'Classifier': 'lr', 'CV_Train_Accuracy_Folds': [0.840754716981132, 0.8392452830188679, 0.8373584905660377, 0.8381742738589212, 0.8366654092795172], 'CV_Train_Mean_Accuracy': 0.8384396347408952, 'CV_Train_Mean_F1': 0.8439363797079125, 'CV_Train_Mean_Precision': 0.8280784393374733, 'CV_Train_Mean_Recall': 0.8604343863409136, 'CV_Train_Mean_ROC_AUC': 0.9045085696107081, 'CV_Val_Accuracy_Folds': [0.8340874811463047, 0.8159879336349924, 0.8174962292609351, 0.8323262839879154, 0.8262839879154078], 'CV_Val_Mean_Accuracy': 0.8252363831891112, 'CV_Val_Mean_F1': 0.8311783012780426, 'CV_Val_Mean_Precision': 0.8159000186623325, 'CV_Val_Mean_Recall': 0.8472145683199097, 'CV_Val_Mean_ROC_AUC': 0.8904766207888638, 'Test_Accuracy': 0.8311218335343787, 'Test_F1': 0.8349056603773585, 'Test_Precision': 0.8290398126463701, 'Test_Recall': 0.8408551068883611, 'Test_ROC_AUC': 0.8309667691304551}\n",
      "Training rf on cdk-substructure...\n"
     ]
    },
    {
     "name": "stderr",
     "output_type": "stream",
     "text": [
      "UserWarning: k=300 is greater than n_features=148. All the features will be returned.\n",
      "UserWarning: k=300 is greater than n_features=151. All the features will be returned.\n",
      "UserWarning: k=300 is greater than n_features=154. All the features will be returned.\n",
      "UserWarning: k=300 is greater than n_features=151. All the features will be returned.\n",
      "UserWarning: k=300 is greater than n_features=151. All the features will be returned.\n",
      "UserWarning: k=300 is greater than n_features=155. All the features will be returned.\n",
      "UserWarning: k=300 is greater than n_features=148. All the features will be returned.\n",
      "UserWarning: k=300 is greater than n_features=151. All the features will be returned.\n",
      "UserWarning: k=300 is greater than n_features=154. All the features will be returned.\n",
      "UserWarning: k=300 is greater than n_features=151. All the features will be returned.\n",
      "UserWarning: k=300 is greater than n_features=151. All the features will be returned.\n",
      "UserWarning: k=300 is greater than n_features=155. All the features will be returned.\n",
      "UserWarning: k=300 is greater than n_features=148. All the features will be returned.\n"
     ]
    },
    {
     "name": "stdout",
     "output_type": "stream",
     "text": [
      "{'Fingerprint': 'cdk-substructure', 'Classifier': 'rf', 'CV_Train_Accuracy_Folds': [0.8667924528301887, 0.8649056603773585, 0.8641509433962264, 0.8649566201433422, 0.8623161071293851], 'CV_Train_Mean_Accuracy': 0.8646243567753003, 'CV_Train_Mean_F1': 0.8669437845559745, 'CV_Train_Mean_Precision': 0.8652731891330193, 'CV_Train_Mean_Recall': 0.8687592039196407, 'CV_Train_Mean_ROC_AUC': 0.9313512308190788, 'CV_Val_Accuracy_Folds': [0.8491704374057315, 0.8597285067873304, 0.832579185520362, 0.8489425981873112, 0.8383685800604229], 'CV_Val_Mean_Accuracy': 0.8457578615922318, 'CV_Val_Mean_F1': 0.8485030478221995, 'CV_Val_Mean_Precision': 0.8465110845658337, 'CV_Val_Mean_Recall': 0.8507753991804436, 'CV_Val_Mean_ROC_AUC': 0.9110564771006905, 'Test_Accuracy': 0.8480096501809409, 'Test_F1': 0.8478260869565217, 'Test_Precision': 0.8624078624078624, 'Test_Recall': 0.833729216152019, 'Test_ROC_AUC': 0.8482371570956173}\n",
      "Training xgb on cdk-substructure...\n"
     ]
    },
    {
     "name": "stderr",
     "output_type": "stream",
     "text": [
      "UserWarning: k=300 is greater than n_features=151. All the features will be returned.\n",
      "UserWarning: k=300 is greater than n_features=154. All the features will be returned.\n",
      "UserWarning: k=300 is greater than n_features=151. All the features will be returned.\n",
      "UserWarning: k=300 is greater than n_features=151. All the features will be returned.\n",
      "UserWarning: k=300 is greater than n_features=155. All the features will be returned.\n"
     ]
    },
    {
     "name": "stdout",
     "output_type": "stream",
     "text": [
      "{'Fingerprint': 'cdk-substructure', 'Classifier': 'xgb', 'CV_Train_Accuracy_Folds': [0.8686792452830189, 0.8637735849056604, 0.8679245283018868, 0.8713692946058091, 0.8687287815918522], 'CV_Train_Mean_Accuracy': 0.8680950869376455, 'CV_Train_Mean_F1': 0.8712568645011588, 'CV_Train_Mean_Precision': 0.8635563372929091, 'CV_Train_Mean_Recall': 0.8791614973734652, 'CV_Train_Mean_ROC_AUC': 0.9379338718131571, 'CV_Val_Accuracy_Folds': [0.8506787330316742, 0.8401206636500754, 0.8355957767722474, 0.8459214501510574, 0.8429003021148036], 'CV_Val_Mean_Accuracy': 0.8430433851439716, 'CV_Val_Mean_F1': 0.8464330990219755, 'CV_Val_Mean_Precision': 0.841058734416172, 'CV_Val_Mean_Recall': 0.8519694079412181, 'CV_Val_Mean_ROC_AUC': 0.9117531610234471, 'Test_Accuracy': 0.8480096501809409, 'Test_F1': 0.8485576923076923, 'Test_Precision': 0.8588807785888077, 'Test_Recall': 0.838479809976247, 'Test_ROC_AUC': 0.8481614736155745}\n",
      "Processing fingerprint DataFrame: df_circular.csv\n",
      "Training svm on circular...\n",
      "{'Fingerprint': 'circular', 'Classifier': 'svm', 'CV_Train_Accuracy_Folds': [0.9109433962264151, 0.9143396226415095, 0.9116981132075471, 0.9064503960769521, 0.9090909090909091], 'CV_Train_Mean_Accuracy': 0.9105044874486665, 'CV_Train_Mean_F1': 0.9129608280725918, 'CV_Train_Mean_Precision': 0.9017368329270525, 'CV_Train_Mean_Recall': 0.9244955451095631, 'CV_Train_Mean_ROC_AUC': 0.9773524806182035, 'CV_Val_Accuracy_Folds': [0.8657616892911011, 0.8763197586726998, 0.8642533936651584, 0.8761329305135952, 0.8685800604229608], 'CV_Val_Mean_Accuracy': 0.8702095665131031, 'CV_Val_Mean_F1': 0.8734390141492074, 'CV_Val_Mean_Precision': 0.8649359485519168, 'CV_Val_Mean_Recall': 0.8822894588102305, 'CV_Val_Mean_ROC_AUC': 0.9344951569230675, 'Test_Accuracy': 0.8721351025331725, 'Test_F1': 0.8729016786570744, 'Test_Precision': 0.8813559322033898, 'Test_Recall': 0.8646080760095012, 'Test_ROC_AUC': 0.8722550183969074}\n",
      "Training lr on circular...\n",
      "{'Fingerprint': 'circular', 'Classifier': 'lr', 'CV_Train_Accuracy_Folds': [0.8943396226415095, 0.8969811320754717, 0.8920754716981132, 0.8913617502829121, 0.8928706148623161], 'CV_Train_Mean_Accuracy': 0.8935257183120646, 'CV_Train_Mean_F1': 0.8960596462795877, 'CV_Train_Mean_Precision': 0.8882737599517633, 'CV_Train_Mean_Recall': 0.9039840474599116, 'CV_Train_Mean_ROC_AUC': 0.9609365055761263, 'CV_Val_Accuracy_Folds': [0.8521870286576169, 0.8506787330316742, 0.8386123680241327, 0.8474320241691843, 0.8610271903323263], 'CV_Val_Mean_Accuracy': 0.8499874688429869, 'CV_Val_Mean_F1': 0.8534710548106933, 'CV_Val_Mean_Precision': 0.8464801702634686, 'CV_Val_Mean_Recall': 0.8608891479440441, 'CV_Val_Mean_ROC_AUC': 0.9221746637494255, 'Test_Accuracy': 0.8516284680337757, 'Test_F1': 0.850546780072904, 'Test_Precision': 0.8706467661691543, 'Test_Recall': 0.831353919239905, 'Test_ROC_AUC': 0.8519514694238741}\n",
      "Training rf on circular...\n",
      "{'Fingerprint': 'circular', 'Classifier': 'rf', 'CV_Train_Accuracy_Folds': [0.8916981132075472, 0.8954716981132076, 0.8890566037735849, 0.8898528857035081, 0.8887212372689551], 'CV_Train_Mean_Accuracy': 0.8909601076133606, 'CV_Train_Mean_F1': 0.893412905583703, 'CV_Train_Mean_Precision': 0.8868129871548511, 'CV_Train_Mean_Recall': 0.9001200859492811, 'CV_Train_Mean_ROC_AUC': 0.9608284165532563, 'CV_Val_Accuracy_Folds': [0.8597285067873304, 0.8642533936651584, 0.8567119155354449, 0.8625377643504532, 0.8731117824773413], 'CV_Val_Mean_Accuracy': 0.8632686725631457, 'CV_Val_Mean_F1': 0.8657376013638235, 'CV_Val_Mean_Precision': 0.8633237104440441, 'CV_Val_Mean_Recall': 0.8686219443266922, 'CV_Val_Mean_ROC_AUC': 0.92796463922946, 'Test_Accuracy': 0.8745476477683957, 'Test_F1': 0.8752997601918465, 'Test_Precision': 0.8837772397094431, 'Test_Recall': 0.8669833729216152, 'Test_ROC_AUC': 0.8746681570490429}\n",
      "Training xgb on circular...\n",
      "{'Fingerprint': 'circular', 'Classifier': 'xgb', 'CV_Train_Accuracy_Folds': [0.8920754716981132, 0.8924528301886793, 0.8958490566037736, 0.8932478310071671, 0.8924933987174651], 'CV_Train_Mean_Accuracy': 0.8932237176430396, 'CV_Train_Mean_F1': 0.8955655939288905, 'CV_Train_Mean_Precision': 0.8894700507971425, 'CV_Train_Mean_Recall': 0.9017538956124991, 'CV_Train_Mean_ROC_AUC': 0.9601923617276645, 'CV_Val_Accuracy_Folds': [0.8582202111613876, 0.8536953242835595, 0.8386123680241327, 0.8670694864048338, 0.8610271903323263], 'CV_Val_Mean_Accuracy': 0.8557249160412479, 'CV_Val_Mean_F1': 0.8587218211669662, 'CV_Val_Mean_Precision': 0.8545032632722626, 'CV_Val_Mean_Recall': 0.8632665677546983, 'CV_Val_Mean_ROC_AUC': 0.924866576370363, 'Test_Accuracy': 0.8612786489746683, 'Test_F1': 0.8622754491017964, 'Test_Precision': 0.8695652173913043, 'Test_Recall': 0.8551068883610451, 'Test_ROC_AUC': 0.8613769735922874}\n",
      "Processing fingerprint DataFrame: df_cdk-atompairs.csv\n",
      "Training svm on cdk-atompairs...\n",
      "{'Fingerprint': 'cdk-atompairs', 'Classifier': 'svm', 'CV_Train_Accuracy_Folds': [0.8694339622641509, 0.8724528301886793, 0.869056603773585, 0.8694832138815541, 0.8664654847227461], 'CV_Train_Mean_Accuracy': 0.8693784189661431, 'CV_Train_Mean_F1': 0.8703783980764991, 'CV_Train_Mean_Precision': 0.8770369377163039, 'CV_Train_Mean_Recall': 0.863854129266393, 'CV_Train_Mean_ROC_AUC': 0.9322990513751798, 'CV_Val_Accuracy_Folds': [0.8461538461538461, 0.8431372549019608, 0.8190045248868778, 0.8489425981873112, 0.850453172205438], 'CV_Val_Mean_Accuracy': 0.8415382792670869, 'CV_Val_Mean_F1': 0.8430270588211931, 'CV_Val_Mean_Precision': 0.8479367898683291, 'CV_Val_Mean_Recall': 0.8382895294616363, 'CV_Val_Mean_ROC_AUC': 0.8993530187402163, 'Test_Accuracy': 0.856453558504222, 'Test_F1': 0.8588374851720048, 'Test_Precision': 0.8578199052132701, 'Test_Recall': 0.8598574821852731, 'Test_ROC_AUC': 0.8563993293279306}\n",
      "Training lr on cdk-atompairs...\n",
      "{'Fingerprint': 'cdk-atompairs', 'Classifier': 'lr', 'CV_Train_Accuracy_Folds': [0.8535849056603774, 0.8452830188679246, 0.8524528301886792, 0.8502451904941531, 0.8430780837419841], 'CV_Train_Mean_Accuracy': 0.8489288057906237, 'CV_Train_Mean_F1': 0.851419187880885, 'CV_Train_Mean_Precision': 0.8502876781795508, 'CV_Train_Mean_Recall': 0.8525562177897335, 'CV_Train_Mean_ROC_AUC': 0.9170666460513919, 'CV_Val_Accuracy_Folds': [0.8295625942684767, 0.8174962292609351, 0.8024132730015083, 0.8187311178247734, 0.8338368580060423], 'CV_Val_Mean_Accuracy': 0.8204080144723471, 'CV_Val_Mean_F1': 0.8233010288052242, 'CV_Val_Mean_Precision': 0.8226291983775808, 'CV_Val_Mean_Recall': 0.8240214780274128, 'CV_Val_Mean_ROC_AUC': 0.8805915008385343, 'Test_Accuracy': 0.827503015681544, 'Test_F1': 0.8323563892145369, 'Test_Precision': 0.8217592592592593, 'Test_Recall': 0.8432304038004751, 'Test_ROC_AUC': 0.8272524568021983}\n",
      "Training rf on cdk-atompairs...\n",
      "{'Fingerprint': 'cdk-atompairs', 'Classifier': 'rf', 'CV_Train_Accuracy_Folds': [0.8667924528301887, 0.879245283018868, 0.8686792452830189, 0.8717465107506601, 0.8657110524330441], 'CV_Train_Mean_Accuracy': 0.870434908863156, 'CV_Train_Mean_F1': 0.8710071947672311, 'CV_Train_Mean_Precision': 0.8806217764693356, 'CV_Train_Mean_Recall': 0.8616239774189806, 'CV_Train_Mean_ROC_AUC': 0.9413156376960814, 'CV_Val_Accuracy_Folds': [0.8536953242835595, 0.8295625942684767, 0.8220211161387632, 0.8323262839879154, 0.8474320241691843], 'CV_Val_Mean_Accuracy': 0.8370074685695797, 'CV_Val_Mean_F1': 0.8383159562137482, 'CV_Val_Mean_Precision': 0.845237129077226, 'CV_Val_Mean_Recall': 0.8317472092694645, 'CV_Val_Mean_ROC_AUC': 0.9039666961041559, 'Test_Accuracy': 0.8455971049457177, 'Test_F1': 0.8479809976247031, 'Test_Precision': 0.8479809976247031, 'Test_Recall': 0.8479809976247031, 'Test_ROC_AUC': 0.845559126263332}\n",
      "Training xgb on cdk-atompairs...\n",
      "{'Fingerprint': 'cdk-atompairs', 'Classifier': 'xgb', 'CV_Train_Accuracy_Folds': [0.889433962264151, 0.8890566037735849, 0.8845283018867924, 0.8845718596755942, 0.8841946435307431], 'CV_Train_Mean_Accuracy': 0.886357074226173, 'CV_Train_Mean_F1': 0.888174063707724, 'CV_Train_Mean_Precision': 0.8874201664858774, 'CV_Train_Mean_Recall': 0.888972751426504, 'CV_Train_Mean_ROC_AUC': 0.9514769066364905, 'CV_Val_Accuracy_Folds': [0.8461538461538461, 0.8265460030165912, 0.8235294117647058, 0.8444108761329305, 0.8429003021148036], 'CV_Val_Mean_Accuracy': 0.8367080878365755, 'CV_Val_Mean_F1': 0.8404445907149309, 'CV_Val_Mean_Precision': 0.8347760051361401, 'CV_Val_Mean_Recall': 0.8466246290801187, 'CV_Val_Mean_ROC_AUC': 0.9101314983536397, 'Test_Accuracy': 0.8685162846803377, 'Test_F1': 0.8716136631330977, 'Test_Precision': 0.8644859813084113, 'Test_Recall': 0.8788598574821853, 'Test_ROC_AUC': 0.8683514973685437}\n",
      "Processing fingerprint DataFrame: df_rdkit.csv\n",
      "Training svm on rdkit...\n",
      "{'Fingerprint': 'rdkit', 'Classifier': 'svm', 'CV_Train_Accuracy_Folds': [0.9086792452830189, 0.9079245283018867, 0.9086792452830189, 0.9034326669181441, 0.9098453413806111], 'CV_Train_Mean_Accuracy': 0.9077122054333359, 'CV_Train_Mean_F1': 0.9102824675635974, 'CV_Train_Mean_Precision': 0.8987681477700337, 'CV_Train_Mean_Recall': 0.9221170258013556, 'CV_Train_Mean_ROC_AUC': 0.9702720517566406, 'CV_Val_Accuracy_Folds': [0.8763197586726998, 0.8778280542986425, 0.8672699849170438, 0.8625377643504532, 0.877643504531722], 'CV_Val_Mean_Accuracy': 0.8723198133541124, 'CV_Val_Mean_F1': 0.8759268234371707, 'CV_Val_Mean_Precision': 0.8650727312992068, 'CV_Val_Mean_Recall': 0.8876519005228204, 'CV_Val_Mean_ROC_AUC': 0.929310335460977, 'Test_Accuracy': 0.8636911942098915, 'Test_F1': 0.8640192539109507, 'Test_Precision': 0.875609756097561, 'Test_Recall': 0.8527315914489311, 'Test_ROC_AUC': 0.8638657957244655}\n",
      "Training lr on rdkit...\n",
      "{'Fingerprint': 'rdkit', 'Classifier': 'lr', 'CV_Train_Accuracy_Folds': [0.8913207547169811, 0.8950943396226415, 0.8867924528301887, 0.8902301018483592, 0.8872123726895511], 'CV_Train_Mean_Accuracy': 0.8901300043415443, 'CV_Train_Mean_F1': 0.8928730577134629, 'CV_Train_Mean_Precision': 0.8840439608443316, 'CV_Train_Mean_Recall': 0.9019034782944922, 'CV_Train_Mean_ROC_AUC': 0.9557327198313113, 'CV_Val_Accuracy_Folds': [0.8431372549019608, 0.8371040723981901, 0.8190045248868778, 0.8293051359516617, 0.8383685800604229], 'CV_Val_Mean_Accuracy': 0.8333839136398227, 'CV_Val_Mean_F1': 0.8387441626962587, 'CV_Val_Mean_Precision': 0.8247672126378207, 'CV_Val_Mean_Recall': 0.8537427582308886, 'CV_Val_Mean_ROC_AUC': 0.9069726300488175, 'Test_Accuracy': 0.8528347406513872, 'Test_F1': 0.8571428571428571, 'Test_Precision': 0.8452655889145496, 'Test_Recall': 0.8693586698337292, 'Test_ROC_AUC': 0.8525714917796098}\n",
      "Training rf on rdkit...\n",
      "{'Fingerprint': 'rdkit', 'Classifier': 'rf', 'CV_Train_Accuracy_Folds': [0.9128301886792453, 0.9120754716981132, 0.9083018867924528, 0.907582044511505, 0.9117314221048661], 'CV_Train_Mean_Accuracy': 0.9105042027572365, 'CV_Train_Mean_F1': 0.9124712891929916, 'CV_Train_Mean_Precision': 0.9061935276007198, 'CV_Train_Mean_Recall': 0.9188474179311411, 'CV_Train_Mean_ROC_AUC': 0.9714786937051596, 'CV_Val_Accuracy_Folds': [0.8748114630467572, 0.8808446455505279, 0.8672699849170438, 0.8625377643504532, 0.8549848942598187], 'CV_Val_Mean_Accuracy': 0.8680897504249202, 'CV_Val_Mean_F1': 0.8706671422521511, 'CV_Val_Mean_Precision': 0.8672083968890038, 'CV_Val_Mean_Recall': 0.8745548961424333, 'CV_Val_Mean_ROC_AUC': 0.9301936075717079, 'Test_Accuracy': 0.8697225572979493, 'Test_F1': 0.8698795180722891, 'Test_Precision': 0.882640586797066, 'Test_Recall': 0.8574821852731591, 'Test_ROC_AUC': 0.8699175632248148}\n",
      "Training xgb on rdkit...\n",
      "{'Fingerprint': 'rdkit', 'Classifier': 'xgb', 'CV_Train_Accuracy_Folds': [0.9366037735849057, 0.9343396226415094, 0.9320754716981132, 0.9298377970577141, 0.9358732553753301], 'CV_Train_Mean_Accuracy': 0.9337459840715144, 'CV_Train_Mean_F1': 0.9354919137504808, 'CV_Train_Mean_Precision': 0.924909149707126, 'CV_Train_Mean_Recall': 0.9463446698741143, 'CV_Train_Mean_ROC_AUC': 0.9826256941076433, 'CV_Val_Accuracy_Folds': [0.8642533936651584, 0.8808446455505279, 0.8687782805429864, 0.8625377643504532, 0.8610271903323263], 'CV_Val_Mean_Accuracy': 0.8674882548882905, 'CV_Val_Mean_F1': 0.8706598400056759, 'CV_Val_Mean_Precision': 0.8628953326597708, 'CV_Val_Mean_Recall': 0.8787127313833546, 'CV_Val_Mean_ROC_AUC': 0.9363099931421175, 'Test_Accuracy': 0.8781664656212304, 'Test_F1': 0.8787515006002401, 'Test_Precision': 0.8883495145631068, 'Test_Recall': 0.8693586698337292, 'Test_ROC_AUC': 0.8783067858972567}\n",
      "Processing fingerprint DataFrame: df_morgan.csv\n",
      "Training svm on morgan...\n",
      "{'Fingerprint': 'morgan', 'Classifier': 'svm', 'CV_Train_Accuracy_Folds': [0.8981132075471698, 0.899245283018868, 0.8950943396226415, 0.8951339117314221, 0.899660505469634], 'CV_Train_Mean_Accuracy': 0.897449449477947, 'CV_Train_Mean_F1': 0.9002711578776494, 'CV_Train_Mean_Precision': 0.8891209336081222, 'CV_Train_Mean_Recall': 0.9117131857023703, 'CV_Train_Mean_ROC_AUC': 0.9696917149685529, 'CV_Val_Accuracy_Folds': [0.8567119155354449, 0.8778280542986425, 0.8552036199095022, 0.8716012084592145, 0.8670694864048338], 'CV_Val_Mean_Accuracy': 0.8656828569215277, 'CV_Val_Mean_F1': 0.8694791772525022, 'CV_Val_Mean_Precision': 0.8578678107562592, 'CV_Val_Mean_Recall': 0.8816959870001412, 'CV_Val_Mean_ROC_AUC': 0.9304146891868212, 'Test_Accuracy': 0.8829915560916767, 'Test_F1': 0.8846611177170036, 'Test_Precision': 0.8857142857142857, 'Test_Recall': 0.8836104513064132, 'Test_ROC_AUC': 0.8829816962414418}\n",
      "Training lr on morgan...\n",
      "{'Fingerprint': 'morgan', 'Classifier': 'lr', 'CV_Train_Accuracy_Folds': [0.8947169811320754, 0.8966037735849056, 0.8973584905660378, 0.8860807242549981, 0.8872123726895511], 'CV_Train_Mean_Accuracy': 0.8923944684455136, 'CV_Train_Mean_F1': 0.8955645030814459, 'CV_Train_Mean_Precision': 0.882782836275983, 'CV_Train_Mean_Recall': 0.9087409756016726, 'CV_Train_Mean_ROC_AUC': 0.9573684787497312, 'CV_Val_Accuracy_Folds': [0.8416289592760181, 0.8597285067873304, 0.8355957767722474, 0.8595166163141994, 0.8580060422960725], 'CV_Val_Mean_Accuracy': 0.8508951802891737, 'CV_Val_Mean_F1': 0.8555957754022243, 'CV_Val_Mean_Precision': 0.8411357277607756, 'CV_Val_Mean_Recall': 0.8709870001413027, 'CV_Val_Mean_ROC_AUC': 0.9204135811072481, 'Test_Accuracy': 0.8661037394451147, 'Test_F1': 0.8683274021352313, 'Test_Precision': 0.8672985781990521, 'Test_Recall': 0.8693586698337292, 'Test_ROC_AUC': 0.8660518839364725}\n",
      "Training rf on morgan...\n",
      "{'Fingerprint': 'morgan', 'Classifier': 'rf', 'CV_Train_Accuracy_Folds': [0.8833962264150943, 0.8841509433962265, 0.8852830188679245, 0.8868351565447001, 0.8853262919652961], 'CV_Train_Mean_Accuracy': 0.8849983274378485, 'CV_Train_Mean_F1': 0.887578315201476, 'CV_Train_Mean_Precision': 0.8811166498898395, 'CV_Train_Mean_Recall': 0.8941738981534162, 'CV_Train_Mean_ROC_AUC': 0.9545011789923057, 'CV_Val_Accuracy_Folds': [0.8536953242835595, 0.8687782805429864, 0.8552036199095022, 0.8716012084592145, 0.8716012084592145], 'CV_Val_Mean_Accuracy': 0.8641759283308955, 'CV_Val_Mean_F1': 0.8666715290024178, 'CV_Val_Mean_Precision': 0.8638877187180661, 'CV_Val_Mean_Recall': 0.8698124205171684, 'CV_Val_Mean_ROC_AUC': 0.9266403609906819, 'Test_Accuracy': 0.8721351025331725, 'Test_F1': 0.8725961538461539, 'Test_Precision': 0.8832116788321168, 'Test_Recall': 0.8622327790973872, 'Test_ROC_AUC': 0.8722928601369289}\n",
      "Training xgb on morgan...\n",
      "{'Fingerprint': 'morgan', 'Classifier': 'xgb', 'CV_Train_Accuracy_Folds': [0.8852830188679245, 0.889811320754717, 0.8886792452830189, 0.8841946435307431, 0.8894756695586571], 'CV_Train_Mean_Accuracy': 0.8874887795990121, 'CV_Train_Mean_F1': 0.8906042723062919, 'CV_Train_Mean_Precision': 0.8794817383217607, 'CV_Train_Mean_Recall': 0.9020523981285594, 'CV_Train_Mean_ROC_AUC': 0.954446406763671, 'CV_Val_Accuracy_Folds': [0.8521870286576169, 0.8582202111613876, 0.8536953242835595, 0.8700906344410876, 0.8595166163141994], 'CV_Val_Mean_Accuracy': 0.85874196297157, 'CV_Val_Mean_F1': 0.8627926795316055, 'CV_Val_Mean_Precision': 0.8511195632874745, 'CV_Val_Mean_Recall': 0.875166030804013, 'CV_Val_Mean_ROC_AUC': 0.925255689616668, 'Test_Accuracy': 0.8624849215922799, 'Test_F1': 0.863961813842482, 'Test_Precision': 0.86810551558753, 'Test_Recall': 0.8598574821852731, 'Test_ROC_AUC': 0.8625267803083229}\n",
      "Processing fingerprint DataFrame: df_rdk-maccs.csv\n",
      "Training svm on rdk-maccs...\n"
     ]
    },
    {
     "name": "stderr",
     "output_type": "stream",
     "text": [
      "UserWarning: k=300 is greater than n_features=155. All the features will be returned.\n",
      "UserWarning: k=300 is greater than n_features=156. All the features will be returned.\n",
      "UserWarning: k=300 is greater than n_features=155. All the features will be returned.\n",
      "UserWarning: k=300 is greater than n_features=154. All the features will be returned.\n",
      "UserWarning: k=300 is greater than n_features=156. All the features will be returned.\n",
      "UserWarning: k=300 is greater than n_features=156. All the features will be returned.\n"
     ]
    },
    {
     "name": "stdout",
     "output_type": "stream",
     "text": [
      "{'Fingerprint': 'rdk-maccs', 'Classifier': 'svm', 'CV_Train_Accuracy_Folds': [0.8864150943396226, 0.8849056603773585, 0.8837735849056604, 0.8849490758204451, 0.8857035081101471], 'CV_Train_Mean_Accuracy': 0.8851493847106469, 'CV_Train_Mean_F1': 0.8903606023445473, 'CV_Train_Mean_Precision': 0.8638599606536583, 'CV_Train_Mean_Recall': 0.9185497992123157, 'CV_Train_Mean_ROC_AUC': 0.9534905543539838, 'CV_Val_Accuracy_Folds': [0.8778280542986425, 0.861236802413273, 0.8597285067873304, 0.8610271903323263, 0.8625377643504532], 'CV_Val_Mean_Accuracy': 0.864471663636405, 'CV_Val_Mean_F1': 0.8707655938715158, 'CV_Val_Mean_Precision': 0.8445306135125437, 'CV_Val_Mean_Recall': 0.8989349300551082, 'CV_Val_Mean_ROC_AUC': 0.9242998260726246, 'Test_Accuracy': 0.8697225572979493, 'Test_F1': 0.8752886836027713, 'Test_Precision': 0.851685393258427, 'Test_Recall': 0.9002375296912114, 'Test_ROC_AUC': 0.8692364119044294}\n",
      "Training lr on rdk-maccs...\n"
     ]
    },
    {
     "name": "stderr",
     "output_type": "stream",
     "text": [
      "UserWarning: k=300 is greater than n_features=155. All the features will be returned.\n",
      "UserWarning: k=300 is greater than n_features=156. All the features will be returned.\n",
      "UserWarning: k=300 is greater than n_features=155. All the features will be returned.\n",
      "UserWarning: k=300 is greater than n_features=154. All the features will be returned.\n",
      "UserWarning: k=300 is greater than n_features=156. All the features will be returned.\n",
      "UserWarning: k=300 is greater than n_features=156. All the features will be returned.\n",
      "UserWarning: k=300 is greater than n_features=155. All the features will be returned.\n"
     ]
    },
    {
     "name": "stdout",
     "output_type": "stream",
     "text": [
      "{'Fingerprint': 'rdk-maccs', 'Classifier': 'lr', 'CV_Train_Accuracy_Folds': [0.8516981132075472, 0.8550943396226415, 0.849811320754717, 0.8517540550735572, 0.8487363259147491], 'CV_Train_Mean_Accuracy': 0.8514188309146423, 'CV_Train_Mean_F1': 0.8563500189055123, 'CV_Train_Mean_Precision': 0.8409555344737694, 'CV_Train_Mean_Recall': 0.8723255467114457, 'CV_Train_Mean_ROC_AUC': 0.9218926584006322, 'CV_Val_Accuracy_Folds': [0.8431372549019608, 0.8446455505279035, 0.8340874811463047, 0.8293051359516617, 0.8368580060422961], 'CV_Val_Mean_Accuracy': 0.8376066857140254, 'CV_Val_Mean_F1': 0.8423204546965535, 'CV_Val_Mean_Precision': 0.8306517811553104, 'CV_Val_Mean_Recall': 0.854931468136216, 'CV_Val_Mean_ROC_AUC': 0.9003535530510008, 'Test_Accuracy': 0.827503015681544, 'Test_F1': 0.8315665488810365, 'Test_Precision': 0.8247663551401869, 'Test_Recall': 0.838479809976247, 'Test_ROC_AUC': 0.8273281402822411}\n",
      "Training rf on rdk-maccs...\n"
     ]
    },
    {
     "name": "stderr",
     "output_type": "stream",
     "text": [
      "UserWarning: k=300 is greater than n_features=156. All the features will be returned.\n",
      "UserWarning: k=300 is greater than n_features=155. All the features will be returned.\n",
      "UserWarning: k=300 is greater than n_features=154. All the features will be returned.\n",
      "UserWarning: k=300 is greater than n_features=156. All the features will be returned.\n",
      "UserWarning: k=300 is greater than n_features=156. All the features will be returned.\n",
      "UserWarning: k=300 is greater than n_features=155. All the features will be returned.\n"
     ]
    },
    {
     "name": "stdout",
     "output_type": "stream",
     "text": [
      "{'Fingerprint': 'rdk-maccs', 'Classifier': 'rf', 'CV_Train_Accuracy_Folds': [0.8924528301886793, 0.8932075471698113, 0.8879245283018868, 0.8932478310071671, 0.8875895888344021], 'CV_Train_Mean_Accuracy': 0.8908844651003894, 'CV_Train_Mean_F1': 0.8946689143192627, 'CV_Train_Mean_Precision': 0.8773054601065515, 'CV_Train_Mean_Recall': 0.9127534150477526, 'CV_Train_Mean_ROC_AUC': 0.9627542566168603, 'CV_Val_Accuracy_Folds': [0.8717948717948718, 0.8521870286576169, 0.8567119155354449, 0.8549848942598187, 0.8625377643504532], 'CV_Val_Mean_Accuracy': 0.8596432949196411, 'CV_Val_Mean_F1': 0.864318590701663, 'CV_Val_Mean_Precision': 0.8490853384082249, 'CV_Val_Mean_Recall': 0.8805055108096651, 'CV_Val_Mean_ROC_AUC': 0.9290174759157521, 'Test_Accuracy': 0.8685162846803377, 'Test_F1': 0.8716136631330977, 'Test_Precision': 0.8644859813084113, 'Test_Recall': 0.8788598574821853, 'Test_ROC_AUC': 0.8683514973685437}\n",
      "Training xgb on rdk-maccs...\n"
     ]
    },
    {
     "name": "stderr",
     "output_type": "stream",
     "text": [
      "UserWarning: k=300 is greater than n_features=156. All the features will be returned.\n",
      "UserWarning: k=300 is greater than n_features=155. All the features will be returned.\n",
      "UserWarning: k=300 is greater than n_features=154. All the features will be returned.\n",
      "UserWarning: k=300 is greater than n_features=156. All the features will be returned.\n",
      "UserWarning: k=300 is greater than n_features=156. All the features will be returned.\n"
     ]
    },
    {
     "name": "stdout",
     "output_type": "stream",
     "text": [
      "{'Fingerprint': 'rdk-maccs', 'Classifier': 'xgb', 'CV_Train_Accuracy_Folds': [0.8954716981132076, 0.8977358490566038, 0.8962264150943396, 0.8989060731799321, 0.9004149377593361], 'CV_Train_Mean_Accuracy': 0.8977509946406839, 'CV_Train_Mean_F1': 0.9009071466198695, 'CV_Train_Mean_Precision': 0.8867301556667864, 'CV_Train_Mean_Recall': 0.9155763738904202, 'CV_Train_Mean_ROC_AUC': 0.9657812314698792, 'CV_Val_Accuracy_Folds': [0.8642533936651584, 0.8642533936651584, 0.8582202111613876, 0.8625377643504532, 0.8625377643504532], 'CV_Val_Mean_Accuracy': 0.8623605054385222, 'CV_Val_Mean_F1': 0.866020513323531, 'CV_Val_Mean_Precision': 0.8564042304886147, 'CV_Val_Mean_Recall': 0.8763529744241911, 'CV_Val_Mean_ROC_AUC': 0.9315583068439937, 'Test_Accuracy': 0.864897466827503, 'Test_F1': 0.8679245283018868, 'Test_Precision': 0.8618266978922716, 'Test_Recall': 0.8741092636579573, 'Test_ROC_AUC': 0.8647507102603511}\n",
      "Processing fingerprint DataFrame: df_topological-torsion.csv\n",
      "Training svm on topological-torsion...\n",
      "{'Fingerprint': 'topological-torsion', 'Classifier': 'svm', 'CV_Train_Accuracy_Folds': [0.8879245283018868, 0.8886792452830189, 0.889433962264151, 0.8860807242549981, 0.8826857789513392], 'CV_Train_Mean_Accuracy': 0.8869608478110788, 'CV_Train_Mean_F1': 0.8907387211898634, 'CV_Train_Mean_Precision': 0.8745810172618697, 'CV_Train_Mean_Recall': 0.9075518264222231, 'CV_Train_Mean_ROC_AUC': 0.9582079340385155, 'CV_Val_Accuracy_Folds': [0.8687782805429864, 0.8717948717948718, 0.8582202111613876, 0.8670694864048338, 0.8685800604229608], 'CV_Val_Mean_Accuracy': 0.8668885820654081, 'CV_Val_Mean_F1': 0.8719105320353148, 'CV_Val_Mean_Precision': 0.852632471419159, 'CV_Val_Mean_Recall': 0.8923926098629362, 'CV_Val_Mean_ROC_AUC': 0.9264603502274402, 'Test_Accuracy': 0.8636911942098915, 'Test_F1': 0.8675263774912075, 'Test_Precision': 0.8564814814814815, 'Test_Recall': 0.8788598574821853, 'Test_ROC_AUC': 0.8634495365842298}\n",
      "Training lr on topological-torsion...\n",
      "{'Fingerprint': 'topological-torsion', 'Classifier': 'lr', 'CV_Train_Accuracy_Folds': [0.8818867924528302, 0.8822641509433963, 0.8818867924528302, 0.8826857789513392, 0.8766503206337232], 'CV_Train_Mean_Accuracy': 0.8810747670868236, 'CV_Train_Mean_F1': 0.8842928353322232, 'CV_Train_Mean_Precision': 0.8738149326808852, 'CV_Train_Mean_Recall': 0.8950645448168053, 'CV_Train_Mean_ROC_AUC': 0.9522142561851645, 'CV_Val_Accuracy_Folds': [0.8310708898944194, 0.8310708898944194, 0.8144796380090498, 0.8459214501510574, 0.8534743202416919], 'CV_Val_Mean_Accuracy': 0.8352034376381277, 'CV_Val_Mean_F1': 0.8395793623717764, 'CV_Val_Mean_Precision': 0.8304979635757382, 'CV_Val_Mean_Recall': 0.8489967500353257, 'CV_Val_Mean_ROC_AUC': 0.9159911702705855, 'Test_Accuracy': 0.8588661037394452, 'Test_F1': 0.859880239520958, 'Test_Precision': 0.8671497584541062, 'Test_Recall': 0.8527315914489311, 'Test_ROC_AUC': 0.8589638349401518}\n",
      "Training rf on topological-torsion...\n",
      "{'Fingerprint': 'topological-torsion', 'Classifier': 'rf', 'CV_Train_Accuracy_Folds': [0.8864150943396226, 0.8864150943396226, 0.8871698113207547, 0.8883440211241042, 0.8853262919652961], 'CV_Train_Mean_Accuracy': 0.8867340626178801, 'CV_Train_Mean_F1': 0.8898845024503472, 'CV_Train_Mean_Precision': 0.8786268104539448, 'CV_Train_Mean_Recall': 0.9014567187922911, 'CV_Train_Mean_ROC_AUC': 0.9560100418524826, 'CV_Val_Accuracy_Folds': [0.8702865761689291, 0.8793363499245852, 0.8597285067873304, 0.8670694864048338, 0.8731117824773413], 'CV_Val_Mean_Accuracy': 0.8699065403526041, 'CV_Val_Mean_F1': 0.8732788474955789, 'CV_Val_Mean_Precision': 0.8641792397782794, 'CV_Val_Mean_Recall': 0.8828829306203193, 'CV_Val_Mean_ROC_AUC': 0.9298381106907788, 'Test_Accuracy': 0.8709288299155609, 'Test_F1': 0.8721624850657109, 'Test_Precision': 0.8774038461538461, 'Test_Recall': 0.8669833729216152, 'Test_ROC_AUC': 0.8709916864608076}\n",
      "Training xgb on topological-torsion...\n",
      "{'Fingerprint': 'topological-torsion', 'Classifier': 'xgb', 'CV_Train_Accuracy_Folds': [0.8905660377358491, 0.8890566037735849, 0.8871698113207547, 0.8894756695586571, 0.8887212372689551], 'CV_Train_Mean_Accuracy': 0.8889978719315602, 'CV_Train_Mean_F1': 0.8914378779741814, 'CV_Train_Mean_Precision': 0.885283306292342, 'CV_Train_Mean_Recall': 0.8977420085396908, 'CV_Train_Mean_ROC_AUC': 0.9550864113057587, 'CV_Val_Accuracy_Folds': [0.8687782805429864, 0.8552036199095022, 0.8642533936651584, 0.8625377643504532, 0.8670694864048338], 'CV_Val_Mean_Accuracy': 0.8635685089745868, 'CV_Val_Mean_F1': 0.8658038239437932, 'CV_Val_Mean_Precision': 0.8649746193080518, 'CV_Val_Mean_Recall': 0.8668344637558286, 'CV_Val_Mean_ROC_AUC': 0.9280291317925344, 'Test_Accuracy': 0.8745476477683957, 'Test_F1': 0.8758949880668258, 'Test_Precision': 0.8800959232613909, 'Test_Recall': 0.8717339667458432, 'Test_ROC_AUC': 0.874592473569}\n",
      "Processing fingerprint DataFrame: df_avalon.csv\n",
      "Training svm on avalon...\n",
      "{'Fingerprint': 'avalon', 'Classifier': 'svm', 'CV_Train_Accuracy_Folds': [0.8916981132075472, 0.8913207547169811, 0.8988679245283019, 0.8924933987174651, 0.8883440211241042], 'CV_Train_Mean_Accuracy': 0.8925448424588799, 'CV_Train_Mean_F1': 0.8973815675099924, 'CV_Train_Mean_Precision': 0.8710352990927145, 'CV_Train_Mean_Recall': 0.9253859708236438, 'CV_Train_Mean_ROC_AUC': 0.968207642243566, 'CV_Val_Accuracy_Folds': [0.861236802413273, 0.8672699849170438, 0.8627450980392157, 0.8564954682779456, 0.8670694864048338], 'CV_Val_Mean_Accuracy': 0.8629633680104624, 'CV_Val_Mean_F1': 0.869190790647217, 'CV_Val_Mean_Precision': 0.843249389549533, 'CV_Val_Mean_Recall': 0.8971598134802882, 'CV_Val_Mean_ROC_AUC': 0.9296431340981316, 'Test_Accuracy': 0.873341375150784, 'Test_F1': 0.8774795799299884, 'Test_Precision': 0.8623853211009175, 'Test_Recall': 0.8931116389548693, 'Test_ROC_AUC': 0.8730264077127288}\n",
      "Training lr on avalon...\n",
      "{'Fingerprint': 'avalon', 'Classifier': 'lr', 'CV_Train_Accuracy_Folds': [0.8977358490566038, 0.8984905660377358, 0.8984905660377358, 0.8962655601659751, 0.8906073179932101], 'CV_Train_Mean_Accuracy': 0.8963179718582521, 'CV_Train_Mean_F1': 0.8997824053655723, 'CV_Train_Mean_Precision': 0.8834177319426273, 'CV_Train_Mean_Recall': 0.9167661859177958, 'CV_Train_Mean_ROC_AUC': 0.9579469831021694, 'CV_Val_Accuracy_Folds': [0.8446455505279035, 0.8582202111613876, 0.8401206636500754, 0.8368580060422961, 0.850453172205438], 'CV_Val_Mean_Accuracy': 0.8460595207174201, 'CV_Val_Mean_F1': 0.8517055002742845, 'CV_Val_Mean_Precision': 0.8334646751145524, 'CV_Val_Mean_Recall': 0.8709834675710046, 'CV_Val_Mean_ROC_AUC': 0.9102436234362298, 'Test_Accuracy': 0.841978287092883, 'Test_F1': 0.8446026097271648, 'Test_Precision': 0.8436018957345972, 'Test_Recall': 0.8456057007125891, 'Test_ROC_AUC': 0.8419204974151182}\n",
      "Training rf on avalon...\n",
      "{'Fingerprint': 'avalon', 'Classifier': 'rf', 'CV_Train_Accuracy_Folds': [0.910188679245283, 0.9083018867924528, 0.9075471698113208, 0.9056959637872501, 0.9026782346284421], 'CV_Train_Mean_Accuracy': 0.9068823868529498, 'CV_Train_Mean_F1': 0.9096878771327781, 'CV_Train_Mean_Precision': 0.8960582486750285, 'CV_Train_Mean_Recall': 0.9237527135336976, 'CV_Train_Mean_ROC_AUC': 0.9704237962127751, 'CV_Val_Accuracy_Folds': [0.8702865761689291, 0.8657616892911011, 0.8672699849170438, 0.8534743202416919, 0.8700906344410876], 'CV_Val_Mean_Accuracy': 0.8653766410119706, 'CV_Val_Mean_F1': 0.8692602959152274, 'CV_Val_Mean_Precision': 0.8573555611347732, 'CV_Val_Mean_Recall': 0.8816889218595451, 'CV_Val_Mean_ROC_AUC': 0.9303749619457193, 'Test_Accuracy': 0.8721351025331725, 'Test_F1': 0.8747044917257684, 'Test_Precision': 0.8705882352941177, 'Test_Recall': 0.8788598574821853, 'Test_ROC_AUC': 0.872027967956779}\n",
      "Training xgb on avalon...\n",
      "{'Fingerprint': 'avalon', 'Classifier': 'xgb', 'CV_Train_Accuracy_Folds': [0.9226415094339623, 0.9256603773584906, 0.9233962264150943, 0.92078460958129, 0.92078460958129], 'CV_Train_Mean_Accuracy': 0.9226534664740255, 'CV_Train_Mean_F1': 0.9253755174872922, 'CV_Train_Mean_Precision': 0.9069692571433039, 'CV_Train_Mean_Recall': 0.9445602832570138, 'CV_Train_Mean_ROC_AUC': 0.9782319536375959, 'CV_Val_Accuracy_Folds': [0.8733031674208145, 0.8838612368024132, 0.8717948717948718, 0.8610271903323263, 0.8670694864048338], 'CV_Val_Mean_Accuracy': 0.8714111905510519, 'CV_Val_Mean_F1': 0.8757605373224264, 'CV_Val_Mean_Precision': 0.8594748568005544, 'CV_Val_Mean_Recall': 0.8929860816730253, 'CV_Val_Mean_ROC_AUC': 0.9365859861156103, 'Test_Accuracy': 0.8757539203860072, 'Test_F1': 0.8783943329397875, 'Test_Precision': 0.8732394366197183, 'Test_Recall': 0.8836104513064132, 'Test_ROC_AUC': 0.8756287550649713}\n",
      "Processing fingerprint DataFrame: df_atom-pair.csv\n",
      "Training svm on atom-pair...\n",
      "{'Fingerprint': 'atom-pair', 'Classifier': 'svm', 'CV_Train_Accuracy_Folds': [0.8886792452830189, 0.8864150943396226, 0.8856603773584906, 0.8872123726895511, 0.8853262919652961], 'CV_Train_Mean_Accuracy': 0.886658676327196, 'CV_Train_Mean_F1': 0.8866364003700742, 'CV_Train_Mean_Precision': 0.9006733153212979, 'CV_Train_Mean_Recall': 0.8730683782873114, 'CV_Train_Mean_ROC_AUC': 0.9501900700010341, 'CV_Val_Accuracy_Folds': [0.8657616892911011, 0.8672699849170438, 0.8552036199095022, 0.8655589123867069, 0.8761329305135952], 'CV_Val_Mean_Accuracy': 0.8659854274035899, 'CV_Val_Mean_F1': 0.8658520653173015, 'CV_Val_Mean_Precision': 0.8803450272203663, 'CV_Val_Mean_Recall': 0.8519694079412181, 'CV_Val_Mean_ROC_AUC': 0.9228220174299077, 'Test_Accuracy': 0.8588661037394452, 'Test_F1': 0.8571428571428571, 'Test_Precision': 0.8819095477386935, 'Test_Recall': 0.833729216152019, 'Test_ROC_AUC': 0.8592665688603232}\n",
      "Training lr on atom-pair...\n",
      "{'Fingerprint': 'atom-pair', 'Classifier': 'lr', 'CV_Train_Accuracy_Folds': [0.8920754716981132, 0.8932075471698113, 0.889811320754717, 0.8872123726895511, 0.8890984534138061], 'CV_Train_Mean_Accuracy': 0.8902810331451997, 'CV_Train_Mean_F1': 0.8923110727671473, 'CV_Train_Mean_Precision': 0.8892856033380664, 'CV_Train_Mean_Recall': 0.8953638206554462, 'CV_Train_Mean_ROC_AUC': 0.9570268981051975, 'CV_Val_Accuracy_Folds': [0.8386123680241327, 0.8431372549019608, 0.832579185520362, 0.851963746223565, 0.8398791540785498], 'CV_Val_Mean_Accuracy': 0.8412343417497141, 'CV_Val_Mean_F1': 0.8435535431681058, 'CV_Val_Mean_Precision': 0.8444652412972922, 'CV_Val_Mean_Recall': 0.8430620319344355, 'CV_Val_Mean_ROC_AUC': 0.9117408753240628, 'Test_Accuracy': 0.8407720144752714, 'Test_F1': 0.841726618705036, 'Test_Precision': 0.8498789346246973, 'Test_Recall': 0.833729216152019, 'Test_ROC_AUC': 0.8408842159191466}\n",
      "Training rf on atom-pair...\n",
      "{'Fingerprint': 'atom-pair', 'Classifier': 'rf', 'CV_Train_Accuracy_Folds': [0.9109433962264151, 0.9052830188679245, 0.9052830188679245, 0.9019238023387401, 0.9072048283666541], 'CV_Train_Mean_Accuracy': 0.9061276129335315, 'CV_Train_Mean_F1': 0.906911687403289, 'CV_Train_Mean_Precision': 0.913202526712569, 'CV_Train_Mean_Recall': 0.9007141081657342, 'CV_Train_Mean_ROC_AUC': 0.9744790954175275, 'CV_Val_Accuracy_Folds': [0.8672699849170438, 0.8748114630467572, 0.8627450980392157, 0.8625377643504532, 0.8595166163141994], 'CV_Val_Mean_Accuracy': 0.865376185333534, 'CV_Val_Mean_F1': 0.8667214900894862, 'CV_Val_Mean_Precision': 0.8716626447024144, 'CV_Val_Mean_Recall': 0.8620743252790731, 'CV_Val_Mean_ROC_AUC': 0.9300907371277336, 'Test_Accuracy': 0.8685162846803377, 'Test_F1': 0.8672350791717418, 'Test_Precision': 0.89, 'Test_Recall': 0.8456057007125891, 'Test_ROC_AUC': 0.8688812817288435}\n",
      "Training xgb on atom-pair...\n",
      "{'Fingerprint': 'atom-pair', 'Classifier': 'xgb', 'CV_Train_Accuracy_Folds': [0.9056603773584906, 0.9067924528301887, 0.9041509433962264, 0.9011693700490381, 0.9124858543945681], 'CV_Train_Mean_Accuracy': 0.9060517996057023, 'CV_Train_Mean_F1': 0.9071713294382316, 'CV_Train_Mean_Precision': 0.9102645649345531, 'CV_Train_Mean_Recall': 0.904131862547435, 'CV_Train_Mean_ROC_AUC': 0.9714466852847113, 'CV_Val_Accuracy_Folds': [0.861236802413273, 0.8717948717948718, 0.8627450980392157, 0.8580060422960725, 0.8700906344410876], 'CV_Val_Mean_Accuracy': 0.8647746897969041, 'CV_Val_Mean_F1': 0.8670976152242685, 'CV_Val_Mean_Precision': 0.8652619981218181, 'CV_Val_Mean_Recall': 0.8692154161367812, 'CV_Val_Mean_ROC_AUC': 0.9288529172977025, 'Test_Accuracy': 0.864897466827503, 'Test_F1': 0.8666666666666667, 'Test_Precision': 0.8687350835322196, 'Test_Recall': 0.8646080760095012, 'Test_ROC_AUC': 0.8649020772204369}\n",
      "Processing fingerprint DataFrame: df_fp2.csv\n",
      "Training svm on fp2...\n",
      "{'Fingerprint': 'fp2', 'Classifier': 'svm', 'CV_Train_Accuracy_Folds': [0.890188679245283, 0.8916981132075472, 0.889433962264151, 0.8853262919652961, 0.8883440211241042], 'CV_Train_Mean_Accuracy': 0.8889982135612762, 'CV_Train_Mean_F1': 0.8925876728900832, 'CV_Train_Mean_Precision': 0.8772967396382307, 'CV_Train_Mean_Recall': 0.9084431359335385, 'CV_Train_Mean_ROC_AUC': 0.9582985437942865, 'CV_Val_Accuracy_Folds': [0.861236802413273, 0.8627450980392157, 0.8552036199095022, 0.8564954682779456, 0.851963746223565], 'CV_Val_Mean_Accuracy': 0.8575289469727003, 'CV_Val_Mean_F1': 0.8620752262552658, 'CV_Val_Mean_Precision': 0.8479062729699418, 'CV_Val_Mean_Recall': 0.8769358485233856, 'CV_Val_Mean_ROC_AUC': 0.9186920001610929, 'Test_Accuracy': 0.8673100120627262, 'Test_F1': 0.8690476190476191, 'Test_Precision': 0.8711217183770883, 'Test_Recall': 0.8669833729216152, 'Test_ROC_AUC': 0.8673152158725723}\n",
      "Training lr on fp2...\n",
      "{'Fingerprint': 'fp2', 'Classifier': 'lr', 'CV_Train_Accuracy_Folds': [0.8826415094339622, 0.8769811320754717, 0.8766037735849057, 0.8762731044888721, 0.8713692946058091], 'CV_Train_Mean_Accuracy': 0.8767737628378042, 'CV_Train_Mean_F1': 0.8804716403963724, 'CV_Train_Mean_Precision': 0.8674996306332771, 'CV_Train_Mean_Recall': 0.893876389909245, 'CV_Train_Mean_ROC_AUC': 0.9487828001656957, 'CV_Val_Accuracy_Folds': [0.8205128205128205, 0.8174962292609351, 0.8220211161387632, 0.8368580060422961, 0.8398791540785498], 'CV_Val_Mean_Accuracy': 0.827353465206673, 'CV_Val_Mean_F1': 0.8316212792215081, 'CV_Val_Mean_Precision': 0.824248642240477, 'CV_Val_Mean_Recall': 0.8394870707927089, 'CV_Val_Mean_ROC_AUC': 0.9069332467380733, 'Test_Accuracy': 0.8528347406513872, 'Test_F1': 0.858139534883721, 'Test_Precision': 0.8405466970387244, 'Test_Recall': 0.8764845605700713, 'Test_ROC_AUC': 0.8524579665595454}\n",
      "Training rf on fp2...\n",
      "{'Fingerprint': 'fp2', 'Classifier': 'rf', 'CV_Train_Accuracy_Folds': [0.8890566037735849, 0.8849056603773585, 0.890188679245283, 0.8887212372689551, 0.8898528857035081], 'CV_Train_Mean_Accuracy': 0.8885450132737379, 'CV_Train_Mean_F1': 0.8912306005686329, 'CV_Train_Mean_Precision': 0.8832398241462069, 'CV_Train_Mean_Recall': 0.8993754867789457, 'CV_Train_Mean_ROC_AUC': 0.958070819248339, 'CV_Val_Accuracy_Folds': [0.8567119155354449, 0.8717948717948718, 0.8416289592760181, 0.8564954682779456, 0.851963746223565], 'CV_Val_Mean_Accuracy': 0.8557189922215691, 'CV_Val_Mean_F1': 0.8593599724909184, 'CV_Val_Mean_Precision': 0.8510427115863696, 'CV_Val_Mean_Recall': 0.8680143422354105, 'CV_Val_Mean_ROC_AUC': 0.9245312403945547, 'Test_Accuracy': 0.8540410132689988, 'Test_F1': 0.8547418967587035, 'Test_Precision': 0.8640776699029126, 'Test_Recall': 0.8456057007125891, 'Test_ROC_AUC': 0.8541753993759025}\n",
      "Training xgb on fp2...\n",
      "{'Fingerprint': 'fp2', 'Classifier': 'xgb', 'CV_Train_Accuracy_Folds': [0.890188679245283, 0.8856603773584906, 0.8856603773584906, 0.8872123726895511, 0.8890984534138061], 'CV_Train_Mean_Accuracy': 0.8875640520131242, 'CV_Train_Mean_F1': 0.8905579182878768, 'CV_Train_Mean_Precision': 0.880361087954127, 'CV_Train_Mean_Recall': 0.9010108430873247, 'CV_Train_Mean_ROC_AUC': 0.9561598467063792, 'CV_Val_Accuracy_Folds': [0.8491704374057315, 0.861236802413273, 0.8401206636500754, 0.8474320241691843, 0.8429003021148036], 'CV_Val_Mean_Accuracy': 0.8481720459506136, 'CV_Val_Mean_F1': 0.8517676761651979, 'CV_Val_Mean_Precision': 0.845161480880406, 'CV_Val_Mean_Recall': 0.8590999010880317, 'CV_Val_Mean_ROC_AUC': 0.922312180576969, 'Test_Accuracy': 0.8455971049457177, 'Test_F1': 0.84688995215311, 'Test_Precision': 0.8530120481927711, 'Test_Recall': 0.8408551068883611, 'Test_ROC_AUC': 0.8456726514833962}\n"
     ]
    }
   ],
   "source": [
    "import os\n",
    "import pandas as pd\n",
    "from sklearn.model_selection import train_test_split, StratifiedKFold, cross_validate\n",
    "from sklearn.metrics import accuracy_score, f1_score, precision_score, recall_score, roc_auc_score\n",
    "from imblearn.pipeline import Pipeline\n",
    "from sklearn.ensemble import RandomForestClassifier\n",
    "from sklearn.svm import SVC\n",
    "from sklearn.neighbors import KNeighborsClassifier\n",
    "from sklearn.naive_bayes import GaussianNB\n",
    "from sklearn.feature_selection import VarianceThreshold, SelectPercentile, chi2, SelectKBest\n",
    "import numpy as np\n",
    "\n",
    "# Define classifiers with random_state for reproducibility\n",
    "classifiers = [\n",
    "    ('svm', SVC(probability=True, random_state=kon.random_seed)),\n",
    "    ('lr', LogisticRegression(random_state=kon.random_seed, max_iter=1000)),\n",
    "    ('rf', RandomForestClassifier(\n",
    "        n_jobs=-1,\n",
    "        random_state=kon.random_seed,\n",
    "        max_features='sqrt',  # default\n",
    "        min_samples_split=5,  # Increased from default (2) to prevent overfitting\n",
    "        min_samples_leaf=5,    # Increased from default (1) to prevent very small leaf nodes\n",
    "        max_depth=20,          # Restrict the depth of the trees\n",
    "        bootstrap=True,        # Use bootstrap sampling for more generalization\n",
    "        n_estimators=100 # default value   \n",
    "    )),\n",
    "    ('xgb', XGBClassifier(\n",
    "        objective='binary:logistic',\n",
    "        eval_metric='logloss',\n",
    "        random_state=kon.random_seed,\n",
    "        n_jobs=-1,\n",
    "        max_depth=6,          # default\n",
    "        min_child_weight=5,   # Ensure a minimum sum of instance weights per leaf\n",
    "        learning_rate=0.05,   # Lower learning rate to prevent overfitting\n",
    "        n_estimators=100,     # default\n",
    "        gamma=0.3    #default=0.3\n",
    "    ))\n",
    "]\n",
    "\n",
    "# Stratified k-fold cross-validation\n",
    "cv = StratifiedKFold(n_splits=5, shuffle=True, random_state=kon.random_seed)\n",
    "scoring = {'accuracy': 'accuracy', 'f1': 'f1', 'precision': 'precision', 'recall': 'recall', 'roc_auc': 'roc_auc'}\n",
    "results_list = []\n",
    "\n",
    "for filename in generated_fingerprints:\n",
    "    file_path = os.path.join(input_directory, filename)\n",
    "    \n",
    "    if os.path.exists(file_path):\n",
    "        print(f'Processing fingerprint DataFrame: {filename}')\n",
    "        \n",
    "        df = pd.read_csv(file_path)\n",
    "        fingerprint_name = filename.split('df_')[1].split('.')[0]\n",
    "        y = df['Activity'].values.ravel()\n",
    "        X = df.iloc[:, 3:]\n",
    "        \n",
    "        # Train-test split (Stratified split ensures balanced classes)\n",
    "        X_train, X_test, y_train, y_test = train_test_split(X, y, test_size=0.2, random_state=kon.random_seed, stratify=y)\n",
    "\n",
    "        # Iterate over classifiers (we are not using other feature selection or dimensionality reduction in this case)\n",
    "        for clf_name, classifier in classifiers:\n",
    "            print(f\"Training {clf_name} on {fingerprint_name}...\")\n",
    "            \n",
    "            # Define the pipeline steps, adding SelectPercentile to select 50% of features\n",
    "            steps = [\n",
    "                ('variance_threshold', VarianceThreshold()),  # Apply Variance Threshold to remove low-variance features\n",
    "                ('SelectKBest', SelectKBest(score_func=chi2, k = 300)),  # Apply SelectPercentile to select 50% of features\n",
    "                ('classifier', classifier)  # Add the classifier\n",
    "            ]\n",
    "            \n",
    "            # Create the pipeline with VarianceThreshold, SelectPercentile, and the classifier\n",
    "            pipeline = Pipeline(steps)\n",
    "            \n",
    "            # Cross-validation\n",
    "            cv_results = cross_validate(pipeline, X_train, y_train, cv=cv, scoring=scoring, return_train_score=True)\n",
    "            \n",
    "            # Fit the pipeline on the entire training set\n",
    "            pipeline.fit(X_train, y_train)\n",
    "            \n",
    "            # Validation set evaluation (we are using this to test after training on the entire training data)\n",
    "            y_test_pred = pipeline.predict(X_test)\n",
    "            test_accuracy = accuracy_score(y_test, y_test_pred)\n",
    "            test_f1 = f1_score(y_test, y_test_pred)\n",
    "            test_precision = precision_score(y_test, y_test_pred)\n",
    "            test_recall = recall_score(y_test, y_test_pred)\n",
    "            test_roc_auc = roc_auc_score(y_test, y_test_pred)\n",
    "            \n",
    "            # Store the results with corrected labels\n",
    "            results_temp = {\n",
    "                'Fingerprint': fingerprint_name,\n",
    "                'Classifier': clf_name,\n",
    "                'CV_Train_Accuracy_Folds': list(cv_results['train_accuracy']),  # Training accuracy for each fold\n",
    "                'CV_Train_Mean_Accuracy': cv_results['train_accuracy'].mean(),\n",
    "                'CV_Train_Mean_F1': cv_results['train_f1'].mean(),\n",
    "                'CV_Train_Mean_Precision': cv_results['train_precision'].mean(),\n",
    "                'CV_Train_Mean_Recall': cv_results['train_recall'].mean(),\n",
    "                'CV_Train_Mean_ROC_AUC': cv_results['train_roc_auc'].mean(),\n",
    "                'CV_Val_Accuracy_Folds': list(cv_results['test_accuracy']),  # Validation accuracy for each fold\n",
    "                'CV_Val_Mean_Accuracy': cv_results['test_accuracy'].mean(),\n",
    "                'CV_Val_Mean_F1': cv_results['test_f1'].mean(),\n",
    "                'CV_Val_Mean_Precision': cv_results['test_precision'].mean(),\n",
    "                'CV_Val_Mean_Recall': cv_results['test_recall'].mean(),\n",
    "                'CV_Val_Mean_ROC_AUC': cv_results['test_roc_auc'].mean(),\n",
    "                'Test_Accuracy': test_accuracy,  # Test accuracy\n",
    "                'Test_F1': test_f1,\n",
    "                'Test_Precision': test_precision,\n",
    "                'Test_Recall': test_recall,\n",
    "                'Test_ROC_AUC': test_roc_auc\n",
    "            }\n",
    "            \n",
    "            results_list.append(results_temp)\n",
    "            print(results_temp)\n",
    "\n",
    "# Store all results in a DataFrame\n",
    "results_df = pd.DataFrame(results_list)"
   ]
  },
  {
   "cell_type": "code",
   "execution_count": 7,
   "id": "cb5bb354-a4e4-4e2a-82be-dfcb6338f5d3",
   "metadata": {},
   "outputs": [],
   "source": [
    "results_df.to_csv(f'{kon.path_files}/rezultati_modelov/results_df_new3.csv', index=False)"
   ]
  }
 ],
 "metadata": {
  "kernelspec": {
   "display_name": "Python 3 (ipykernel)",
   "language": "python",
   "name": "python3"
  },
  "language_info": {
   "codemirror_mode": {
    "name": "ipython",
    "version": 3
   },
   "file_extension": ".py",
   "mimetype": "text/x-python",
   "name": "python",
   "nbconvert_exporter": "python",
   "pygments_lexer": "ipython3",
   "version": "3.10.11"
  }
 },
 "nbformat": 4,
 "nbformat_minor": 5
}
