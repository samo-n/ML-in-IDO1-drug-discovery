{
 "cells": [
  {
   "cell_type": "code",
   "execution_count": null,
   "id": "957be96c-0107-4a41-9f2a-e3cc64cc8e8d",
   "metadata": {},
   "outputs": [],
   "source": []
  }
 ],
 "metadata": {
  "kernelspec": {
   "display_name": "",
   "name": ""
  },
  "language_info": {
   "name": ""
  }
 },
 "nbformat": 4,
 "nbformat_minor": 5
}
